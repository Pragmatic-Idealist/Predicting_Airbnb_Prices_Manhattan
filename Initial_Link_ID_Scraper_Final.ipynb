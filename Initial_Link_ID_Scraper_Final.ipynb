{
 "cells": [
  {
   "cell_type": "code",
   "execution_count": 1,
   "metadata": {
    "ExecuteTime": {
     "end_time": "2019-07-13T14:47:41.130460Z",
     "start_time": "2019-07-13T14:47:41.128517Z"
    }
   },
   "outputs": [],
   "source": [
    "#Airbnb Listing ID and Link Scraper\n",
    "#This program scrapes the links and unique listing_ids of the listings inside the search results for Airbnb Queries\n",
    "#It contains a while loop that compares the old url to the new url of the next page of the search results\n",
    "#If the old url is the same as new url, that means that is the end of the search results (Max is usually 17 pages)\n",
    "#The links and IDs are then saved in a dictionary and saved in csv files based on the queries being used"
   ]
  },
  {
   "cell_type": "code",
   "execution_count": 124,
   "metadata": {
    "ExecuteTime": {
     "end_time": "2019-07-15T21:47:25.842214Z",
     "start_time": "2019-07-15T21:47:25.837721Z"
    }
   },
   "outputs": [],
   "source": [
    "#import all libraries\n",
    "\n",
    "from __future__ import print_function, division\n",
    "from bs4 import BeautifulSoup #importing soup\n",
    "from selenium import webdriver\n",
    "from selenium.webdriver.common.keys import Keys\n",
    "import time\n",
    "import os\n",
    "chromedriver = \"/Applications/chromedriver\" # path to the chromedriver executable\n",
    "os.environ[\"webdriver.chrome.driver\"] = chromedriver\n",
    "#importing libraries\n",
    "import re\n",
    "import requests\n",
    "import time\n",
    "import random\n",
    "import pandas as pd\n",
    "requests.__path__\n",
    "\n",
    "from selenium.webdriver.support.ui import WebDriverWait\n",
    "from selenium.webdriver.support import expected_conditions as EC\n",
    "from selenium.webdriver.common.by import By\n"
   ]
  },
  {
   "cell_type": "code",
   "execution_count": 205,
   "metadata": {
    "ExecuteTime": {
     "end_time": "2019-07-15T22:08:50.936838Z",
     "start_time": "2019-07-15T22:08:49.063951Z"
    }
   },
   "outputs": [],
   "source": [
    "#setup queries for different locations\n",
    "downtown = 'https://www.airbnb.com/s/Lower-Manhattan--New-York--NY--United-States/homes?refinement_paths%5B%5D=%2Fhomes&toddlers=0&search_type=autocomplete_click&checkin=2019-12-25&checkout=2019-12-26&adults=1&place_id=ChIJi4MZVIhZwokRPNvWbi-c0wI&s_tag=S2nyeCsb'\n",
    "midtown = 'https://www.airbnb.com/s/Midtown--New-York--NY--United-States/homes?refinement_paths%5B%5D=%2Fhomes&toddlers=0&place_id=ChIJqXwSpAFZwokR28_WgZDMzb4&search_type=autocomplete_click&checkin=2019-12-25&checkout=2019-12-26&adults=1&s_tag=y_k8JEnt'\n",
    "centralpark = 'https://www.airbnb.com/s/Central-Park--New-York--NY--United-States/homes?refinement_paths%5B%5D=%2Fhomes&toddlers=0&place_id=ChIJ4zGFAZpYwokRGUGph3Mf37k&search_type=autocomplete_click&checkin=2019-12-25&checkout=2019-12-26&adults=1&s_tag=0uae9TOm'\n",
    "uptown= 'https://www.airbnb.com/s/Upper-Manhattan--New-York--NY--United-States/homes?refinement_paths%5B%5D=%2Fhomes&toddlers=0&place_id=ChIJY50xHxP2wokR7WhhDNRmgRU&search_type=autocomplete_click&checkin=2019-12-25&checkout=2019-12-26&adults=1&s_tag=f-00FCHO'\n",
    "\n",
    "downtown_shared = 'https://www.airbnb.com/s/Downtown--New-York--NY--United-States/homes?refinement_paths%5B%5D=%2Fhomes&toddlers=0&search_type=unknown&zoom=14&search_by_map=true&sw_lat=40.70267570229368&sw_lng=-74.03261788195204&ne_lat=40.755425412760644&ne_lng=-73.96180756395887&checkin=2019-12-25&checkout=2019-12-26&adults=1&room_types%5B%5D=Shared%20room&place_id=ChIJi4MZVIhZwokRPNvWbi-c0wI&s_tag=JE0WGUVW'\n",
    "midtown_shared = 'https://www.airbnb.com/s/Midtown--New-York--NY--United-States/homes?refinement_paths%5B%5D=%2Fhomes&toddlers=0&search_type=unknown&zoom=15&search_by_map=true&sw_lat=40.74177156077865&sw_lng=-74.00153543426427&ne_lat=40.76813614825684&ne_lng=-73.96613027526769&checkin=2019-12-25&checkout=2019-12-26&adults=1&room_types%5B%5D=Shared%20room&place_id=ChIJqXwSpAFZwokR28_WgZDMzb4&s_tag=P7xWps2U'\n",
    "centralpark_shared = 'https://www.airbnb.com/s/Central-Park--New-York--NY--United-States/homes?refinement_paths%5B%5D=%2Fhomes&toddlers=0&place_id=ChIJ4zGFAZpYwokRGUGph3Mf37k&search_type=autocomplete_click&checkin=2019-12-25&checkout=2019-12-26&adults=1&room_types%5B%5D=Shared%20room&s_tag=9MvPjDYp'\n",
    "uptown_shared = 'https://www.airbnb.com/s/uptown--New-York--NY--United-States/homes?refinement_paths%5B%5D=%2Fhomes&toddlers=0&search_type=search_query&checkin=2019-12-25&checkout=2019-12-26&adults=1&room_types%5B%5D=Shared%20room&place_id=ChIJY50xHxP2wokR7WhhDNRmgRU&s_tag=AVDnunhc'\n",
    "#define driver\n",
    "driver = webdriver.Chrome(chromedriver)\n",
    "\n",
    "#define manhattan sample\n",
    "manhattan = [uptown, downtown_shared, midtown_shared, centralpark_shared, uptown_shared]\n",
    "\n",
    "#driver get link\n",
    "id_list = []\n",
    "link_list = []\n",
    "\n",
    "#url for previous page\n",
    "old_url = \"\"\n",
    "\n",
    "#counter for page nunmber\n",
    "\n",
    "counter = 1\n",
    "\n"
   ]
  },
  {
   "cell_type": "code",
   "execution_count": 206,
   "metadata": {
    "ExecuteTime": {
     "end_time": "2019-07-15T22:09:06.392525Z",
     "start_time": "2019-07-15T22:09:04.770474Z"
    }
   },
   "outputs": [],
   "source": [
    "#loop through getting links and ids\n",
    "driver.get(manhattan[4])\n",
    "\n",
    "#restart = \"https://www.airbnb.com/s/Upper-Manhattan--New-York--NY--United-States/homes?refinement_paths%5B%5D=%2Fhomes&toddlers=0&place_id=ChIJY50xHxP2wokR7WhhDNRmgRU&search_type=pagination&s_tag=f-00FCHO&section_offset=7&items_offset=216&checkin=2019-12-25&checkout=2019-12-26&adults=1\"\n",
    "#driver.get(restart)"
   ]
  },
  {
   "cell_type": "code",
   "execution_count": 207,
   "metadata": {
    "ExecuteTime": {
     "end_time": "2019-07-15T22:09:41.178534Z",
     "start_time": "2019-07-15T22:09:07.839154Z"
    }
   },
   "outputs": [
    {
     "name": "stdout",
     "output_type": "stream",
     "text": [
      "1\n",
      "2\n"
     ]
    }
   ],
   "source": [
    "while old_url != driver.current_url:\n",
    "    #### WAIT FOR PAGE LOADS\n",
    "    try:\n",
    "        WebDriverWait(driver, 30).until(EC.presence_of_element_located((By.CLASS_NAME, \"_r4n1gzb\")))\n",
    "    except:\n",
    "        print(\"Page Taking Longer to Load\")\n",
    "        WebDriverWait(driver, 30).until(EC.presence_of_element_located((By.CLASS_NAME, \"_1dss1omb\")))\n",
    "    #### PAGE LOADED\n",
    "    \n",
    "    #soupify or reupdate and soupify html in soup AFTER PAGE LOADS\n",
    "    soup = BeautifulSoup(driver.page_source, 'html.parser')\n",
    "    \n",
    "    #Get unique listing ids\n",
    "    listings = soup.findAll(class_ ='_qlq27g') #this is the class that ids are located in\n",
    "    for div in listings:\n",
    "        id_list.append(div.find('a')['target'])\n",
    "        \n",
    "    #Get links for next scraper\n",
    "    links = soup.findAll(class_ ='_qlq27g') #find all the links\n",
    "    for div in links:\n",
    "        link_list.append('https://www.airbnb.com' + div.find('a')['href'])\n",
    "        \n",
    "    \n",
    "    #Print page number scraped\n",
    "    \n",
    "    print(counter)\n",
    "    \n",
    "    counter = counter + 1\n",
    "    \n",
    "    #Move to Next Page in Search Results also adding timedelay so that we don't get blocked\n",
    "    \n",
    "    time.sleep(15)\n",
    "    \n",
    "    #time.sleep(7+2*random.random()) #random sleep to mimic a human to be safe make it 9 seconds at least\n",
    "    try:    \n",
    "        next_url = soup.find('li', {'class': '_r4n1gzb'}).a['href']#find next_url \n",
    "    \n",
    "    except:\n",
    "        \n",
    "        print('Exception Occurred, trying again')\n",
    "   \n",
    "        continue #continues next loop not next line\n",
    "   \n",
    "    \n",
    "    #set old_url to current_url for comparisson in for loop\n",
    "    old_url = driver.current_url\n",
    "    \n",
    "    driver.get(\"https://www.airbnb.com\"+next_url) #move to new page\n",
    "    \n",
    "    "
   ]
  },
  {
   "cell_type": "code",
   "execution_count": 208,
   "metadata": {
    "ExecuteTime": {
     "end_time": "2019-07-15T22:10:41.252834Z",
     "start_time": "2019-07-15T22:10:41.249267Z"
    }
   },
   "outputs": [
    {
     "data": {
      "text/plain": [
       "31"
      ]
     },
     "execution_count": 208,
     "metadata": {},
     "output_type": "execute_result"
    }
   ],
   "source": [
    "len(link_list)"
   ]
  },
  {
   "cell_type": "code",
   "execution_count": 209,
   "metadata": {
    "ExecuteTime": {
     "end_time": "2019-07-15T22:10:43.362726Z",
     "start_time": "2019-07-15T22:10:43.358991Z"
    }
   },
   "outputs": [
    {
     "data": {
      "text/plain": [
       "31"
      ]
     },
     "execution_count": 209,
     "metadata": {},
     "output_type": "execute_result"
    }
   ],
   "source": [
    "len(id_list)"
   ]
  },
  {
   "cell_type": "code",
   "execution_count": 210,
   "metadata": {
    "ExecuteTime": {
     "end_time": "2019-07-15T22:10:44.167739Z",
     "start_time": "2019-07-15T22:10:44.003034Z"
    }
   },
   "outputs": [],
   "source": [
    "driver.close()"
   ]
  },
  {
   "cell_type": "code",
   "execution_count": 211,
   "metadata": {
    "ExecuteTime": {
     "end_time": "2019-07-15T22:10:45.109642Z",
     "start_time": "2019-07-15T22:10:45.103808Z"
    }
   },
   "outputs": [
    {
     "name": "stdout",
     "output_type": "stream",
     "text": [
      "['31103138']\n",
      "['31103138', '31267520']\n",
      "['31103138', '31267520', '34791645']\n",
      "['31103138', '31267520', '34791645', '27045165']\n",
      "['31103138', '31267520', '34791645', '27045165', '36077664']\n",
      "['31103138', '31267520', '34791645', '27045165', '36077664', '10126128']\n",
      "['31103138', '31267520', '34791645', '27045165', '36077664', '10126128', '36075404']\n",
      "['31103138', '31267520', '34791645', '27045165', '36077664', '10126128', '36075404', '6155877']\n",
      "['31103138', '31267520', '34791645', '27045165', '36077664', '10126128', '36075404', '6155877', '36286131']\n",
      "['31103138', '31267520', '34791645', '27045165', '36077664', '10126128', '36075404', '6155877', '36286131', '34124248']\n",
      "['31103138', '31267520', '34791645', '27045165', '36077664', '10126128', '36075404', '6155877', '36286131', '34124248', '23461056']\n",
      "['31103138', '31267520', '34791645', '27045165', '36077664', '10126128', '36075404', '6155877', '36286131', '34124248', '23461056', '14655004']\n",
      "['31103138', '31267520', '34791645', '27045165', '36077664', '10126128', '36075404', '6155877', '36286131', '34124248', '23461056', '14655004', '11627123']\n",
      "['31103138', '31267520', '34791645', '27045165', '36077664', '10126128', '36075404', '6155877', '36286131', '34124248', '23461056', '14655004', '11627123', '15174230']\n",
      "['31103138', '31267520', '34791645', '27045165', '36077664', '10126128', '36075404', '6155877', '36286131', '34124248', '23461056', '14655004', '11627123', '15174230', '28860221']\n",
      "['31103138', '31267520', '34791645', '27045165', '36077664', '10126128', '36075404', '6155877', '36286131', '34124248', '23461056', '14655004', '11627123', '15174230', '28860221', '34624240']\n",
      "['31103138', '31267520', '34791645', '27045165', '36077664', '10126128', '36075404', '6155877', '36286131', '34124248', '23461056', '14655004', '11627123', '15174230', '28860221', '34624240', '33987446']\n",
      "['31103138', '31267520', '34791645', '27045165', '36077664', '10126128', '36075404', '6155877', '36286131', '34124248', '23461056', '14655004', '11627123', '15174230', '28860221', '34624240', '33987446', '34665824']\n",
      "['31103138', '31267520', '34791645', '27045165', '36077664', '10126128', '36075404', '6155877', '36286131', '34124248', '23461056', '14655004', '11627123', '15174230', '28860221', '34624240', '33987446', '34665824', '34665824']\n",
      "['31103138', '31267520', '34791645', '27045165', '36077664', '10126128', '36075404', '6155877', '36286131', '34124248', '23461056', '14655004', '11627123', '15174230', '28860221', '34624240', '33987446', '34665824', '34665824', '34718463']\n",
      "['31103138', '31267520', '34791645', '27045165', '36077664', '10126128', '36075404', '6155877', '36286131', '34124248', '23461056', '14655004', '11627123', '15174230', '28860221', '34624240', '33987446', '34665824', '34665824', '34718463', '7711899']\n",
      "['31103138', '31267520', '34791645', '27045165', '36077664', '10126128', '36075404', '6155877', '36286131', '34124248', '23461056', '14655004', '11627123', '15174230', '28860221', '34624240', '33987446', '34665824', '34665824', '34718463', '7711899', '5046894']\n",
      "['31103138', '31267520', '34791645', '27045165', '36077664', '10126128', '36075404', '6155877', '36286131', '34124248', '23461056', '14655004', '11627123', '15174230', '28860221', '34624240', '33987446', '34665824', '34665824', '34718463', '7711899', '5046894', '34718633']\n",
      "['31103138', '31267520', '34791645', '27045165', '36077664', '10126128', '36075404', '6155877', '36286131', '34124248', '23461056', '14655004', '11627123', '15174230', '28860221', '34624240', '33987446', '34665824', '34665824', '34718463', '7711899', '5046894', '34718633', '13001082']\n",
      "['31103138', '31267520', '34791645', '27045165', '36077664', '10126128', '36075404', '6155877', '36286131', '34124248', '23461056', '14655004', '11627123', '15174230', '28860221', '34624240', '33987446', '34665824', '34665824', '34718463', '7711899', '5046894', '34718633', '13001082', '34126672']\n",
      "['31103138', '31267520', '34791645', '27045165', '36077664', '10126128', '36075404', '6155877', '36286131', '34124248', '23461056', '14655004', '11627123', '15174230', '28860221', '34624240', '33987446', '34665824', '34665824', '34718463', '7711899', '5046894', '34718633', '13001082', '34126672', '34782691']\n",
      "['31103138', '31267520', '34791645', '27045165', '36077664', '10126128', '36075404', '6155877', '36286131', '34124248', '23461056', '14655004', '11627123', '15174230', '28860221', '34624240', '33987446', '34665824', '34665824', '34718463', '7711899', '5046894', '34718633', '13001082', '34126672', '34782691', '3979714']\n",
      "['31103138', '31267520', '34791645', '27045165', '36077664', '10126128', '36075404', '6155877', '36286131', '34124248', '23461056', '14655004', '11627123', '15174230', '28860221', '34624240', '33987446', '34665824', '34665824', '34718463', '7711899', '5046894', '34718633', '13001082', '34126672', '34782691', '3979714', '851130']\n",
      "['31103138', '31267520', '34791645', '27045165', '36077664', '10126128', '36075404', '6155877', '36286131', '34124248', '23461056', '14655004', '11627123', '15174230', '28860221', '34624240', '33987446', '34665824', '34665824', '34718463', '7711899', '5046894', '34718633', '13001082', '34126672', '34782691', '3979714', '851130', '3120957']\n",
      "['31103138', '31267520', '34791645', '27045165', '36077664', '10126128', '36075404', '6155877', '36286131', '34124248', '23461056', '14655004', '11627123', '15174230', '28860221', '34624240', '33987446', '34665824', '34665824', '34718463', '7711899', '5046894', '34718633', '13001082', '34126672', '34782691', '3979714', '851130', '3120957', '3550879']\n",
      "['31103138', '31267520', '34791645', '27045165', '36077664', '10126128', '36075404', '6155877', '36286131', '34124248', '23461056', '14655004', '11627123', '15174230', '28860221', '34624240', '33987446', '34665824', '34665824', '34718463', '7711899', '5046894', '34718633', '13001082', '34126672', '34782691', '3979714', '851130', '3120957', '3550879', '6991749']\n"
     ]
    }
   ],
   "source": [
    "#clean id_list\n",
    "new_list =[]\n",
    "for listing in id_list:\n",
    "    listing = listing.replace(\"listing_\", '')\n",
    "    \n",
    "    new_list.append(listing)\n",
    "    \n",
    "    print (new_list)\n",
    "    \n",
    "id_list = new_list"
   ]
  },
  {
   "cell_type": "code",
   "execution_count": 212,
   "metadata": {
    "ExecuteTime": {
     "end_time": "2019-07-15T22:10:45.645754Z",
     "start_time": "2019-07-15T22:10:45.641937Z"
    }
   },
   "outputs": [
    {
     "data": {
      "text/plain": [
       "['31103138',\n",
       " '31267520',\n",
       " '34791645',\n",
       " '27045165',\n",
       " '36077664',\n",
       " '10126128',\n",
       " '36075404',\n",
       " '6155877',\n",
       " '36286131',\n",
       " '34124248',\n",
       " '23461056',\n",
       " '14655004',\n",
       " '11627123',\n",
       " '15174230',\n",
       " '28860221',\n",
       " '34624240',\n",
       " '33987446',\n",
       " '34665824',\n",
       " '34665824',\n",
       " '34718463',\n",
       " '7711899',\n",
       " '5046894',\n",
       " '34718633',\n",
       " '13001082',\n",
       " '34126672',\n",
       " '34782691',\n",
       " '3979714',\n",
       " '851130',\n",
       " '3120957',\n",
       " '3550879',\n",
       " '6991749']"
      ]
     },
     "execution_count": 212,
     "metadata": {},
     "output_type": "execute_result"
    }
   ],
   "source": [
    "id_list"
   ]
  },
  {
   "cell_type": "code",
   "execution_count": 215,
   "metadata": {
    "ExecuteTime": {
     "end_time": "2019-07-15T22:11:03.037586Z",
     "start_time": "2019-07-15T22:11:03.027993Z"
    }
   },
   "outputs": [
    {
     "data": {
      "text/html": [
       "<div>\n",
       "<style scoped>\n",
       "    .dataframe tbody tr th:only-of-type {\n",
       "        vertical-align: middle;\n",
       "    }\n",
       "\n",
       "    .dataframe tbody tr th {\n",
       "        vertical-align: top;\n",
       "    }\n",
       "\n",
       "    .dataframe thead th {\n",
       "        text-align: right;\n",
       "    }\n",
       "</style>\n",
       "<table border=\"1\" class=\"dataframe\">\n",
       "  <thead>\n",
       "    <tr style=\"text-align: right;\">\n",
       "      <th></th>\n",
       "      <th>ID</th>\n",
       "      <th>Link</th>\n",
       "    </tr>\n",
       "  </thead>\n",
       "  <tbody>\n",
       "    <tr>\n",
       "      <th>0</th>\n",
       "      <td>31103138</td>\n",
       "      <td>https://www.airbnb.com/rooms/31103138?location...</td>\n",
       "    </tr>\n",
       "    <tr>\n",
       "      <th>1</th>\n",
       "      <td>31267520</td>\n",
       "      <td>https://www.airbnb.com/rooms/31267520?location...</td>\n",
       "    </tr>\n",
       "    <tr>\n",
       "      <th>2</th>\n",
       "      <td>34791645</td>\n",
       "      <td>https://www.airbnb.com/rooms/34791645?location...</td>\n",
       "    </tr>\n",
       "    <tr>\n",
       "      <th>3</th>\n",
       "      <td>27045165</td>\n",
       "      <td>https://www.airbnb.com/rooms/27045165?location...</td>\n",
       "    </tr>\n",
       "    <tr>\n",
       "      <th>4</th>\n",
       "      <td>36077664</td>\n",
       "      <td>https://www.airbnb.com/rooms/36077664?location...</td>\n",
       "    </tr>\n",
       "    <tr>\n",
       "      <th>5</th>\n",
       "      <td>10126128</td>\n",
       "      <td>https://www.airbnb.com/rooms/10126128?location...</td>\n",
       "    </tr>\n",
       "    <tr>\n",
       "      <th>6</th>\n",
       "      <td>36075404</td>\n",
       "      <td>https://www.airbnb.com/rooms/36075404?location...</td>\n",
       "    </tr>\n",
       "    <tr>\n",
       "      <th>7</th>\n",
       "      <td>6155877</td>\n",
       "      <td>https://www.airbnb.com/rooms/6155877?location=...</td>\n",
       "    </tr>\n",
       "    <tr>\n",
       "      <th>8</th>\n",
       "      <td>36286131</td>\n",
       "      <td>https://www.airbnb.com/rooms/36286131?location...</td>\n",
       "    </tr>\n",
       "    <tr>\n",
       "      <th>9</th>\n",
       "      <td>34124248</td>\n",
       "      <td>https://www.airbnb.com/rooms/34124248?location...</td>\n",
       "    </tr>\n",
       "    <tr>\n",
       "      <th>10</th>\n",
       "      <td>23461056</td>\n",
       "      <td>https://www.airbnb.com/rooms/23461056?location...</td>\n",
       "    </tr>\n",
       "    <tr>\n",
       "      <th>11</th>\n",
       "      <td>14655004</td>\n",
       "      <td>https://www.airbnb.com/rooms/14655004?location...</td>\n",
       "    </tr>\n",
       "    <tr>\n",
       "      <th>12</th>\n",
       "      <td>11627123</td>\n",
       "      <td>https://www.airbnb.com/rooms/11627123?location...</td>\n",
       "    </tr>\n",
       "    <tr>\n",
       "      <th>13</th>\n",
       "      <td>15174230</td>\n",
       "      <td>https://www.airbnb.com/rooms/15174230?location...</td>\n",
       "    </tr>\n",
       "    <tr>\n",
       "      <th>14</th>\n",
       "      <td>28860221</td>\n",
       "      <td>https://www.airbnb.com/rooms/28860221?location...</td>\n",
       "    </tr>\n",
       "    <tr>\n",
       "      <th>15</th>\n",
       "      <td>34624240</td>\n",
       "      <td>https://www.airbnb.com/rooms/34624240?location...</td>\n",
       "    </tr>\n",
       "    <tr>\n",
       "      <th>16</th>\n",
       "      <td>33987446</td>\n",
       "      <td>https://www.airbnb.com/rooms/33987446?location...</td>\n",
       "    </tr>\n",
       "    <tr>\n",
       "      <th>17</th>\n",
       "      <td>34665824</td>\n",
       "      <td>https://www.airbnb.com/rooms/34665824?location...</td>\n",
       "    </tr>\n",
       "    <tr>\n",
       "      <th>18</th>\n",
       "      <td>34665824</td>\n",
       "      <td>https://www.airbnb.com/rooms/34665824?location...</td>\n",
       "    </tr>\n",
       "    <tr>\n",
       "      <th>19</th>\n",
       "      <td>34718463</td>\n",
       "      <td>https://www.airbnb.com/rooms/34718463?location...</td>\n",
       "    </tr>\n",
       "    <tr>\n",
       "      <th>20</th>\n",
       "      <td>7711899</td>\n",
       "      <td>https://www.airbnb.com/rooms/7711899?location=...</td>\n",
       "    </tr>\n",
       "    <tr>\n",
       "      <th>21</th>\n",
       "      <td>5046894</td>\n",
       "      <td>https://www.airbnb.com/rooms/5046894?location=...</td>\n",
       "    </tr>\n",
       "    <tr>\n",
       "      <th>22</th>\n",
       "      <td>34718633</td>\n",
       "      <td>https://www.airbnb.com/rooms/34718633?location...</td>\n",
       "    </tr>\n",
       "    <tr>\n",
       "      <th>23</th>\n",
       "      <td>13001082</td>\n",
       "      <td>https://www.airbnb.com/rooms/13001082?location...</td>\n",
       "    </tr>\n",
       "    <tr>\n",
       "      <th>24</th>\n",
       "      <td>34126672</td>\n",
       "      <td>https://www.airbnb.com/rooms/34126672?location...</td>\n",
       "    </tr>\n",
       "    <tr>\n",
       "      <th>25</th>\n",
       "      <td>34782691</td>\n",
       "      <td>https://www.airbnb.com/rooms/34782691?location...</td>\n",
       "    </tr>\n",
       "    <tr>\n",
       "      <th>26</th>\n",
       "      <td>3979714</td>\n",
       "      <td>https://www.airbnb.com/rooms/3979714?location=...</td>\n",
       "    </tr>\n",
       "    <tr>\n",
       "      <th>27</th>\n",
       "      <td>851130</td>\n",
       "      <td>https://www.airbnb.com/rooms/851130?location=u...</td>\n",
       "    </tr>\n",
       "    <tr>\n",
       "      <th>28</th>\n",
       "      <td>3120957</td>\n",
       "      <td>https://www.airbnb.com/rooms/3120957?location=...</td>\n",
       "    </tr>\n",
       "    <tr>\n",
       "      <th>29</th>\n",
       "      <td>3550879</td>\n",
       "      <td>https://www.airbnb.com/rooms/3550879?location=...</td>\n",
       "    </tr>\n",
       "    <tr>\n",
       "      <th>30</th>\n",
       "      <td>6991749</td>\n",
       "      <td>https://www.airbnb.com/rooms/6991749?location=...</td>\n",
       "    </tr>\n",
       "  </tbody>\n",
       "</table>\n",
       "</div>"
      ],
      "text/plain": [
       "          ID                                               Link\n",
       "0   31103138  https://www.airbnb.com/rooms/31103138?location...\n",
       "1   31267520  https://www.airbnb.com/rooms/31267520?location...\n",
       "2   34791645  https://www.airbnb.com/rooms/34791645?location...\n",
       "3   27045165  https://www.airbnb.com/rooms/27045165?location...\n",
       "4   36077664  https://www.airbnb.com/rooms/36077664?location...\n",
       "5   10126128  https://www.airbnb.com/rooms/10126128?location...\n",
       "6   36075404  https://www.airbnb.com/rooms/36075404?location...\n",
       "7    6155877  https://www.airbnb.com/rooms/6155877?location=...\n",
       "8   36286131  https://www.airbnb.com/rooms/36286131?location...\n",
       "9   34124248  https://www.airbnb.com/rooms/34124248?location...\n",
       "10  23461056  https://www.airbnb.com/rooms/23461056?location...\n",
       "11  14655004  https://www.airbnb.com/rooms/14655004?location...\n",
       "12  11627123  https://www.airbnb.com/rooms/11627123?location...\n",
       "13  15174230  https://www.airbnb.com/rooms/15174230?location...\n",
       "14  28860221  https://www.airbnb.com/rooms/28860221?location...\n",
       "15  34624240  https://www.airbnb.com/rooms/34624240?location...\n",
       "16  33987446  https://www.airbnb.com/rooms/33987446?location...\n",
       "17  34665824  https://www.airbnb.com/rooms/34665824?location...\n",
       "18  34665824  https://www.airbnb.com/rooms/34665824?location...\n",
       "19  34718463  https://www.airbnb.com/rooms/34718463?location...\n",
       "20   7711899  https://www.airbnb.com/rooms/7711899?location=...\n",
       "21   5046894  https://www.airbnb.com/rooms/5046894?location=...\n",
       "22  34718633  https://www.airbnb.com/rooms/34718633?location...\n",
       "23  13001082  https://www.airbnb.com/rooms/13001082?location...\n",
       "24  34126672  https://www.airbnb.com/rooms/34126672?location...\n",
       "25  34782691  https://www.airbnb.com/rooms/34782691?location...\n",
       "26   3979714  https://www.airbnb.com/rooms/3979714?location=...\n",
       "27    851130  https://www.airbnb.com/rooms/851130?location=u...\n",
       "28   3120957  https://www.airbnb.com/rooms/3120957?location=...\n",
       "29   3550879  https://www.airbnb.com/rooms/3550879?location=...\n",
       "30   6991749  https://www.airbnb.com/rooms/6991749?location=..."
      ]
     },
     "execution_count": 215,
     "metadata": {},
     "output_type": "execute_result"
    }
   ],
   "source": [
    "#Create a dataframe from lists generated\n",
    "\n",
    "df = pd.DataFrame(list(zip(id_list, link_list)), columns =['ID','Link' ]) \n",
    "\n",
    "df"
   ]
  },
  {
   "cell_type": "code",
   "execution_count": 216,
   "metadata": {
    "ExecuteTime": {
     "end_time": "2019-07-15T22:11:04.086830Z",
     "start_time": "2019-07-15T22:11:04.076340Z"
    }
   },
   "outputs": [
    {
     "data": {
      "text/html": [
       "<div>\n",
       "<style scoped>\n",
       "    .dataframe tbody tr th:only-of-type {\n",
       "        vertical-align: middle;\n",
       "    }\n",
       "\n",
       "    .dataframe tbody tr th {\n",
       "        vertical-align: top;\n",
       "    }\n",
       "\n",
       "    .dataframe thead th {\n",
       "        text-align: right;\n",
       "    }\n",
       "</style>\n",
       "<table border=\"1\" class=\"dataframe\">\n",
       "  <thead>\n",
       "    <tr style=\"text-align: right;\">\n",
       "      <th></th>\n",
       "      <th>ID</th>\n",
       "      <th>Link</th>\n",
       "      <th>Neighborhood</th>\n",
       "    </tr>\n",
       "  </thead>\n",
       "  <tbody>\n",
       "    <tr>\n",
       "      <th>0</th>\n",
       "      <td>31103138</td>\n",
       "      <td>https://www.airbnb.com/rooms/31103138?location...</td>\n",
       "      <td>uptown</td>\n",
       "    </tr>\n",
       "    <tr>\n",
       "      <th>1</th>\n",
       "      <td>31267520</td>\n",
       "      <td>https://www.airbnb.com/rooms/31267520?location...</td>\n",
       "      <td>uptown</td>\n",
       "    </tr>\n",
       "    <tr>\n",
       "      <th>2</th>\n",
       "      <td>34791645</td>\n",
       "      <td>https://www.airbnb.com/rooms/34791645?location...</td>\n",
       "      <td>uptown</td>\n",
       "    </tr>\n",
       "    <tr>\n",
       "      <th>3</th>\n",
       "      <td>27045165</td>\n",
       "      <td>https://www.airbnb.com/rooms/27045165?location...</td>\n",
       "      <td>uptown</td>\n",
       "    </tr>\n",
       "    <tr>\n",
       "      <th>4</th>\n",
       "      <td>36077664</td>\n",
       "      <td>https://www.airbnb.com/rooms/36077664?location...</td>\n",
       "      <td>uptown</td>\n",
       "    </tr>\n",
       "    <tr>\n",
       "      <th>5</th>\n",
       "      <td>10126128</td>\n",
       "      <td>https://www.airbnb.com/rooms/10126128?location...</td>\n",
       "      <td>uptown</td>\n",
       "    </tr>\n",
       "    <tr>\n",
       "      <th>6</th>\n",
       "      <td>36075404</td>\n",
       "      <td>https://www.airbnb.com/rooms/36075404?location...</td>\n",
       "      <td>uptown</td>\n",
       "    </tr>\n",
       "    <tr>\n",
       "      <th>7</th>\n",
       "      <td>6155877</td>\n",
       "      <td>https://www.airbnb.com/rooms/6155877?location=...</td>\n",
       "      <td>uptown</td>\n",
       "    </tr>\n",
       "    <tr>\n",
       "      <th>8</th>\n",
       "      <td>36286131</td>\n",
       "      <td>https://www.airbnb.com/rooms/36286131?location...</td>\n",
       "      <td>uptown</td>\n",
       "    </tr>\n",
       "    <tr>\n",
       "      <th>9</th>\n",
       "      <td>34124248</td>\n",
       "      <td>https://www.airbnb.com/rooms/34124248?location...</td>\n",
       "      <td>uptown</td>\n",
       "    </tr>\n",
       "    <tr>\n",
       "      <th>10</th>\n",
       "      <td>23461056</td>\n",
       "      <td>https://www.airbnb.com/rooms/23461056?location...</td>\n",
       "      <td>uptown</td>\n",
       "    </tr>\n",
       "    <tr>\n",
       "      <th>11</th>\n",
       "      <td>14655004</td>\n",
       "      <td>https://www.airbnb.com/rooms/14655004?location...</td>\n",
       "      <td>uptown</td>\n",
       "    </tr>\n",
       "    <tr>\n",
       "      <th>12</th>\n",
       "      <td>11627123</td>\n",
       "      <td>https://www.airbnb.com/rooms/11627123?location...</td>\n",
       "      <td>uptown</td>\n",
       "    </tr>\n",
       "    <tr>\n",
       "      <th>13</th>\n",
       "      <td>15174230</td>\n",
       "      <td>https://www.airbnb.com/rooms/15174230?location...</td>\n",
       "      <td>uptown</td>\n",
       "    </tr>\n",
       "    <tr>\n",
       "      <th>14</th>\n",
       "      <td>28860221</td>\n",
       "      <td>https://www.airbnb.com/rooms/28860221?location...</td>\n",
       "      <td>uptown</td>\n",
       "    </tr>\n",
       "    <tr>\n",
       "      <th>15</th>\n",
       "      <td>34624240</td>\n",
       "      <td>https://www.airbnb.com/rooms/34624240?location...</td>\n",
       "      <td>uptown</td>\n",
       "    </tr>\n",
       "    <tr>\n",
       "      <th>16</th>\n",
       "      <td>33987446</td>\n",
       "      <td>https://www.airbnb.com/rooms/33987446?location...</td>\n",
       "      <td>uptown</td>\n",
       "    </tr>\n",
       "    <tr>\n",
       "      <th>17</th>\n",
       "      <td>34665824</td>\n",
       "      <td>https://www.airbnb.com/rooms/34665824?location...</td>\n",
       "      <td>uptown</td>\n",
       "    </tr>\n",
       "    <tr>\n",
       "      <th>18</th>\n",
       "      <td>34665824</td>\n",
       "      <td>https://www.airbnb.com/rooms/34665824?location...</td>\n",
       "      <td>uptown</td>\n",
       "    </tr>\n",
       "    <tr>\n",
       "      <th>19</th>\n",
       "      <td>34718463</td>\n",
       "      <td>https://www.airbnb.com/rooms/34718463?location...</td>\n",
       "      <td>uptown</td>\n",
       "    </tr>\n",
       "    <tr>\n",
       "      <th>20</th>\n",
       "      <td>7711899</td>\n",
       "      <td>https://www.airbnb.com/rooms/7711899?location=...</td>\n",
       "      <td>uptown</td>\n",
       "    </tr>\n",
       "    <tr>\n",
       "      <th>21</th>\n",
       "      <td>5046894</td>\n",
       "      <td>https://www.airbnb.com/rooms/5046894?location=...</td>\n",
       "      <td>uptown</td>\n",
       "    </tr>\n",
       "    <tr>\n",
       "      <th>22</th>\n",
       "      <td>34718633</td>\n",
       "      <td>https://www.airbnb.com/rooms/34718633?location...</td>\n",
       "      <td>uptown</td>\n",
       "    </tr>\n",
       "    <tr>\n",
       "      <th>23</th>\n",
       "      <td>13001082</td>\n",
       "      <td>https://www.airbnb.com/rooms/13001082?location...</td>\n",
       "      <td>uptown</td>\n",
       "    </tr>\n",
       "    <tr>\n",
       "      <th>24</th>\n",
       "      <td>34126672</td>\n",
       "      <td>https://www.airbnb.com/rooms/34126672?location...</td>\n",
       "      <td>uptown</td>\n",
       "    </tr>\n",
       "    <tr>\n",
       "      <th>25</th>\n",
       "      <td>34782691</td>\n",
       "      <td>https://www.airbnb.com/rooms/34782691?location...</td>\n",
       "      <td>uptown</td>\n",
       "    </tr>\n",
       "    <tr>\n",
       "      <th>26</th>\n",
       "      <td>3979714</td>\n",
       "      <td>https://www.airbnb.com/rooms/3979714?location=...</td>\n",
       "      <td>uptown</td>\n",
       "    </tr>\n",
       "    <tr>\n",
       "      <th>27</th>\n",
       "      <td>851130</td>\n",
       "      <td>https://www.airbnb.com/rooms/851130?location=u...</td>\n",
       "      <td>uptown</td>\n",
       "    </tr>\n",
       "    <tr>\n",
       "      <th>28</th>\n",
       "      <td>3120957</td>\n",
       "      <td>https://www.airbnb.com/rooms/3120957?location=...</td>\n",
       "      <td>uptown</td>\n",
       "    </tr>\n",
       "    <tr>\n",
       "      <th>29</th>\n",
       "      <td>3550879</td>\n",
       "      <td>https://www.airbnb.com/rooms/3550879?location=...</td>\n",
       "      <td>uptown</td>\n",
       "    </tr>\n",
       "    <tr>\n",
       "      <th>30</th>\n",
       "      <td>6991749</td>\n",
       "      <td>https://www.airbnb.com/rooms/6991749?location=...</td>\n",
       "      <td>uptown</td>\n",
       "    </tr>\n",
       "  </tbody>\n",
       "</table>\n",
       "</div>"
      ],
      "text/plain": [
       "          ID                                               Link Neighborhood\n",
       "0   31103138  https://www.airbnb.com/rooms/31103138?location...       uptown\n",
       "1   31267520  https://www.airbnb.com/rooms/31267520?location...       uptown\n",
       "2   34791645  https://www.airbnb.com/rooms/34791645?location...       uptown\n",
       "3   27045165  https://www.airbnb.com/rooms/27045165?location...       uptown\n",
       "4   36077664  https://www.airbnb.com/rooms/36077664?location...       uptown\n",
       "5   10126128  https://www.airbnb.com/rooms/10126128?location...       uptown\n",
       "6   36075404  https://www.airbnb.com/rooms/36075404?location...       uptown\n",
       "7    6155877  https://www.airbnb.com/rooms/6155877?location=...       uptown\n",
       "8   36286131  https://www.airbnb.com/rooms/36286131?location...       uptown\n",
       "9   34124248  https://www.airbnb.com/rooms/34124248?location...       uptown\n",
       "10  23461056  https://www.airbnb.com/rooms/23461056?location...       uptown\n",
       "11  14655004  https://www.airbnb.com/rooms/14655004?location...       uptown\n",
       "12  11627123  https://www.airbnb.com/rooms/11627123?location...       uptown\n",
       "13  15174230  https://www.airbnb.com/rooms/15174230?location...       uptown\n",
       "14  28860221  https://www.airbnb.com/rooms/28860221?location...       uptown\n",
       "15  34624240  https://www.airbnb.com/rooms/34624240?location...       uptown\n",
       "16  33987446  https://www.airbnb.com/rooms/33987446?location...       uptown\n",
       "17  34665824  https://www.airbnb.com/rooms/34665824?location...       uptown\n",
       "18  34665824  https://www.airbnb.com/rooms/34665824?location...       uptown\n",
       "19  34718463  https://www.airbnb.com/rooms/34718463?location...       uptown\n",
       "20   7711899  https://www.airbnb.com/rooms/7711899?location=...       uptown\n",
       "21   5046894  https://www.airbnb.com/rooms/5046894?location=...       uptown\n",
       "22  34718633  https://www.airbnb.com/rooms/34718633?location...       uptown\n",
       "23  13001082  https://www.airbnb.com/rooms/13001082?location...       uptown\n",
       "24  34126672  https://www.airbnb.com/rooms/34126672?location...       uptown\n",
       "25  34782691  https://www.airbnb.com/rooms/34782691?location...       uptown\n",
       "26   3979714  https://www.airbnb.com/rooms/3979714?location=...       uptown\n",
       "27    851130  https://www.airbnb.com/rooms/851130?location=u...       uptown\n",
       "28   3120957  https://www.airbnb.com/rooms/3120957?location=...       uptown\n",
       "29   3550879  https://www.airbnb.com/rooms/3550879?location=...       uptown\n",
       "30   6991749  https://www.airbnb.com/rooms/6991749?location=...       uptown"
      ]
     },
     "execution_count": 216,
     "metadata": {},
     "output_type": "execute_result"
    }
   ],
   "source": [
    "manhattan_labels = ['downtown','midtown','uptown','centralpark']\n",
    "\n",
    "df = df.assign(Neighborhood ='uptown')\n",
    "\n",
    "df"
   ]
  },
  {
   "cell_type": "code",
   "execution_count": 217,
   "metadata": {
    "ExecuteTime": {
     "end_time": "2019-07-15T22:11:05.203832Z",
     "start_time": "2019-07-15T22:11:05.199845Z"
    }
   },
   "outputs": [
    {
     "data": {
      "text/plain": [
       "30"
      ]
     },
     "execution_count": 217,
     "metadata": {},
     "output_type": "execute_result"
    }
   ],
   "source": [
    "df['ID'].nunique()"
   ]
  },
  {
   "cell_type": "code",
   "execution_count": 218,
   "metadata": {
    "ExecuteTime": {
     "end_time": "2019-07-15T22:11:10.776236Z",
     "start_time": "2019-07-15T22:11:10.772142Z"
    }
   },
   "outputs": [],
   "source": [
    "df.to_csv('uptown_shared.csv', index = False)"
   ]
  },
  {
   "cell_type": "code",
   "execution_count": null,
   "metadata": {},
   "outputs": [],
   "source": []
  }
 ],
 "metadata": {
  "kernelspec": {
   "display_name": "Python 3",
   "language": "python",
   "name": "python3"
  },
  "language_info": {
   "codemirror_mode": {
    "name": "ipython",
    "version": 3
   },
   "file_extension": ".py",
   "mimetype": "text/x-python",
   "name": "python",
   "nbconvert_exporter": "python",
   "pygments_lexer": "ipython3",
   "version": "3.7.3"
  },
  "varInspector": {
   "cols": {
    "lenName": 16,
    "lenType": 16,
    "lenVar": 40
   },
   "kernels_config": {
    "python": {
     "delete_cmd_postfix": "",
     "delete_cmd_prefix": "del ",
     "library": "var_list.py",
     "varRefreshCmd": "print(var_dic_list())"
    },
    "r": {
     "delete_cmd_postfix": ") ",
     "delete_cmd_prefix": "rm(",
     "library": "var_list.r",
     "varRefreshCmd": "cat(var_dic_list()) "
    }
   },
   "types_to_exclude": [
    "module",
    "function",
    "builtin_function_or_method",
    "instance",
    "_Feature"
   ],
   "window_display": false
  }
 },
 "nbformat": 4,
 "nbformat_minor": 2
}
