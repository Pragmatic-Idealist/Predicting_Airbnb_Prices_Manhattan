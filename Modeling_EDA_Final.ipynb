{
 "cells": [
  {
   "cell_type": "code",
   "execution_count": 1,
   "metadata": {
    "ExecuteTime": {
     "end_time": "2019-08-15T20:21:25.452553Z",
     "start_time": "2019-08-15T20:21:24.520968Z"
    }
   },
   "outputs": [],
   "source": [
    "#Import Libraries\n",
    "import pandas as pd\n",
    "import matplotlib.pyplot as plt\n",
    "import seaborn as sns\n",
    "import numpy as np\n",
    "\n",
    "# import model and fit\n",
    "from sklearn.metrics import mean_squared_error, r2_score\n",
    "from sklearn.linear_model import LinearRegression\n",
    "from sklearn.preprocessing import PolynomialFeatures\n",
    "\n",
    "#import test and cross val\n",
    "from sklearn.model_selection import train_test_split\n",
    "from sklearn.model_selection import cross_val_score\n",
    "\n",
    "from sklearn.linear_model import Lasso, LassoCV, Ridge, RidgeCV\n",
    "from sklearn.metrics import r2_score\n",
    "from sklearn.model_selection import KFold\n",
    "\n",
    "from sklearn.pipeline import Pipeline\n",
    "from sklearn.preprocessing import StandardScaler\n",
    "from sklearn.metrics import mean_absolute_error"
   ]
  },
  {
   "cell_type": "code",
   "execution_count": 2,
   "metadata": {
    "ExecuteTime": {
     "end_time": "2019-08-15T20:21:27.721564Z",
     "start_time": "2019-08-15T20:21:27.681605Z"
    },
    "scrolled": true
   },
   "outputs": [
    {
     "data": {
      "text/html": [
       "<div>\n",
       "<style scoped>\n",
       "    .dataframe tbody tr th:only-of-type {\n",
       "        vertical-align: middle;\n",
       "    }\n",
       "\n",
       "    .dataframe tbody tr th {\n",
       "        vertical-align: top;\n",
       "    }\n",
       "\n",
       "    .dataframe thead th {\n",
       "        text-align: right;\n",
       "    }\n",
       "</style>\n",
       "<table border=\"1\" class=\"dataframe\">\n",
       "  <thead>\n",
       "    <tr style=\"text-align: right;\">\n",
       "      <th></th>\n",
       "      <th>id</th>\n",
       "      <th>link</th>\n",
       "      <th>neighborhood</th>\n",
       "      <th>price</th>\n",
       "      <th>listing_type</th>\n",
       "      <th>num_guests</th>\n",
       "      <th>num_bed</th>\n",
       "      <th>num_bath</th>\n",
       "      <th>shared_bath</th>\n",
       "      <th>num_ammenities</th>\n",
       "      <th>number_review</th>\n",
       "      <th>overall_review</th>\n",
       "      <th>accuracy</th>\n",
       "      <th>communication</th>\n",
       "      <th>cleanliness</th>\n",
       "      <th>value</th>\n",
       "      <th>check_in</th>\n",
       "      <th>location</th>\n",
       "    </tr>\n",
       "  </thead>\n",
       "  <tbody>\n",
       "    <tr>\n",
       "      <th>0</th>\n",
       "      <td>25841637</td>\n",
       "      <td>https://www.airbnb.com/rooms/25841637?location...</td>\n",
       "      <td>downtown</td>\n",
       "      <td>158</td>\n",
       "      <td>Private</td>\n",
       "      <td>4</td>\n",
       "      <td>1</td>\n",
       "      <td>1.0</td>\n",
       "      <td>sharedbath</td>\n",
       "      <td>5</td>\n",
       "      <td>86</td>\n",
       "      <td>4.5</td>\n",
       "      <td>4.7</td>\n",
       "      <td>4.7</td>\n",
       "      <td>4.8</td>\n",
       "      <td>4.8</td>\n",
       "      <td>4.8</td>\n",
       "      <td>4.6</td>\n",
       "    </tr>\n",
       "    <tr>\n",
       "      <th>1</th>\n",
       "      <td>24392338</td>\n",
       "      <td>https://www.airbnb.com/rooms/24392338?location...</td>\n",
       "      <td>downtown</td>\n",
       "      <td>225</td>\n",
       "      <td>Entire</td>\n",
       "      <td>4</td>\n",
       "      <td>2</td>\n",
       "      <td>1.0</td>\n",
       "      <td>notshared</td>\n",
       "      <td>4</td>\n",
       "      <td>109</td>\n",
       "      <td>4.5</td>\n",
       "      <td>4.8</td>\n",
       "      <td>4.9</td>\n",
       "      <td>4.7</td>\n",
       "      <td>4.8</td>\n",
       "      <td>4.8</td>\n",
       "      <td>4.9</td>\n",
       "    </tr>\n",
       "    <tr>\n",
       "      <th>2</th>\n",
       "      <td>25838923</td>\n",
       "      <td>https://www.airbnb.com/rooms/25838923?location...</td>\n",
       "      <td>downtown</td>\n",
       "      <td>130</td>\n",
       "      <td>Private</td>\n",
       "      <td>2</td>\n",
       "      <td>1</td>\n",
       "      <td>1.0</td>\n",
       "      <td>sharedbath</td>\n",
       "      <td>5</td>\n",
       "      <td>73</td>\n",
       "      <td>4.5</td>\n",
       "      <td>4.7</td>\n",
       "      <td>4.7</td>\n",
       "      <td>4.9</td>\n",
       "      <td>4.9</td>\n",
       "      <td>4.9</td>\n",
       "      <td>4.6</td>\n",
       "    </tr>\n",
       "    <tr>\n",
       "      <th>3</th>\n",
       "      <td>13971471</td>\n",
       "      <td>https://www.airbnb.com/rooms/13971471?location...</td>\n",
       "      <td>downtown</td>\n",
       "      <td>79</td>\n",
       "      <td>Shared</td>\n",
       "      <td>1</td>\n",
       "      <td>1</td>\n",
       "      <td>1.0</td>\n",
       "      <td>sharedbath</td>\n",
       "      <td>5</td>\n",
       "      <td>230</td>\n",
       "      <td>5.0</td>\n",
       "      <td>4.9</td>\n",
       "      <td>5.0</td>\n",
       "      <td>4.9</td>\n",
       "      <td>4.9</td>\n",
       "      <td>4.9</td>\n",
       "      <td>5.0</td>\n",
       "    </tr>\n",
       "    <tr>\n",
       "      <th>4</th>\n",
       "      <td>34929016</td>\n",
       "      <td>https://www.airbnb.com/rooms/34929016?location...</td>\n",
       "      <td>downtown</td>\n",
       "      <td>86</td>\n",
       "      <td>Private</td>\n",
       "      <td>1</td>\n",
       "      <td>1</td>\n",
       "      <td>1.0</td>\n",
       "      <td>sharedbath</td>\n",
       "      <td>4</td>\n",
       "      <td>10</td>\n",
       "      <td>5.0</td>\n",
       "      <td>4.8</td>\n",
       "      <td>5.0</td>\n",
       "      <td>4.4</td>\n",
       "      <td>4.9</td>\n",
       "      <td>4.9</td>\n",
       "      <td>5.0</td>\n",
       "    </tr>\n",
       "  </tbody>\n",
       "</table>\n",
       "</div>"
      ],
      "text/plain": [
       "         id                                               link neighborhood  \\\n",
       "0  25841637  https://www.airbnb.com/rooms/25841637?location...     downtown   \n",
       "1  24392338  https://www.airbnb.com/rooms/24392338?location...     downtown   \n",
       "2  25838923  https://www.airbnb.com/rooms/25838923?location...     downtown   \n",
       "3  13971471  https://www.airbnb.com/rooms/13971471?location...     downtown   \n",
       "4  34929016  https://www.airbnb.com/rooms/34929016?location...     downtown   \n",
       "\n",
       "   price listing_type  num_guests  num_bed  num_bath shared_bath  \\\n",
       "0    158      Private           4        1       1.0  sharedbath   \n",
       "1    225       Entire           4        2       1.0   notshared   \n",
       "2    130      Private           2        1       1.0  sharedbath   \n",
       "3     79       Shared           1        1       1.0  sharedbath   \n",
       "4     86      Private           1        1       1.0  sharedbath   \n",
       "\n",
       "   num_ammenities  number_review  overall_review  accuracy  communication  \\\n",
       "0               5             86             4.5       4.7            4.7   \n",
       "1               4            109             4.5       4.8            4.9   \n",
       "2               5             73             4.5       4.7            4.7   \n",
       "3               5            230             5.0       4.9            5.0   \n",
       "4               4             10             5.0       4.8            5.0   \n",
       "\n",
       "   cleanliness  value  check_in  location  \n",
       "0          4.8    4.8       4.8       4.6  \n",
       "1          4.7    4.8       4.8       4.9  \n",
       "2          4.9    4.9       4.9       4.6  \n",
       "3          4.9    4.9       4.9       5.0  \n",
       "4          4.4    4.9       4.9       5.0  "
      ]
     },
     "execution_count": 2,
     "metadata": {},
     "output_type": "execute_result"
    }
   ],
   "source": [
    "#Read In Data\n",
    "\n",
    "df = pd.read_csv('finalairbnbdata7_18.csv')\n",
    "\n",
    "df_eda = pd.read_csv('finalairbnbdata7_18.csv')\n",
    "\n",
    "df.head()"
   ]
  },
  {
   "cell_type": "code",
   "execution_count": 3,
   "metadata": {
    "ExecuteTime": {
     "end_time": "2019-08-15T20:21:28.718815Z",
     "start_time": "2019-08-15T20:21:28.673189Z"
    },
    "scrolled": true
   },
   "outputs": [
    {
     "data": {
      "text/html": [
       "<div>\n",
       "<style scoped>\n",
       "    .dataframe tbody tr th:only-of-type {\n",
       "        vertical-align: middle;\n",
       "    }\n",
       "\n",
       "    .dataframe tbody tr th {\n",
       "        vertical-align: top;\n",
       "    }\n",
       "\n",
       "    .dataframe thead th {\n",
       "        text-align: right;\n",
       "    }\n",
       "</style>\n",
       "<table border=\"1\" class=\"dataframe\">\n",
       "  <thead>\n",
       "    <tr style=\"text-align: right;\">\n",
       "      <th></th>\n",
       "      <th>id</th>\n",
       "      <th>price</th>\n",
       "      <th>num_guests</th>\n",
       "      <th>num_bed</th>\n",
       "      <th>num_bath</th>\n",
       "      <th>num_ammenities</th>\n",
       "      <th>number_review</th>\n",
       "      <th>overall_review</th>\n",
       "      <th>accuracy</th>\n",
       "      <th>communication</th>\n",
       "      <th>cleanliness</th>\n",
       "      <th>value</th>\n",
       "      <th>check_in</th>\n",
       "      <th>location</th>\n",
       "    </tr>\n",
       "  </thead>\n",
       "  <tbody>\n",
       "    <tr>\n",
       "      <th>count</th>\n",
       "      <td>1.056000e+03</td>\n",
       "      <td>1056.000000</td>\n",
       "      <td>1056.000000</td>\n",
       "      <td>1056.000000</td>\n",
       "      <td>1056.000000</td>\n",
       "      <td>1056.00000</td>\n",
       "      <td>1056.000000</td>\n",
       "      <td>1056.000000</td>\n",
       "      <td>1056.000000</td>\n",
       "      <td>1056.000000</td>\n",
       "      <td>1056.000000</td>\n",
       "      <td>1056.000000</td>\n",
       "      <td>1056.000000</td>\n",
       "      <td>1056.000000</td>\n",
       "    </tr>\n",
       "    <tr>\n",
       "      <th>mean</th>\n",
       "      <td>2.387619e+07</td>\n",
       "      <td>309.304924</td>\n",
       "      <td>2.910038</td>\n",
       "      <td>1.225379</td>\n",
       "      <td>1.116004</td>\n",
       "      <td>4.28125</td>\n",
       "      <td>51.232008</td>\n",
       "      <td>3.540720</td>\n",
       "      <td>3.575663</td>\n",
       "      <td>3.651515</td>\n",
       "      <td>3.509848</td>\n",
       "      <td>3.643277</td>\n",
       "      <td>3.643277</td>\n",
       "      <td>3.653125</td>\n",
       "    </tr>\n",
       "    <tr>\n",
       "      <th>std</th>\n",
       "      <td>1.148859e+07</td>\n",
       "      <td>379.300956</td>\n",
       "      <td>1.885453</td>\n",
       "      <td>0.653362</td>\n",
       "      <td>0.432166</td>\n",
       "      <td>0.62603</td>\n",
       "      <td>73.805702</td>\n",
       "      <td>2.018222</td>\n",
       "      <td>2.028869</td>\n",
       "      <td>2.066776</td>\n",
       "      <td>1.996731</td>\n",
       "      <td>2.061466</td>\n",
       "      <td>2.061466</td>\n",
       "      <td>2.065159</td>\n",
       "    </tr>\n",
       "    <tr>\n",
       "      <th>min</th>\n",
       "      <td>1.658000e+04</td>\n",
       "      <td>14.000000</td>\n",
       "      <td>1.000000</td>\n",
       "      <td>0.000000</td>\n",
       "      <td>0.000000</td>\n",
       "      <td>2.00000</td>\n",
       "      <td>0.000000</td>\n",
       "      <td>0.000000</td>\n",
       "      <td>0.000000</td>\n",
       "      <td>0.000000</td>\n",
       "      <td>0.000000</td>\n",
       "      <td>0.000000</td>\n",
       "      <td>0.000000</td>\n",
       "      <td>0.000000</td>\n",
       "    </tr>\n",
       "    <tr>\n",
       "      <th>25%</th>\n",
       "      <td>1.524831e+07</td>\n",
       "      <td>148.500000</td>\n",
       "      <td>2.000000</td>\n",
       "      <td>1.000000</td>\n",
       "      <td>1.000000</td>\n",
       "      <td>4.00000</td>\n",
       "      <td>3.000000</td>\n",
       "      <td>3.500000</td>\n",
       "      <td>3.700000</td>\n",
       "      <td>4.000000</td>\n",
       "      <td>3.700000</td>\n",
       "      <td>4.000000</td>\n",
       "      <td>4.000000</td>\n",
       "      <td>4.100000</td>\n",
       "    </tr>\n",
       "    <tr>\n",
       "      <th>50%</th>\n",
       "      <td>2.788513e+07</td>\n",
       "      <td>233.500000</td>\n",
       "      <td>2.000000</td>\n",
       "      <td>1.000000</td>\n",
       "      <td>1.000000</td>\n",
       "      <td>4.00000</td>\n",
       "      <td>19.000000</td>\n",
       "      <td>4.500000</td>\n",
       "      <td>4.700000</td>\n",
       "      <td>4.800000</td>\n",
       "      <td>4.600000</td>\n",
       "      <td>4.800000</td>\n",
       "      <td>4.800000</td>\n",
       "      <td>4.800000</td>\n",
       "    </tr>\n",
       "    <tr>\n",
       "      <th>75%</th>\n",
       "      <td>3.418250e+07</td>\n",
       "      <td>356.500000</td>\n",
       "      <td>4.000000</td>\n",
       "      <td>1.000000</td>\n",
       "      <td>1.000000</td>\n",
       "      <td>4.00000</td>\n",
       "      <td>71.250000</td>\n",
       "      <td>5.000000</td>\n",
       "      <td>4.900000</td>\n",
       "      <td>5.000000</td>\n",
       "      <td>4.800000</td>\n",
       "      <td>4.900000</td>\n",
       "      <td>4.900000</td>\n",
       "      <td>4.900000</td>\n",
       "    </tr>\n",
       "    <tr>\n",
       "      <th>max</th>\n",
       "      <td>3.673157e+07</td>\n",
       "      <td>4742.000000</td>\n",
       "      <td>15.000000</td>\n",
       "      <td>7.000000</td>\n",
       "      <td>8.000000</td>\n",
       "      <td>6.00000</td>\n",
       "      <td>448.000000</td>\n",
       "      <td>5.000000</td>\n",
       "      <td>5.000000</td>\n",
       "      <td>5.000000</td>\n",
       "      <td>5.000000</td>\n",
       "      <td>5.000000</td>\n",
       "      <td>5.000000</td>\n",
       "      <td>5.000000</td>\n",
       "    </tr>\n",
       "  </tbody>\n",
       "</table>\n",
       "</div>"
      ],
      "text/plain": [
       "                 id        price   num_guests      num_bed     num_bath  \\\n",
       "count  1.056000e+03  1056.000000  1056.000000  1056.000000  1056.000000   \n",
       "mean   2.387619e+07   309.304924     2.910038     1.225379     1.116004   \n",
       "std    1.148859e+07   379.300956     1.885453     0.653362     0.432166   \n",
       "min    1.658000e+04    14.000000     1.000000     0.000000     0.000000   \n",
       "25%    1.524831e+07   148.500000     2.000000     1.000000     1.000000   \n",
       "50%    2.788513e+07   233.500000     2.000000     1.000000     1.000000   \n",
       "75%    3.418250e+07   356.500000     4.000000     1.000000     1.000000   \n",
       "max    3.673157e+07  4742.000000    15.000000     7.000000     8.000000   \n",
       "\n",
       "       num_ammenities  number_review  overall_review     accuracy  \\\n",
       "count      1056.00000    1056.000000     1056.000000  1056.000000   \n",
       "mean          4.28125      51.232008        3.540720     3.575663   \n",
       "std           0.62603      73.805702        2.018222     2.028869   \n",
       "min           2.00000       0.000000        0.000000     0.000000   \n",
       "25%           4.00000       3.000000        3.500000     3.700000   \n",
       "50%           4.00000      19.000000        4.500000     4.700000   \n",
       "75%           4.00000      71.250000        5.000000     4.900000   \n",
       "max           6.00000     448.000000        5.000000     5.000000   \n",
       "\n",
       "       communication  cleanliness        value     check_in     location  \n",
       "count    1056.000000  1056.000000  1056.000000  1056.000000  1056.000000  \n",
       "mean        3.651515     3.509848     3.643277     3.643277     3.653125  \n",
       "std         2.066776     1.996731     2.061466     2.061466     2.065159  \n",
       "min         0.000000     0.000000     0.000000     0.000000     0.000000  \n",
       "25%         4.000000     3.700000     4.000000     4.000000     4.100000  \n",
       "50%         4.800000     4.600000     4.800000     4.800000     4.800000  \n",
       "75%         5.000000     4.800000     4.900000     4.900000     4.900000  \n",
       "max         5.000000     5.000000     5.000000     5.000000     5.000000  "
      ]
     },
     "execution_count": 3,
     "metadata": {},
     "output_type": "execute_result"
    }
   ],
   "source": [
    "df.describe()"
   ]
  },
  {
   "cell_type": "markdown",
   "metadata": {},
   "source": [
    "# A. Preprocessing and Feature Engineering Additions"
   ]
  },
  {
   "cell_type": "code",
   "execution_count": 4,
   "metadata": {
    "ExecuteTime": {
     "end_time": "2019-08-15T20:21:29.121028Z",
     "start_time": "2019-08-15T20:21:29.114258Z"
    }
   },
   "outputs": [
    {
     "data": {
      "text/plain": [
       "No     645\n",
       "Yes    411\n",
       "Name: new_listing, dtype: int64"
      ]
     },
     "execution_count": 4,
     "metadata": {},
     "output_type": "execute_result"
    }
   ],
   "source": [
    "#add new column/feature to account for new/old listings\n",
    "df['new_listing'] = np.where(df['number_review'] < 10, 'Yes', 'No')\n",
    "\n",
    "df.new_listing.value_counts()"
   ]
  },
  {
   "cell_type": "code",
   "execution_count": 5,
   "metadata": {
    "ExecuteTime": {
     "end_time": "2019-07-23T01:14:43.961418Z",
     "start_time": "2019-07-23T01:14:43.806663Z"
    }
   },
   "outputs": [
    {
     "data": {
      "image/png": "[encoded data removed]",
      "text/plain": [
       "<Figure size 432x288 with 1 Axes>"
      ]
     },
     "metadata": {
      "needs_background": "light"
     },
     "output_type": "display_data"
    }
   ],
   "source": [
    "#add new feature to find total number of stars earned\n",
    "\n",
    "df['total_stars'] = df['number_review'] * df['overall_review']\n",
    "\n",
    "plt.title('Distribution of Total Stars')\n",
    "plt.hist(df.total_stars);\n",
    "\n"
   ]
  },
  {
   "cell_type": "code",
   "execution_count": 6,
   "metadata": {
    "ExecuteTime": {
     "end_time": "2019-07-23T01:14:43.964491Z",
     "start_time": "2019-07-23T01:14:43.962673Z"
    }
   },
   "outputs": [],
   "source": [
    "#consider dropping number_amenities\n",
    "#consider adding interaction values"
   ]
  },
  {
   "cell_type": "markdown",
   "metadata": {},
   "source": [
    "# 1. Data Cleaning"
   ]
  },
  {
   "cell_type": "code",
   "execution_count": 7,
   "metadata": {
    "ExecuteTime": {
     "end_time": "2019-07-23T01:14:43.969690Z",
     "start_time": "2019-07-23T01:14:43.965885Z"
    }
   },
   "outputs": [],
   "source": [
    "#function that automates all the cleaning in previous version\n",
    "\n",
    "def airbnb_clean(df):\n",
    "    \n",
    "    #Dropping Unneeded Columns for analysis\n",
    "    df = df.drop(['link'], axis = 1) #dropping link column, not needed\n",
    "    df = df.drop(['id'], axis = 1) #dropping id column, not needed\n",
    "    \n",
    "    #creating a mask to get rid of one-off listing types\n",
    "    mask = ((df[\"listing_type\"] != \"Yurt\") & (df[\"listing_type\"] != \"Lighthouse\") & (df[\"listing_type\"] != \"Tiny\")) & (df[\"listing_type\"] != \"Camper/RV\")\n",
    "    df = df[mask]\n",
    "    \n",
    "    return df\n"
   ]
  },
  {
   "cell_type": "code",
   "execution_count": 8,
   "metadata": {
    "ExecuteTime": {
     "end_time": "2019-07-23T01:14:43.973950Z",
     "start_time": "2019-07-23T01:14:43.971585Z"
    }
   },
   "outputs": [],
   "source": [
    "def dummy(df):    \n",
    "    #create dummy variables for categorical data: listing_type, neighborhood, shared_bath and drop first\n",
    "    df = pd.get_dummies(df, drop_first = True) #dropped categories will essentially be the baseline\n",
    "    \n",
    "    return df\n",
    "    "
   ]
  },
  {
   "cell_type": "markdown",
   "metadata": {},
   "source": [
    "### Removed Outliers in Price and Zero Reviews"
   ]
  },
  {
   "cell_type": "code",
   "execution_count": 9,
   "metadata": {
    "ExecuteTime": {
     "end_time": "2019-07-23T01:14:44.236048Z",
     "start_time": "2019-07-23T01:14:43.976062Z"
    }
   },
   "outputs": [
    {
     "data": {
      "image/png": "[encoded data removed]",
      "text/plain": [
       "<Figure size 432x288 with 1 Axes>"
      ]
     },
     "metadata": {
      "needs_background": "light"
     },
     "output_type": "display_data"
    }
   ],
   "source": [
    "#Histogram on distribution of price\n",
    "sns.distplot(df.price)\n",
    "\n",
    "plt.savefig('pricedistoutliers.png')"
   ]
  },
  {
   "cell_type": "code",
   "execution_count": 10,
   "metadata": {
    "ExecuteTime": {
     "end_time": "2019-07-23T01:14:44.415031Z",
     "start_time": "2019-07-23T01:14:44.237268Z"
    }
   },
   "outputs": [
    {
     "data": {
      "image/png": "[encoded data removed]",
      "text/plain": [
       "<Figure size 432x288 with 1 Axes>"
      ]
     },
     "metadata": {
      "needs_background": "light"
     },
     "output_type": "display_data"
    }
   ],
   "source": [
    "#Histogram removing prices above 800\n",
    "sns.distplot(df.price[df['price'] <= 800])\n",
    "\n",
    "plt.savefig('priceoutliersremoved.png')"
   ]
  },
  {
   "cell_type": "code",
   "execution_count": 11,
   "metadata": {
    "ExecuteTime": {
     "end_time": "2019-07-23T01:14:44.418328Z",
     "start_time": "2019-07-23T01:14:44.416024Z"
    }
   },
   "outputs": [],
   "source": [
    "#function that removes zero-review listings\n",
    "\n",
    "def remove_zero_reviews(df):\n",
    "    df_with_review = df[df.number_review != 0]\n",
    "    \n",
    "    return df_with_review"
   ]
  },
  {
   "cell_type": "code",
   "execution_count": 12,
   "metadata": {
    "ExecuteTime": {
     "end_time": "2019-07-23T01:14:44.421461Z",
     "start_time": "2019-07-23T01:14:44.419361Z"
    }
   },
   "outputs": [],
   "source": [
    "#function that removes price outliers that takes in the outlier bound\n",
    "\n",
    "def remove_price_outliers(df,outlier):\n",
    "    df = df[df.price <= outlier]\n",
    "    \n",
    "    return df"
   ]
  },
  {
   "cell_type": "code",
   "execution_count": 13,
   "metadata": {
    "ExecuteTime": {
     "end_time": "2019-07-23T01:14:44.438153Z",
     "start_time": "2019-07-23T01:14:44.422581Z"
    }
   },
   "outputs": [
    {
     "data": {
      "text/html": [
       "<div>\n",
       "<style scoped>\n",
       "    .dataframe tbody tr th:only-of-type {\n",
       "        vertical-align: middle;\n",
       "    }\n",
       "\n",
       "    .dataframe tbody tr th {\n",
       "        vertical-align: top;\n",
       "    }\n",
       "\n",
       "    .dataframe thead th {\n",
       "        text-align: right;\n",
       "    }\n",
       "</style>\n",
       "<table border=\"1\" class=\"dataframe\">\n",
       "  <thead>\n",
       "    <tr style=\"text-align: right;\">\n",
       "      <th></th>\n",
       "      <th>id</th>\n",
       "      <th>link</th>\n",
       "      <th>neighborhood</th>\n",
       "      <th>price</th>\n",
       "      <th>listing_type</th>\n",
       "      <th>num_guests</th>\n",
       "      <th>num_bed</th>\n",
       "      <th>num_bath</th>\n",
       "      <th>shared_bath</th>\n",
       "      <th>num_ammenities</th>\n",
       "      <th>number_review</th>\n",
       "      <th>overall_review</th>\n",
       "      <th>accuracy</th>\n",
       "      <th>communication</th>\n",
       "      <th>cleanliness</th>\n",
       "      <th>value</th>\n",
       "      <th>check_in</th>\n",
       "      <th>location</th>\n",
       "      <th>new_listing</th>\n",
       "      <th>total_stars</th>\n",
       "    </tr>\n",
       "  </thead>\n",
       "  <tbody>\n",
       "    <tr>\n",
       "      <th>0</th>\n",
       "      <td>25841637</td>\n",
       "      <td>https://www.airbnb.com/rooms/25841637?location...</td>\n",
       "      <td>downtown</td>\n",
       "      <td>158</td>\n",
       "      <td>Private</td>\n",
       "      <td>4</td>\n",
       "      <td>1</td>\n",
       "      <td>1.0</td>\n",
       "      <td>sharedbath</td>\n",
       "      <td>5</td>\n",
       "      <td>86</td>\n",
       "      <td>4.5</td>\n",
       "      <td>4.7</td>\n",
       "      <td>4.7</td>\n",
       "      <td>4.8</td>\n",
       "      <td>4.8</td>\n",
       "      <td>4.8</td>\n",
       "      <td>4.6</td>\n",
       "      <td>No</td>\n",
       "      <td>387.0</td>\n",
       "    </tr>\n",
       "    <tr>\n",
       "      <th>1</th>\n",
       "      <td>24392338</td>\n",
       "      <td>https://www.airbnb.com/rooms/24392338?location...</td>\n",
       "      <td>downtown</td>\n",
       "      <td>225</td>\n",
       "      <td>Entire</td>\n",
       "      <td>4</td>\n",
       "      <td>2</td>\n",
       "      <td>1.0</td>\n",
       "      <td>notshared</td>\n",
       "      <td>4</td>\n",
       "      <td>109</td>\n",
       "      <td>4.5</td>\n",
       "      <td>4.8</td>\n",
       "      <td>4.9</td>\n",
       "      <td>4.7</td>\n",
       "      <td>4.8</td>\n",
       "      <td>4.8</td>\n",
       "      <td>4.9</td>\n",
       "      <td>No</td>\n",
       "      <td>490.5</td>\n",
       "    </tr>\n",
       "    <tr>\n",
       "      <th>2</th>\n",
       "      <td>25838923</td>\n",
       "      <td>https://www.airbnb.com/rooms/25838923?location...</td>\n",
       "      <td>downtown</td>\n",
       "      <td>130</td>\n",
       "      <td>Private</td>\n",
       "      <td>2</td>\n",
       "      <td>1</td>\n",
       "      <td>1.0</td>\n",
       "      <td>sharedbath</td>\n",
       "      <td>5</td>\n",
       "      <td>73</td>\n",
       "      <td>4.5</td>\n",
       "      <td>4.7</td>\n",
       "      <td>4.7</td>\n",
       "      <td>4.9</td>\n",
       "      <td>4.9</td>\n",
       "      <td>4.9</td>\n",
       "      <td>4.6</td>\n",
       "      <td>No</td>\n",
       "      <td>328.5</td>\n",
       "    </tr>\n",
       "    <tr>\n",
       "      <th>3</th>\n",
       "      <td>13971471</td>\n",
       "      <td>https://www.airbnb.com/rooms/13971471?location...</td>\n",
       "      <td>downtown</td>\n",
       "      <td>79</td>\n",
       "      <td>Shared</td>\n",
       "      <td>1</td>\n",
       "      <td>1</td>\n",
       "      <td>1.0</td>\n",
       "      <td>sharedbath</td>\n",
       "      <td>5</td>\n",
       "      <td>230</td>\n",
       "      <td>5.0</td>\n",
       "      <td>4.9</td>\n",
       "      <td>5.0</td>\n",
       "      <td>4.9</td>\n",
       "      <td>4.9</td>\n",
       "      <td>4.9</td>\n",
       "      <td>5.0</td>\n",
       "      <td>No</td>\n",
       "      <td>1150.0</td>\n",
       "    </tr>\n",
       "    <tr>\n",
       "      <th>4</th>\n",
       "      <td>34929016</td>\n",
       "      <td>https://www.airbnb.com/rooms/34929016?location...</td>\n",
       "      <td>downtown</td>\n",
       "      <td>86</td>\n",
       "      <td>Private</td>\n",
       "      <td>1</td>\n",
       "      <td>1</td>\n",
       "      <td>1.0</td>\n",
       "      <td>sharedbath</td>\n",
       "      <td>4</td>\n",
       "      <td>10</td>\n",
       "      <td>5.0</td>\n",
       "      <td>4.8</td>\n",
       "      <td>5.0</td>\n",
       "      <td>4.4</td>\n",
       "      <td>4.9</td>\n",
       "      <td>4.9</td>\n",
       "      <td>5.0</td>\n",
       "      <td>No</td>\n",
       "      <td>50.0</td>\n",
       "    </tr>\n",
       "  </tbody>\n",
       "</table>\n",
       "</div>"
      ],
      "text/plain": [
       "         id                                               link neighborhood  \\\n",
       "0  25841637  https://www.airbnb.com/rooms/25841637?location...     downtown   \n",
       "1  24392338  https://www.airbnb.com/rooms/24392338?location...     downtown   \n",
       "2  25838923  https://www.airbnb.com/rooms/25838923?location...     downtown   \n",
       "3  13971471  https://www.airbnb.com/rooms/13971471?location...     downtown   \n",
       "4  34929016  https://www.airbnb.com/rooms/34929016?location...     downtown   \n",
       "\n",
       "   price listing_type  num_guests  num_bed  num_bath shared_bath  \\\n",
       "0    158      Private           4        1       1.0  sharedbath   \n",
       "1    225       Entire           4        2       1.0   notshared   \n",
       "2    130      Private           2        1       1.0  sharedbath   \n",
       "3     79       Shared           1        1       1.0  sharedbath   \n",
       "4     86      Private           1        1       1.0  sharedbath   \n",
       "\n",
       "   num_ammenities  number_review  overall_review  accuracy  communication  \\\n",
       "0               5             86             4.5       4.7            4.7   \n",
       "1               4            109             4.5       4.8            4.9   \n",
       "2               5             73             4.5       4.7            4.7   \n",
       "3               5            230             5.0       4.9            5.0   \n",
       "4               4             10             5.0       4.8            5.0   \n",
       "\n",
       "   cleanliness  value  check_in  location new_listing  total_stars  \n",
       "0          4.8    4.8       4.8       4.6          No        387.0  \n",
       "1          4.7    4.8       4.8       4.9          No        490.5  \n",
       "2          4.9    4.9       4.9       4.6          No        328.5  \n",
       "3          4.9    4.9       4.9       5.0          No       1150.0  \n",
       "4          4.4    4.9       4.9       5.0          No         50.0  "
      ]
     },
     "execution_count": 13,
     "metadata": {},
     "output_type": "execute_result"
    }
   ],
   "source": [
    "df.head()"
   ]
  },
  {
   "cell_type": "code",
   "execution_count": 14,
   "metadata": {
    "ExecuteTime": {
     "end_time": "2019-07-23T01:14:44.448301Z",
     "start_time": "2019-07-23T01:14:44.439321Z"
    }
   },
   "outputs": [],
   "source": [
    "#apply cleaning function to df\n",
    "df = airbnb_clean(df)\n"
   ]
  },
  {
   "cell_type": "code",
   "execution_count": 15,
   "metadata": {
    "ExecuteTime": {
     "end_time": "2019-07-23T01:14:44.463726Z",
     "start_time": "2019-07-23T01:14:44.449485Z"
    },
    "scrolled": false
   },
   "outputs": [
    {
     "data": {
      "text/html": [
       "<div>\n",
       "<style scoped>\n",
       "    .dataframe tbody tr th:only-of-type {\n",
       "        vertical-align: middle;\n",
       "    }\n",
       "\n",
       "    .dataframe tbody tr th {\n",
       "        vertical-align: top;\n",
       "    }\n",
       "\n",
       "    .dataframe thead th {\n",
       "        text-align: right;\n",
       "    }\n",
       "</style>\n",
       "<table border=\"1\" class=\"dataframe\">\n",
       "  <thead>\n",
       "    <tr style=\"text-align: right;\">\n",
       "      <th></th>\n",
       "      <th>neighborhood</th>\n",
       "      <th>price</th>\n",
       "      <th>listing_type</th>\n",
       "      <th>num_guests</th>\n",
       "      <th>num_bed</th>\n",
       "      <th>num_bath</th>\n",
       "      <th>shared_bath</th>\n",
       "      <th>num_ammenities</th>\n",
       "      <th>number_review</th>\n",
       "      <th>overall_review</th>\n",
       "      <th>accuracy</th>\n",
       "      <th>communication</th>\n",
       "      <th>cleanliness</th>\n",
       "      <th>value</th>\n",
       "      <th>check_in</th>\n",
       "      <th>location</th>\n",
       "      <th>new_listing</th>\n",
       "      <th>total_stars</th>\n",
       "    </tr>\n",
       "  </thead>\n",
       "  <tbody>\n",
       "    <tr>\n",
       "      <th>0</th>\n",
       "      <td>downtown</td>\n",
       "      <td>158</td>\n",
       "      <td>Private</td>\n",
       "      <td>4</td>\n",
       "      <td>1</td>\n",
       "      <td>1.0</td>\n",
       "      <td>sharedbath</td>\n",
       "      <td>5</td>\n",
       "      <td>86</td>\n",
       "      <td>4.5</td>\n",
       "      <td>4.7</td>\n",
       "      <td>4.7</td>\n",
       "      <td>4.8</td>\n",
       "      <td>4.8</td>\n",
       "      <td>4.8</td>\n",
       "      <td>4.6</td>\n",
       "      <td>No</td>\n",
       "      <td>387.0</td>\n",
       "    </tr>\n",
       "    <tr>\n",
       "      <th>1</th>\n",
       "      <td>downtown</td>\n",
       "      <td>225</td>\n",
       "      <td>Entire</td>\n",
       "      <td>4</td>\n",
       "      <td>2</td>\n",
       "      <td>1.0</td>\n",
       "      <td>notshared</td>\n",
       "      <td>4</td>\n",
       "      <td>109</td>\n",
       "      <td>4.5</td>\n",
       "      <td>4.8</td>\n",
       "      <td>4.9</td>\n",
       "      <td>4.7</td>\n",
       "      <td>4.8</td>\n",
       "      <td>4.8</td>\n",
       "      <td>4.9</td>\n",
       "      <td>No</td>\n",
       "      <td>490.5</td>\n",
       "    </tr>\n",
       "    <tr>\n",
       "      <th>2</th>\n",
       "      <td>downtown</td>\n",
       "      <td>130</td>\n",
       "      <td>Private</td>\n",
       "      <td>2</td>\n",
       "      <td>1</td>\n",
       "      <td>1.0</td>\n",
       "      <td>sharedbath</td>\n",
       "      <td>5</td>\n",
       "      <td>73</td>\n",
       "      <td>4.5</td>\n",
       "      <td>4.7</td>\n",
       "      <td>4.7</td>\n",
       "      <td>4.9</td>\n",
       "      <td>4.9</td>\n",
       "      <td>4.9</td>\n",
       "      <td>4.6</td>\n",
       "      <td>No</td>\n",
       "      <td>328.5</td>\n",
       "    </tr>\n",
       "    <tr>\n",
       "      <th>3</th>\n",
       "      <td>downtown</td>\n",
       "      <td>79</td>\n",
       "      <td>Shared</td>\n",
       "      <td>1</td>\n",
       "      <td>1</td>\n",
       "      <td>1.0</td>\n",
       "      <td>sharedbath</td>\n",
       "      <td>5</td>\n",
       "      <td>230</td>\n",
       "      <td>5.0</td>\n",
       "      <td>4.9</td>\n",
       "      <td>5.0</td>\n",
       "      <td>4.9</td>\n",
       "      <td>4.9</td>\n",
       "      <td>4.9</td>\n",
       "      <td>5.0</td>\n",
       "      <td>No</td>\n",
       "      <td>1150.0</td>\n",
       "    </tr>\n",
       "    <tr>\n",
       "      <th>4</th>\n",
       "      <td>downtown</td>\n",
       "      <td>86</td>\n",
       "      <td>Private</td>\n",
       "      <td>1</td>\n",
       "      <td>1</td>\n",
       "      <td>1.0</td>\n",
       "      <td>sharedbath</td>\n",
       "      <td>4</td>\n",
       "      <td>10</td>\n",
       "      <td>5.0</td>\n",
       "      <td>4.8</td>\n",
       "      <td>5.0</td>\n",
       "      <td>4.4</td>\n",
       "      <td>4.9</td>\n",
       "      <td>4.9</td>\n",
       "      <td>5.0</td>\n",
       "      <td>No</td>\n",
       "      <td>50.0</td>\n",
       "    </tr>\n",
       "  </tbody>\n",
       "</table>\n",
       "</div>"
      ],
      "text/plain": [
       "  neighborhood  price listing_type  num_guests  num_bed  num_bath shared_bath  \\\n",
       "0     downtown    158      Private           4        1       1.0  sharedbath   \n",
       "1     downtown    225       Entire           4        2       1.0   notshared   \n",
       "2     downtown    130      Private           2        1       1.0  sharedbath   \n",
       "3     downtown     79       Shared           1        1       1.0  sharedbath   \n",
       "4     downtown     86      Private           1        1       1.0  sharedbath   \n",
       "\n",
       "   num_ammenities  number_review  overall_review  accuracy  communication  \\\n",
       "0               5             86             4.5       4.7            4.7   \n",
       "1               4            109             4.5       4.8            4.9   \n",
       "2               5             73             4.5       4.7            4.7   \n",
       "3               5            230             5.0       4.9            5.0   \n",
       "4               4             10             5.0       4.8            5.0   \n",
       "\n",
       "   cleanliness  value  check_in  location new_listing  total_stars  \n",
       "0          4.8    4.8       4.8       4.6          No        387.0  \n",
       "1          4.7    4.8       4.8       4.9          No        490.5  \n",
       "2          4.9    4.9       4.9       4.6          No        328.5  \n",
       "3          4.9    4.9       4.9       5.0          No       1150.0  \n",
       "4          4.4    4.9       4.9       5.0          No         50.0  "
      ]
     },
     "execution_count": 15,
     "metadata": {},
     "output_type": "execute_result"
    }
   ],
   "source": [
    "df.head()"
   ]
  },
  {
   "cell_type": "code",
   "execution_count": 16,
   "metadata": {
    "ExecuteTime": {
     "end_time": "2019-07-23T01:14:44.485969Z",
     "start_time": "2019-07-23T01:14:44.465231Z"
    }
   },
   "outputs": [],
   "source": [
    "df = dummy(df)"
   ]
  },
  {
   "cell_type": "code",
   "execution_count": 17,
   "metadata": {
    "ExecuteTime": {
     "end_time": "2019-07-23T01:14:44.489978Z",
     "start_time": "2019-07-23T01:14:44.487615Z"
    }
   },
   "outputs": [],
   "source": [
    "#df= df.drop('num_ammenities',axis = 1)\n",
    "\n",
    "#df.head()"
   ]
  },
  {
   "cell_type": "code",
   "execution_count": 18,
   "metadata": {
    "ExecuteTime": {
     "end_time": "2019-07-23T01:14:44.512107Z",
     "start_time": "2019-07-23T01:14:44.491821Z"
    }
   },
   "outputs": [
    {
     "data": {
      "text/html": [
       "<div>\n",
       "<style scoped>\n",
       "    .dataframe tbody tr th:only-of-type {\n",
       "        vertical-align: middle;\n",
       "    }\n",
       "\n",
       "    .dataframe tbody tr th {\n",
       "        vertical-align: top;\n",
       "    }\n",
       "\n",
       "    .dataframe thead th {\n",
       "        text-align: right;\n",
       "    }\n",
       "</style>\n",
       "<table border=\"1\" class=\"dataframe\">\n",
       "  <thead>\n",
       "    <tr style=\"text-align: right;\">\n",
       "      <th></th>\n",
       "      <th>price</th>\n",
       "      <th>num_guests</th>\n",
       "      <th>num_bed</th>\n",
       "      <th>num_bath</th>\n",
       "      <th>num_ammenities</th>\n",
       "      <th>number_review</th>\n",
       "      <th>overall_review</th>\n",
       "      <th>accuracy</th>\n",
       "      <th>communication</th>\n",
       "      <th>cleanliness</th>\n",
       "      <th>...</th>\n",
       "      <th>location</th>\n",
       "      <th>total_stars</th>\n",
       "      <th>neighborhood_downtown</th>\n",
       "      <th>neighborhood_midtown</th>\n",
       "      <th>neighborhood_uptown</th>\n",
       "      <th>listing_type_Private</th>\n",
       "      <th>listing_type_Room</th>\n",
       "      <th>listing_type_Shared</th>\n",
       "      <th>shared_bath_sharedbath</th>\n",
       "      <th>new_listing_Yes</th>\n",
       "    </tr>\n",
       "  </thead>\n",
       "  <tbody>\n",
       "    <tr>\n",
       "      <th>0</th>\n",
       "      <td>158</td>\n",
       "      <td>4</td>\n",
       "      <td>1</td>\n",
       "      <td>1.0</td>\n",
       "      <td>5</td>\n",
       "      <td>86</td>\n",
       "      <td>4.5</td>\n",
       "      <td>4.7</td>\n",
       "      <td>4.7</td>\n",
       "      <td>4.8</td>\n",
       "      <td>...</td>\n",
       "      <td>4.6</td>\n",
       "      <td>387.0</td>\n",
       "      <td>1</td>\n",
       "      <td>0</td>\n",
       "      <td>0</td>\n",
       "      <td>1</td>\n",
       "      <td>0</td>\n",
       "      <td>0</td>\n",
       "      <td>1</td>\n",
       "      <td>0</td>\n",
       "    </tr>\n",
       "    <tr>\n",
       "      <th>1</th>\n",
       "      <td>225</td>\n",
       "      <td>4</td>\n",
       "      <td>2</td>\n",
       "      <td>1.0</td>\n",
       "      <td>4</td>\n",
       "      <td>109</td>\n",
       "      <td>4.5</td>\n",
       "      <td>4.8</td>\n",
       "      <td>4.9</td>\n",
       "      <td>4.7</td>\n",
       "      <td>...</td>\n",
       "      <td>4.9</td>\n",
       "      <td>490.5</td>\n",
       "      <td>1</td>\n",
       "      <td>0</td>\n",
       "      <td>0</td>\n",
       "      <td>0</td>\n",
       "      <td>0</td>\n",
       "      <td>0</td>\n",
       "      <td>0</td>\n",
       "      <td>0</td>\n",
       "    </tr>\n",
       "    <tr>\n",
       "      <th>2</th>\n",
       "      <td>130</td>\n",
       "      <td>2</td>\n",
       "      <td>1</td>\n",
       "      <td>1.0</td>\n",
       "      <td>5</td>\n",
       "      <td>73</td>\n",
       "      <td>4.5</td>\n",
       "      <td>4.7</td>\n",
       "      <td>4.7</td>\n",
       "      <td>4.9</td>\n",
       "      <td>...</td>\n",
       "      <td>4.6</td>\n",
       "      <td>328.5</td>\n",
       "      <td>1</td>\n",
       "      <td>0</td>\n",
       "      <td>0</td>\n",
       "      <td>1</td>\n",
       "      <td>0</td>\n",
       "      <td>0</td>\n",
       "      <td>1</td>\n",
       "      <td>0</td>\n",
       "    </tr>\n",
       "    <tr>\n",
       "      <th>3</th>\n",
       "      <td>79</td>\n",
       "      <td>1</td>\n",
       "      <td>1</td>\n",
       "      <td>1.0</td>\n",
       "      <td>5</td>\n",
       "      <td>230</td>\n",
       "      <td>5.0</td>\n",
       "      <td>4.9</td>\n",
       "      <td>5.0</td>\n",
       "      <td>4.9</td>\n",
       "      <td>...</td>\n",
       "      <td>5.0</td>\n",
       "      <td>1150.0</td>\n",
       "      <td>1</td>\n",
       "      <td>0</td>\n",
       "      <td>0</td>\n",
       "      <td>0</td>\n",
       "      <td>0</td>\n",
       "      <td>1</td>\n",
       "      <td>1</td>\n",
       "      <td>0</td>\n",
       "    </tr>\n",
       "    <tr>\n",
       "      <th>4</th>\n",
       "      <td>86</td>\n",
       "      <td>1</td>\n",
       "      <td>1</td>\n",
       "      <td>1.0</td>\n",
       "      <td>4</td>\n",
       "      <td>10</td>\n",
       "      <td>5.0</td>\n",
       "      <td>4.8</td>\n",
       "      <td>5.0</td>\n",
       "      <td>4.4</td>\n",
       "      <td>...</td>\n",
       "      <td>5.0</td>\n",
       "      <td>50.0</td>\n",
       "      <td>1</td>\n",
       "      <td>0</td>\n",
       "      <td>0</td>\n",
       "      <td>1</td>\n",
       "      <td>0</td>\n",
       "      <td>0</td>\n",
       "      <td>1</td>\n",
       "      <td>0</td>\n",
       "    </tr>\n",
       "  </tbody>\n",
       "</table>\n",
       "<p>5 rows × 22 columns</p>\n",
       "</div>"
      ],
      "text/plain": [
       "   price  num_guests  num_bed  num_bath  num_ammenities  number_review  \\\n",
       "0    158           4        1       1.0               5             86   \n",
       "1    225           4        2       1.0               4            109   \n",
       "2    130           2        1       1.0               5             73   \n",
       "3     79           1        1       1.0               5            230   \n",
       "4     86           1        1       1.0               4             10   \n",
       "\n",
       "   overall_review  accuracy  communication  cleanliness  ...  location  \\\n",
       "0             4.5       4.7            4.7          4.8  ...       4.6   \n",
       "1             4.5       4.8            4.9          4.7  ...       4.9   \n",
       "2             4.5       4.7            4.7          4.9  ...       4.6   \n",
       "3             5.0       4.9            5.0          4.9  ...       5.0   \n",
       "4             5.0       4.8            5.0          4.4  ...       5.0   \n",
       "\n",
       "   total_stars  neighborhood_downtown  neighborhood_midtown  \\\n",
       "0        387.0                      1                     0   \n",
       "1        490.5                      1                     0   \n",
       "2        328.5                      1                     0   \n",
       "3       1150.0                      1                     0   \n",
       "4         50.0                      1                     0   \n",
       "\n",
       "   neighborhood_uptown  listing_type_Private  listing_type_Room  \\\n",
       "0                    0                     1                  0   \n",
       "1                    0                     0                  0   \n",
       "2                    0                     1                  0   \n",
       "3                    0                     0                  0   \n",
       "4                    0                     1                  0   \n",
       "\n",
       "   listing_type_Shared  shared_bath_sharedbath  new_listing_Yes  \n",
       "0                    0                       1                0  \n",
       "1                    0                       0                0  \n",
       "2                    0                       1                0  \n",
       "3                    1                       1                0  \n",
       "4                    0                       1                0  \n",
       "\n",
       "[5 rows x 22 columns]"
      ]
     },
     "execution_count": 18,
     "metadata": {},
     "output_type": "execute_result"
    }
   ],
   "source": [
    "df2 = df.copy() #make copy of new dataset\n",
    "df2.head()"
   ]
  },
  {
   "cell_type": "code",
   "execution_count": 19,
   "metadata": {
    "ExecuteTime": {
     "end_time": "2019-07-23T01:14:44.519216Z",
     "start_time": "2019-07-23T01:14:44.513567Z"
    },
    "scrolled": false
   },
   "outputs": [
    {
     "data": {
      "text/plain": [
       "price                     0\n",
       "num_guests                0\n",
       "num_bed                   0\n",
       "num_bath                  0\n",
       "num_ammenities            0\n",
       "number_review             0\n",
       "overall_review            0\n",
       "accuracy                  0\n",
       "communication             0\n",
       "cleanliness               0\n",
       "value                     0\n",
       "check_in                  0\n",
       "location                  0\n",
       "total_stars               0\n",
       "neighborhood_downtown     0\n",
       "neighborhood_midtown      0\n",
       "neighborhood_uptown       0\n",
       "listing_type_Private      0\n",
       "listing_type_Room         0\n",
       "listing_type_Shared       0\n",
       "shared_bath_sharedbath    0\n",
       "new_listing_Yes           0\n",
       "dtype: int64"
      ]
     },
     "execution_count": 19,
     "metadata": {},
     "output_type": "execute_result"
    }
   ],
   "source": [
    "df2.isnull().sum()"
   ]
  },
  {
   "cell_type": "code",
   "execution_count": 20,
   "metadata": {
    "ExecuteTime": {
     "end_time": "2019-07-23T01:14:44.527479Z",
     "start_time": "2019-07-23T01:14:44.520601Z"
    }
   },
   "outputs": [
    {
     "data": {
      "text/plain": [
       "sharedbath    378\n",
       "notshared     100\n",
       "Name: shared_bath, dtype: int64"
      ]
     },
     "execution_count": 20,
     "metadata": {},
     "output_type": "execute_result"
    }
   ],
   "source": [
    "df_eda[df_eda.listing_type == 'Private'].shared_bath.value_counts()"
   ]
  },
  {
   "cell_type": "code",
   "execution_count": 21,
   "metadata": {
    "ExecuteTime": {
     "end_time": "2019-07-23T01:14:44.534211Z",
     "start_time": "2019-07-23T01:14:44.528992Z"
    }
   },
   "outputs": [
    {
     "name": "stdout",
     "output_type": "stream",
     "text": [
      "800 1010\n"
     ]
    }
   ],
   "source": [
    "#removing outlier prices\n",
    "df2 = remove_price_outliers(df2, 800) #Removing listings above 800 in price\n",
    "\n",
    "print(df2.price.max(),df2['price'].count())"
   ]
  },
  {
   "cell_type": "code",
   "execution_count": 22,
   "metadata": {
    "ExecuteTime": {
     "end_time": "2019-07-23T01:14:44.540774Z",
     "start_time": "2019-07-23T01:14:44.535678Z"
    }
   },
   "outputs": [
    {
     "name": "stdout",
     "output_type": "stream",
     "text": [
      "3 780\n"
     ]
    }
   ],
   "source": [
    "#remove zero review listings\n",
    "df2 = remove_zero_reviews(df2)\n",
    "\n",
    "print(df2.number_review.min(),df2['price'].count())"
   ]
  },
  {
   "cell_type": "code",
   "execution_count": 23,
   "metadata": {
    "ExecuteTime": {
     "end_time": "2019-07-23T01:14:44.553889Z",
     "start_time": "2019-07-23T01:14:44.544406Z"
    }
   },
   "outputs": [],
   "source": [
    "#Preparing df_eda for eda analysis\n",
    "df_eda = airbnb_clean(df_eda)\n",
    "df_eda = remove_price_outliers(df_eda, 800)\n",
    "\n",
    "df_eda = remove_zero_reviews(df_eda)"
   ]
  },
  {
   "cell_type": "code",
   "execution_count": 24,
   "metadata": {
    "ExecuteTime": {
     "end_time": "2019-07-23T01:14:44.602654Z",
     "start_time": "2019-07-23T01:14:44.557123Z"
    }
   },
   "outputs": [
    {
     "data": {
      "text/plain": [
       "No     627\n",
       "Yes    153\n",
       "Name: new_listing, dtype: int64"
      ]
     },
     "execution_count": 24,
     "metadata": {},
     "output_type": "execute_result"
    }
   ],
   "source": [
    "#generating newlisting col for df_eda\n",
    "\n",
    "#add new column/feature to account for zero-review listings\n",
    "df_eda['new_listing'] = np.where(df_eda['number_review'] < 10, 'Yes', 'No')\n",
    "\n",
    "df_eda.new_listing.value_counts()"
   ]
  },
  {
   "cell_type": "code",
   "execution_count": 25,
   "metadata": {
    "ExecuteTime": {
     "end_time": "2019-07-23T01:14:44.611277Z",
     "start_time": "2019-07-23T01:14:44.604120Z"
    }
   },
   "outputs": [
    {
     "data": {
      "text/plain": [
       "listing_type\n",
       "Entire     372.344961\n",
       "Private    169.394608\n",
       "Room       262.775862\n",
       "Shared     115.357143\n",
       "Name: price, dtype: float64"
      ]
     },
     "execution_count": 25,
     "metadata": {},
     "output_type": "execute_result"
    }
   ],
   "source": [
    "df_eda.groupby('listing_type').price.mean()"
   ]
  },
  {
   "cell_type": "code",
   "execution_count": 26,
   "metadata": {
    "ExecuteTime": {
     "end_time": "2019-07-23T01:14:44.620325Z",
     "start_time": "2019-07-23T01:14:44.612582Z"
    }
   },
   "outputs": [
    {
     "data": {
      "text/plain": [
       "neighborhood  listing_type\n",
       "centralpark   Entire          363.071429\n",
       "              Private         205.838710\n",
       "              Room            219.000000\n",
       "              Shared          109.444444\n",
       "downtown      Entire          396.244898\n",
       "              Private         195.987805\n",
       "              Room            279.000000\n",
       "              Shared          145.333333\n",
       "midtown       Entire          404.416667\n",
       "              Private         171.000000\n",
       "              Room            261.725490\n",
       "              Shared          107.117647\n",
       "uptown        Entire          305.500000\n",
       "              Private         144.989305\n",
       "              Shared          106.111111\n",
       "Name: price, dtype: float64"
      ]
     },
     "execution_count": 26,
     "metadata": {},
     "output_type": "execute_result"
    }
   ],
   "source": [
    "df_eda.groupby(['neighborhood', 'listing_type']).price.mean()"
   ]
  },
  {
   "cell_type": "markdown",
   "metadata": {},
   "source": [
    "# 2. EDA "
   ]
  },
  {
   "cell_type": "code",
   "execution_count": 27,
   "metadata": {
    "ExecuteTime": {
     "end_time": "2019-07-23T01:14:44.623723Z",
     "start_time": "2019-07-23T01:14:44.621712Z"
    }
   },
   "outputs": [],
   "source": [
    "#df_reviews = remove_zero_reviews(df)"
   ]
  },
  {
   "cell_type": "code",
   "execution_count": 28,
   "metadata": {
    "ExecuteTime": {
     "end_time": "2019-07-23T01:14:45.135991Z",
     "start_time": "2019-07-23T01:14:44.625183Z"
    }
   },
   "outputs": [
    {
     "data": {
      "image/png": "[encoded data removed]",
      "text/plain": [
       "<Figure size 1440x1080 with 2 Axes>"
      ]
     },
     "metadata": {
      "needs_background": "light"
     },
     "output_type": "display_data"
    }
   ],
   "source": [
    "data = df2\n",
    "\n",
    "plt.figure(figsize = (20,15) )\n",
    "\n",
    "plt.rc('xtick',labelsize=12)\n",
    "plt.rc('ytick',labelsize=12)\n",
    "\n",
    "corr = data.corr()\n",
    "ax = sns.heatmap(\n",
    "    corr, \n",
    "    vmin=-1, vmax=1, center=0,\n",
    "    cmap='YlOrRd',\n",
    "    square=True\n",
    ")\n",
    "ax.set_xticklabels(\n",
    "    ax.get_xticklabels(),\n",
    "    rotation=90,\n",
    "    horizontalalignment='right'\n",
    ");\n",
    "\n",
    "plt.savefig('Heatmap.png')"
   ]
  },
  {
   "cell_type": "code",
   "execution_count": 29,
   "metadata": {
    "ExecuteTime": {
     "end_time": "2019-07-23T01:14:45.342517Z",
     "start_time": "2019-07-23T01:14:45.137125Z"
    }
   },
   "outputs": [
    {
     "data": {
      "text/plain": [
       "<matplotlib.collections.PathCollection at 0x1a236202b0>"
      ]
     },
     "execution_count": 29,
     "metadata": {},
     "output_type": "execute_result"
    },
    {
     "data": {
      "image/png": "[encoded data removed]",
      "text/plain": [
       "<Figure size 1440x1080 with 1 Axes>"
      ]
     },
     "metadata": {
      "needs_background": "light"
     },
     "output_type": "display_data"
    }
   ],
   "source": [
    "df2 = df2.sort_values(by = 'number_review')\n",
    "plt.figure(figsize = (20,15))\n",
    "\n",
    "x = df2.number_review\n",
    "y = df2.price\n",
    "\n",
    "plt.scatter(x,y)"
   ]
  },
  {
   "cell_type": "code",
   "execution_count": 30,
   "metadata": {
    "ExecuteTime": {
     "end_time": "2019-07-23T01:14:45.600796Z",
     "start_time": "2019-07-23T01:14:45.344004Z"
    }
   },
   "outputs": [
    {
     "data": {
      "image/png": "[encoded data removed]",
      "text/plain": [
       "<Figure size 1440x1080 with 1 Axes>"
      ]
     },
     "metadata": {
      "needs_background": "light"
     },
     "output_type": "display_data"
    }
   ],
   "source": [
    "#Checking Distribution for Reviews\n",
    "plt.figure(figsize = (20,15))\n",
    "bins = 50\n",
    "plt.title('Total Reviews Distribution', fontsize = 15)\n",
    "plt.hist(df2.number_review, bins = bins);\n"
   ]
  },
  {
   "cell_type": "code",
   "execution_count": 31,
   "metadata": {
    "ExecuteTime": {
     "end_time": "2019-07-23T01:14:45.817283Z",
     "start_time": "2019-07-23T01:14:45.601882Z"
    }
   },
   "outputs": [
    {
     "data": {
      "text/plain": [
       "<matplotlib.collections.PathCollection at 0x1a220b08d0>"
      ]
     },
     "execution_count": 31,
     "metadata": {},
     "output_type": "execute_result"
    },
    {
     "data": {
      "image/png": "[encoded data removed]",
      "text/plain": [
       "<Figure size 1440x1080 with 1 Axes>"
      ]
     },
     "metadata": {
      "needs_background": "light"
     },
     "output_type": "display_data"
    }
   ],
   "source": [
    "plt.figure(figsize = (20,15))\n",
    "x = df2.overall_review\n",
    "y = df2.price\n",
    "\n",
    "plt.scatter(x,y)"
   ]
  },
  {
   "cell_type": "code",
   "execution_count": 32,
   "metadata": {
    "ExecuteTime": {
     "end_time": "2019-07-23T01:14:46.028777Z",
     "start_time": "2019-07-23T01:14:45.819010Z"
    },
    "scrolled": false
   },
   "outputs": [
    {
     "data": {
      "text/plain": [
       "<matplotlib.collections.PathCollection at 0x10e37e208>"
      ]
     },
     "execution_count": 32,
     "metadata": {},
     "output_type": "execute_result"
    },
    {
     "data": {
      "image/png": "[encoded data removed]",
      "text/plain": [
       "<Figure size 1440x1080 with 1 Axes>"
      ]
     },
     "metadata": {
      "needs_background": "light"
     },
     "output_type": "display_data"
    }
   ],
   "source": [
    "plt.figure(figsize = (20,15))\n",
    "x = df2.cleanliness\n",
    "y = df2.price\n",
    "\n",
    "plt.scatter(x,y)"
   ]
  },
  {
   "cell_type": "code",
   "execution_count": 33,
   "metadata": {
    "ExecuteTime": {
     "end_time": "2019-07-23T01:14:46.032872Z",
     "start_time": "2019-07-23T01:14:46.030147Z"
    }
   },
   "outputs": [],
   "source": [
    "#pairplot\n",
    "\n",
    "#sns.pairplot(df2)\n"
   ]
  },
  {
   "cell_type": "markdown",
   "metadata": {},
   "source": [
    "### Potential Relationships Observed\n",
    "\n",
    "num_guests, num_bed, num_bath: positive linear, possibly exponential for bath <br />\n",
    "num_amenities: doesn't look very useful <br />\n",
    "num_review: looks constant, may need to do some transformations such as total stars (num reviews * average review) <br />\n",
    "neighborhood:Downtown is slightly positive, uptown negative, everything else slightly negative <br />\n",
    "listing_type: Entire is pretty positive, shared is pretty negative, rest is slightly negative <br />\n",
    "shared_bath: shared baths listings are very negative <br />"
   ]
  },
  {
   "cell_type": "code",
   "execution_count": 34,
   "metadata": {
    "ExecuteTime": {
     "end_time": "2019-07-23T01:14:46.249004Z",
     "start_time": "2019-07-23T01:14:46.034818Z"
    }
   },
   "outputs": [
    {
     "data": {
      "image/png": "[encoded data removed]",
      "text/plain": [
       "<Figure size 1080x720 with 1 Axes>"
      ]
     },
     "metadata": {
      "needs_background": "light"
     },
     "output_type": "display_data"
    }
   ],
   "source": [
    "#Generate Boxplots for Analysis:\n",
    "#Location, Listing_type, and Shared_Bed,\n",
    "#df_eda = airbnb_clean(df_eda)\n",
    "\n",
    "plt.figure(figsize = (15,10))\n",
    "\n",
    "x = df_eda.listing_type\n",
    "y = df_eda.price\n",
    "\n",
    "plt.title('Price vs. Listing Type',fontsize = 20)\n",
    "plt.xticks(fontsize = 20)\n",
    "plt.yticks(fontsize = 20)\n",
    "sns.boxplot(x,y);\n",
    "\n",
    "plt.savefig('Listing_type_boxplot.png')\n",
    "\n",
    "#Looks like Entire Space Listings have a noticeable higher price on average than other listing types"
   ]
  },
  {
   "cell_type": "code",
   "execution_count": 35,
   "metadata": {
    "ExecuteTime": {
     "end_time": "2019-07-23T01:14:46.435385Z",
     "start_time": "2019-07-23T01:14:46.250266Z"
    }
   },
   "outputs": [
    {
     "data": {
      "image/png": "[encoded data removed]",
      "text/plain": [
       "<Figure size 1080x720 with 1 Axes>"
      ]
     },
     "metadata": {
      "needs_background": "light"
     },
     "output_type": "display_data"
    }
   ],
   "source": [
    "#listings with private bathrooms appear to be more expensive\n",
    "plt.figure(figsize = (15,10))\n",
    "\n",
    "\n",
    "plt.title('Price vs. Shared/NotShared Baths',fontsize = 20)\n",
    "plt.xticks(fontsize = 20)\n",
    "plt.yticks(fontsize = 20)\n",
    "x = df_eda.shared_bath\n",
    "y = df_eda.price\n",
    "\n",
    "sns.boxplot(x,y);\n",
    "\n",
    "plt.savefig('shared_bath_boxplot.png')"
   ]
  },
  {
   "cell_type": "code",
   "execution_count": 36,
   "metadata": {
    "ExecuteTime": {
     "end_time": "2019-07-23T01:14:46.661624Z",
     "start_time": "2019-07-23T01:14:46.436837Z"
    }
   },
   "outputs": [
    {
     "data": {
      "image/png": "[encoded data removed]",
      "text/plain": [
       "<Figure size 1080x720 with 1 Axes>"
      ]
     },
     "metadata": {
      "needs_background": "light"
     },
     "output_type": "display_data"
    }
   ],
   "source": [
    "#listings located downtown seem to be slightly higher in price than listings elsewhere where\n",
    "#listings updtown are noticeablely lower in price than elsewhere\n",
    "plt.figure(figsize = (15,10))\n",
    "\n",
    "x = df_eda.neighborhood\n",
    "y = df_eda.price\n",
    "\n",
    "\n",
    "plt.title('Price vs. Neighborhood',fontsize = 20)\n",
    "plt.xticks(fontsize = 20)\n",
    "plt.yticks(fontsize = 20)\n",
    "\n",
    "sns.boxplot(x,y);\n",
    "\n",
    "plt.savefig('neighborhood_boxplot.png')"
   ]
  },
  {
   "cell_type": "code",
   "execution_count": 37,
   "metadata": {
    "ExecuteTime": {
     "end_time": "2019-07-23T01:14:46.847920Z",
     "start_time": "2019-07-23T01:14:46.662644Z"
    }
   },
   "outputs": [
    {
     "data": {
      "image/png": "[encoded data removed]",
      "text/plain": [
       "<Figure size 1080x720 with 1 Axes>"
      ]
     },
     "metadata": {
      "needs_background": "light"
     },
     "output_type": "display_data"
    }
   ],
   "source": [
    "#New listings appear to be abit more expensive than older listings (15+ reviews)\n",
    "plt.figure(figsize = (15,10))\n",
    "\n",
    "x = df_eda.new_listing\n",
    "y = df_eda.price\n",
    "\n",
    "\n",
    "plt.title('Price vs. New or Old Listing',fontsize = 20)\n",
    "plt.xticks(fontsize = 20)\n",
    "plt.yticks(fontsize = 20)\n",
    "\n",
    "sns.boxplot(x,y);\n",
    "\n",
    "plt.savefig('new_old_listing_boxplot.png')"
   ]
  },
  {
   "cell_type": "markdown",
   "metadata": {},
   "source": [
    "# 3. Splitting Test Data"
   ]
  },
  {
   "cell_type": "code",
   "execution_count": 38,
   "metadata": {
    "ExecuteTime": {
     "end_time": "2019-07-23T01:14:46.856542Z",
     "start_time": "2019-07-23T01:14:46.849101Z"
    }
   },
   "outputs": [],
   "source": [
    "#Seperates Target and Features\n",
    "X, y = df2.drop('price',axis=1), df2['price']\n",
    "\n",
    "#Hold out 20% of the data for final testing\n",
    "X, X_test, y, y_test = train_test_split(X, y, test_size=.2, random_state= 7) "
   ]
  },
  {
   "cell_type": "code",
   "execution_count": 39,
   "metadata": {
    "ExecuteTime": {
     "end_time": "2019-07-23T01:14:46.917760Z",
     "start_time": "2019-07-23T01:14:46.857861Z"
    }
   },
   "outputs": [
    {
     "data": {
      "text/html": [
       "<div>\n",
       "<style scoped>\n",
       "    .dataframe tbody tr th:only-of-type {\n",
       "        vertical-align: middle;\n",
       "    }\n",
       "\n",
       "    .dataframe tbody tr th {\n",
       "        vertical-align: top;\n",
       "    }\n",
       "\n",
       "    .dataframe thead th {\n",
       "        text-align: right;\n",
       "    }\n",
       "</style>\n",
       "<table border=\"1\" class=\"dataframe\">\n",
       "  <thead>\n",
       "    <tr style=\"text-align: right;\">\n",
       "      <th></th>\n",
       "      <th>price</th>\n",
       "      <th>num_guests</th>\n",
       "      <th>num_bed</th>\n",
       "      <th>num_bath</th>\n",
       "      <th>num_ammenities</th>\n",
       "      <th>number_review</th>\n",
       "      <th>overall_review</th>\n",
       "      <th>accuracy</th>\n",
       "      <th>communication</th>\n",
       "      <th>cleanliness</th>\n",
       "      <th>...</th>\n",
       "      <th>location</th>\n",
       "      <th>total_stars</th>\n",
       "      <th>neighborhood_downtown</th>\n",
       "      <th>neighborhood_midtown</th>\n",
       "      <th>neighborhood_uptown</th>\n",
       "      <th>listing_type_Private</th>\n",
       "      <th>listing_type_Room</th>\n",
       "      <th>listing_type_Shared</th>\n",
       "      <th>shared_bath_sharedbath</th>\n",
       "      <th>new_listing_Yes</th>\n",
       "    </tr>\n",
       "  </thead>\n",
       "  <tbody>\n",
       "    <tr>\n",
       "      <th>count</th>\n",
       "      <td>780.000000</td>\n",
       "      <td>780.000000</td>\n",
       "      <td>780.000000</td>\n",
       "      <td>780.000000</td>\n",
       "      <td>780.000000</td>\n",
       "      <td>780.000000</td>\n",
       "      <td>780.000000</td>\n",
       "      <td>780.000000</td>\n",
       "      <td>780.000000</td>\n",
       "      <td>780.000000</td>\n",
       "      <td>...</td>\n",
       "      <td>780.000000</td>\n",
       "      <td>780.000000</td>\n",
       "      <td>780.000000</td>\n",
       "      <td>780.000000</td>\n",
       "      <td>780.000000</td>\n",
       "      <td>780.000000</td>\n",
       "      <td>780.000000</td>\n",
       "      <td>780.000000</td>\n",
       "      <td>780.000000</td>\n",
       "      <td>780.000000</td>\n",
       "    </tr>\n",
       "    <tr>\n",
       "      <th>mean</th>\n",
       "      <td>239.588462</td>\n",
       "      <td>2.738462</td>\n",
       "      <td>1.152564</td>\n",
       "      <td>1.089103</td>\n",
       "      <td>4.283333</td>\n",
       "      <td>67.702564</td>\n",
       "      <td>4.660256</td>\n",
       "      <td>4.709231</td>\n",
       "      <td>4.808462</td>\n",
       "      <td>4.619231</td>\n",
       "      <td>...</td>\n",
       "      <td>4.809359</td>\n",
       "      <td>316.464744</td>\n",
       "      <td>0.253846</td>\n",
       "      <td>0.262821</td>\n",
       "      <td>0.337179</td>\n",
       "      <td>0.523077</td>\n",
       "      <td>0.074359</td>\n",
       "      <td>0.071795</td>\n",
       "      <td>0.507692</td>\n",
       "      <td>0.196154</td>\n",
       "    </tr>\n",
       "    <tr>\n",
       "      <th>std</th>\n",
       "      <td>136.119807</td>\n",
       "      <td>1.504229</td>\n",
       "      <td>0.471042</td>\n",
       "      <td>0.381803</td>\n",
       "      <td>0.599939</td>\n",
       "      <td>77.519263</td>\n",
       "      <td>0.361795</td>\n",
       "      <td>0.286032</td>\n",
       "      <td>0.241317</td>\n",
       "      <td>0.329413</td>\n",
       "      <td>...</td>\n",
       "      <td>0.214080</td>\n",
       "      <td>363.532238</td>\n",
       "      <td>0.435490</td>\n",
       "      <td>0.440448</td>\n",
       "      <td>0.473050</td>\n",
       "      <td>0.499788</td>\n",
       "      <td>0.262523</td>\n",
       "      <td>0.258314</td>\n",
       "      <td>0.500262</td>\n",
       "      <td>0.397341</td>\n",
       "    </tr>\n",
       "    <tr>\n",
       "      <th>min</th>\n",
       "      <td>45.000000</td>\n",
       "      <td>1.000000</td>\n",
       "      <td>0.000000</td>\n",
       "      <td>0.000000</td>\n",
       "      <td>2.000000</td>\n",
       "      <td>3.000000</td>\n",
       "      <td>3.000000</td>\n",
       "      <td>3.300000</td>\n",
       "      <td>3.400000</td>\n",
       "      <td>2.700000</td>\n",
       "      <td>...</td>\n",
       "      <td>3.300000</td>\n",
       "      <td>9.000000</td>\n",
       "      <td>0.000000</td>\n",
       "      <td>0.000000</td>\n",
       "      <td>0.000000</td>\n",
       "      <td>0.000000</td>\n",
       "      <td>0.000000</td>\n",
       "      <td>0.000000</td>\n",
       "      <td>0.000000</td>\n",
       "      <td>0.000000</td>\n",
       "    </tr>\n",
       "    <tr>\n",
       "      <th>25%</th>\n",
       "      <td>140.750000</td>\n",
       "      <td>2.000000</td>\n",
       "      <td>1.000000</td>\n",
       "      <td>1.000000</td>\n",
       "      <td>4.000000</td>\n",
       "      <td>12.000000</td>\n",
       "      <td>4.500000</td>\n",
       "      <td>4.600000</td>\n",
       "      <td>4.700000</td>\n",
       "      <td>4.500000</td>\n",
       "      <td>...</td>\n",
       "      <td>4.700000</td>\n",
       "      <td>56.000000</td>\n",
       "      <td>0.000000</td>\n",
       "      <td>0.000000</td>\n",
       "      <td>0.000000</td>\n",
       "      <td>0.000000</td>\n",
       "      <td>0.000000</td>\n",
       "      <td>0.000000</td>\n",
       "      <td>0.000000</td>\n",
       "      <td>0.000000</td>\n",
       "    </tr>\n",
       "    <tr>\n",
       "      <th>50%</th>\n",
       "      <td>203.000000</td>\n",
       "      <td>2.000000</td>\n",
       "      <td>1.000000</td>\n",
       "      <td>1.000000</td>\n",
       "      <td>4.000000</td>\n",
       "      <td>32.500000</td>\n",
       "      <td>4.500000</td>\n",
       "      <td>4.800000</td>\n",
       "      <td>4.900000</td>\n",
       "      <td>4.700000</td>\n",
       "      <td>...</td>\n",
       "      <td>4.900000</td>\n",
       "      <td>155.000000</td>\n",
       "      <td>0.000000</td>\n",
       "      <td>0.000000</td>\n",
       "      <td>0.000000</td>\n",
       "      <td>1.000000</td>\n",
       "      <td>0.000000</td>\n",
       "      <td>0.000000</td>\n",
       "      <td>1.000000</td>\n",
       "      <td>0.000000</td>\n",
       "    </tr>\n",
       "    <tr>\n",
       "      <th>75%</th>\n",
       "      <td>306.000000</td>\n",
       "      <td>4.000000</td>\n",
       "      <td>1.000000</td>\n",
       "      <td>1.000000</td>\n",
       "      <td>4.000000</td>\n",
       "      <td>98.000000</td>\n",
       "      <td>5.000000</td>\n",
       "      <td>4.900000</td>\n",
       "      <td>5.000000</td>\n",
       "      <td>4.900000</td>\n",
       "      <td>...</td>\n",
       "      <td>5.000000</td>\n",
       "      <td>464.625000</td>\n",
       "      <td>1.000000</td>\n",
       "      <td>1.000000</td>\n",
       "      <td>1.000000</td>\n",
       "      <td>1.000000</td>\n",
       "      <td>0.000000</td>\n",
       "      <td>0.000000</td>\n",
       "      <td>1.000000</td>\n",
       "      <td>0.000000</td>\n",
       "    </tr>\n",
       "    <tr>\n",
       "      <th>max</th>\n",
       "      <td>800.000000</td>\n",
       "      <td>14.000000</td>\n",
       "      <td>6.000000</td>\n",
       "      <td>8.000000</td>\n",
       "      <td>6.000000</td>\n",
       "      <td>417.000000</td>\n",
       "      <td>5.000000</td>\n",
       "      <td>5.000000</td>\n",
       "      <td>5.000000</td>\n",
       "      <td>5.000000</td>\n",
       "      <td>...</td>\n",
       "      <td>5.000000</td>\n",
       "      <td>2085.000000</td>\n",
       "      <td>1.000000</td>\n",
       "      <td>1.000000</td>\n",
       "      <td>1.000000</td>\n",
       "      <td>1.000000</td>\n",
       "      <td>1.000000</td>\n",
       "      <td>1.000000</td>\n",
       "      <td>1.000000</td>\n",
       "      <td>1.000000</td>\n",
       "    </tr>\n",
       "  </tbody>\n",
       "</table>\n",
       "<p>8 rows × 22 columns</p>\n",
       "</div>"
      ],
      "text/plain": [
       "            price  num_guests     num_bed    num_bath  num_ammenities  \\\n",
       "count  780.000000  780.000000  780.000000  780.000000      780.000000   \n",
       "mean   239.588462    2.738462    1.152564    1.089103        4.283333   \n",
       "std    136.119807    1.504229    0.471042    0.381803        0.599939   \n",
       "min     45.000000    1.000000    0.000000    0.000000        2.000000   \n",
       "25%    140.750000    2.000000    1.000000    1.000000        4.000000   \n",
       "50%    203.000000    2.000000    1.000000    1.000000        4.000000   \n",
       "75%    306.000000    4.000000    1.000000    1.000000        4.000000   \n",
       "max    800.000000   14.000000    6.000000    8.000000        6.000000   \n",
       "\n",
       "       number_review  overall_review    accuracy  communication  cleanliness  \\\n",
       "count     780.000000      780.000000  780.000000     780.000000   780.000000   \n",
       "mean       67.702564        4.660256    4.709231       4.808462     4.619231   \n",
       "std        77.519263        0.361795    0.286032       0.241317     0.329413   \n",
       "min         3.000000        3.000000    3.300000       3.400000     2.700000   \n",
       "25%        12.000000        4.500000    4.600000       4.700000     4.500000   \n",
       "50%        32.500000        4.500000    4.800000       4.900000     4.700000   \n",
       "75%        98.000000        5.000000    4.900000       5.000000     4.900000   \n",
       "max       417.000000        5.000000    5.000000       5.000000     5.000000   \n",
       "\n",
       "       ...    location  total_stars  neighborhood_downtown  \\\n",
       "count  ...  780.000000   780.000000             780.000000   \n",
       "mean   ...    4.809359   316.464744               0.253846   \n",
       "std    ...    0.214080   363.532238               0.435490   \n",
       "min    ...    3.300000     9.000000               0.000000   \n",
       "25%    ...    4.700000    56.000000               0.000000   \n",
       "50%    ...    4.900000   155.000000               0.000000   \n",
       "75%    ...    5.000000   464.625000               1.000000   \n",
       "max    ...    5.000000  2085.000000               1.000000   \n",
       "\n",
       "       neighborhood_midtown  neighborhood_uptown  listing_type_Private  \\\n",
       "count            780.000000           780.000000            780.000000   \n",
       "mean               0.262821             0.337179              0.523077   \n",
       "std                0.440448             0.473050              0.499788   \n",
       "min                0.000000             0.000000              0.000000   \n",
       "25%                0.000000             0.000000              0.000000   \n",
       "50%                0.000000             0.000000              1.000000   \n",
       "75%                1.000000             1.000000              1.000000   \n",
       "max                1.000000             1.000000              1.000000   \n",
       "\n",
       "       listing_type_Room  listing_type_Shared  shared_bath_sharedbath  \\\n",
       "count         780.000000           780.000000              780.000000   \n",
       "mean            0.074359             0.071795                0.507692   \n",
       "std             0.262523             0.258314                0.500262   \n",
       "min             0.000000             0.000000                0.000000   \n",
       "25%             0.000000             0.000000                0.000000   \n",
       "50%             0.000000             0.000000                1.000000   \n",
       "75%             0.000000             0.000000                1.000000   \n",
       "max             1.000000             1.000000                1.000000   \n",
       "\n",
       "       new_listing_Yes  \n",
       "count       780.000000  \n",
       "mean          0.196154  \n",
       "std           0.397341  \n",
       "min           0.000000  \n",
       "25%           0.000000  \n",
       "50%           0.000000  \n",
       "75%           0.000000  \n",
       "max           1.000000  \n",
       "\n",
       "[8 rows x 22 columns]"
      ]
     },
     "execution_count": 39,
     "metadata": {},
     "output_type": "execute_result"
    }
   ],
   "source": [
    "df2.head()\n",
    "df2.describe()"
   ]
  },
  {
   "cell_type": "markdown",
   "metadata": {},
   "source": [
    "### Note to Self:\n",
    "\n",
    "df2 is df1 excluding the outliers and zero-review  <br >\n",
    "df_eda contains original categorical data to generate certain vizualizations not possible with other frames"
   ]
  },
  {
   "cell_type": "markdown",
   "metadata": {},
   "source": [
    "# 4. Base Model and Cross Validation"
   ]
  },
  {
   "cell_type": "code",
   "execution_count": 40,
   "metadata": {
    "ExecuteTime": {
     "end_time": "2019-07-23T01:14:46.942956Z",
     "start_time": "2019-07-23T01:14:46.919023Z"
    }
   },
   "outputs": [
    {
     "name": "stdout",
     "output_type": "stream",
     "text": [
      "Linear Regression val R^2: 0.6701391237005973\n"
     ]
    }
   ],
   "source": [
    "#creating a base linear regression model\n",
    "lm = LinearRegression()\n",
    "lm.fit(X, y)\n",
    "\n",
    "print(f'Linear Regression val R^2: {lm.score(X, y)}') \n",
    "#score is on low end should do transformations to get model a better relationship\n",
    "#0.46501800196570975 old value without new listings\n",
    "#0.4652649200896588 new Value without new listings\n",
    "#\n",
    "#.68 with Total Stars"
   ]
  },
  {
   "cell_type": "code",
   "execution_count": 41,
   "metadata": {
    "ExecuteTime": {
     "end_time": "2019-07-23T01:14:46.948481Z",
     "start_time": "2019-07-23T01:14:46.944224Z"
    }
   },
   "outputs": [
    {
     "data": {
      "text/plain": [
       "0.6827954956585923"
      ]
     },
     "execution_count": 41,
     "metadata": {},
     "output_type": "execute_result"
    }
   ],
   "source": [
    "#base linear regression model prediction\n",
    "lm.score(X_test,y_test)\n",
    "\n",
    "#0.4643197643320251\n",
    "#0.648 with total stars and new_listing"
   ]
  },
  {
   "cell_type": "code",
   "execution_count": 42,
   "metadata": {
    "ExecuteTime": {
     "end_time": "2019-07-23T01:14:46.972507Z",
     "start_time": "2019-07-23T01:14:46.949693Z"
    }
   },
   "outputs": [
    {
     "data": {
      "text/plain": [
       "0.6368562511401245"
      ]
     },
     "execution_count": 42,
     "metadata": {},
     "output_type": "execute_result"
    }
   ],
   "source": [
    "cross_val_score(lm, X, y, # estimator, features, target\n",
    "                cv=5, # number of folds \n",
    "                scoring='r2').mean()\n",
    "\n",
    "#0.648 with total stars and new_listing\n",
    "#0.65 without total stars and new_listing\n",
    "#0.6482962340168467 with hotels removed"
   ]
  },
  {
   "cell_type": "code",
   "execution_count": 43,
   "metadata": {
    "ExecuteTime": {
     "end_time": "2019-07-23T01:14:46.978783Z",
     "start_time": "2019-07-23T01:14:46.974137Z"
    },
    "scrolled": true
   },
   "outputs": [
    {
     "data": {
      "text/plain": [
       "[('num_guests', 30.374989519891642),\n",
       " ('num_bed', 28.15523271565076),\n",
       " ('num_bath', 1.7610887175039769),\n",
       " ('num_ammenities', -8.6072904075743),\n",
       " ('number_review', -0.8643099224234678),\n",
       " ('overall_review', 30.499838690041774),\n",
       " ('accuracy', -11.700683676769403),\n",
       " ('communication', 13.673545618211138),\n",
       " ('cleanliness', 27.701638352864972),\n",
       " ('value', 3.3462608587086846),\n",
       " ('check_in', 3.3462608587087015),\n",
       " ('location', -14.791913542302867),\n",
       " ('total_stars', 0.1579859228009643),\n",
       " ('neighborhood_downtown', 18.369716572772433),\n",
       " ('neighborhood_midtown', -10.154173173295165),\n",
       " ('neighborhood_uptown', -71.91135409781181),\n",
       " ('listing_type_Private', -88.3025809534286),\n",
       " ('listing_type_Room', -63.00474878116401),\n",
       " ('listing_type_Shared', -137.24241772910887),\n",
       " ('shared_bath_sharedbath', -37.24961448717582),\n",
       " ('new_listing_Yes', 0.2989289412235559)]"
      ]
     },
     "execution_count": 43,
     "metadata": {},
     "output_type": "execute_result"
    }
   ],
   "source": [
    "list(zip(X.columns, lm.coef_))"
   ]
  },
  {
   "cell_type": "markdown",
   "metadata": {},
   "source": [
    "# 5. Different Models and Validation"
   ]
  },
  {
   "cell_type": "code",
   "execution_count": 44,
   "metadata": {
    "ExecuteTime": {
     "end_time": "2019-07-23T01:14:47.019065Z",
     "start_time": "2019-07-23T01:14:46.980233Z"
    }
   },
   "outputs": [
    {
     "data": {
      "text/plain": [
       "0.7880701342516361"
      ]
     },
     "execution_count": 44,
     "metadata": {},
     "output_type": "execute_result"
    }
   ],
   "source": [
    "#Second degree Polyreg\n",
    "p = PolynomialFeatures(degree=2)\n",
    "lm.fit(p.fit_transform(X),y)\n",
    "lm.score(p.transform(X),y)\n",
    "\n",
    "#Score is great 0.7804906689013609...lets CV"
   ]
  },
  {
   "cell_type": "code",
   "execution_count": 45,
   "metadata": {
    "ExecuteTime": {
     "end_time": "2019-07-23T01:14:47.032975Z",
     "start_time": "2019-07-23T01:14:47.020831Z"
    }
   },
   "outputs": [
    {
     "data": {
      "text/plain": [
       "0.048492708403468865"
      ]
     },
     "execution_count": 45,
     "metadata": {},
     "output_type": "execute_result"
    }
   ],
   "source": [
    "lm.score(p.transform(X_test),y_test)\n",
    "\n",
    "#Test Score is still good 0.5528900635469121"
   ]
  },
  {
   "cell_type": "code",
   "execution_count": 46,
   "metadata": {
    "ExecuteTime": {
     "end_time": "2019-07-23T01:14:47.096556Z",
     "start_time": "2019-07-23T01:14:47.034809Z"
    }
   },
   "outputs": [
    {
     "data": {
      "text/plain": [
       "0.018249606932149255"
      ]
     },
     "execution_count": 46,
     "metadata": {},
     "output_type": "execute_result"
    }
   ],
   "source": [
    "cross_val_score(lm, p.transform(X), y, # estimator, features, target\n",
    "                cv=5, # number of folds \n",
    "                scoring='r2').mean()\n",
    "\n",
    "#r2 is all over the place, poly reg may not be a good predictor"
   ]
  },
  {
   "cell_type": "code",
   "execution_count": 47,
   "metadata": {
    "ExecuteTime": {
     "end_time": "2019-07-23T01:14:47.100161Z",
     "start_time": "2019-07-23T01:14:47.098120Z"
    }
   },
   "outputs": [],
   "source": [
    "# Possible Direction logistic regression for classification rather than linear"
   ]
  },
  {
   "cell_type": "code",
   "execution_count": 48,
   "metadata": {
    "ExecuteTime": {
     "end_time": "2019-07-23T01:14:47.112071Z",
     "start_time": "2019-07-23T01:14:47.101949Z"
    }
   },
   "outputs": [],
   "source": [
    "#LassoCV\n",
    "std = StandardScaler()\n",
    "std.fit(X.values)\n",
    "\n",
    "X_tr = std.transform(X.values)\n",
    "X_te = std.transform(X_test.values)\n",
    "\n"
   ]
  },
  {
   "cell_type": "code",
   "execution_count": 49,
   "metadata": {
    "ExecuteTime": {
     "end_time": "2019-07-23T01:14:47.242740Z",
     "start_time": "2019-07-23T01:14:47.113709Z"
    }
   },
   "outputs": [
    {
     "data": {
      "image/png": "[encoded data removed]",
      "text/plain": [
       "<Figure size 432x288 with 1 Axes>"
      ]
     },
     "metadata": {
      "needs_background": "light"
     },
     "output_type": "display_data"
    }
   ],
   "source": [
    "plt.title('Checking Normalized Values for Scaled Values')\n",
    "plt.hist(X_tr[:,3]); #make sure I properly scaled these variables"
   ]
  },
  {
   "cell_type": "code",
   "execution_count": 50,
   "metadata": {
    "ExecuteTime": {
     "end_time": "2019-07-23T01:14:47.454925Z",
     "start_time": "2019-07-23T01:14:47.244070Z"
    }
   },
   "outputs": [
    {
     "data": {
      "text/plain": [
       "LassoCV(alphas=array([1.00000e-02, 1.04737e-02, ..., 9.54772e+01, 1.00000e+02]),\n",
       "    copy_X=True, cv=5, eps=0.001, fit_intercept=True, max_iter=1000,\n",
       "    n_alphas=100, n_jobs=None, normalize=False, positive=False,\n",
       "    precompute='auto', random_state=None, selection='cyclic', tol=0.0001,\n",
       "    verbose=False)"
      ]
     },
     "execution_count": 50,
     "metadata": {},
     "output_type": "execute_result"
    }
   ],
   "source": [
    "alphavec = 10**np.linspace(-2,2,200)\n",
    "\n",
    "lasso_model = LassoCV(alphas = alphavec, cv=5)\n",
    "lasso_model.fit(X_tr, y)"
   ]
  },
  {
   "cell_type": "code",
   "execution_count": 51,
   "metadata": {
    "ExecuteTime": {
     "end_time": "2019-07-23T01:14:47.458972Z",
     "start_time": "2019-07-23T01:14:47.456186Z"
    }
   },
   "outputs": [
    {
     "data": {
      "text/plain": [
       "2.354286414322418"
      ]
     },
     "execution_count": 51,
     "metadata": {},
     "output_type": "execute_result"
    }
   ],
   "source": [
    "#Returns Optimal Alpha for test\n",
    "lasso_model.alpha_"
   ]
  },
  {
   "cell_type": "code",
   "execution_count": 52,
   "metadata": {
    "ExecuteTime": {
     "end_time": "2019-07-23T01:14:47.464057Z",
     "start_time": "2019-07-23T01:14:47.460271Z"
    }
   },
   "outputs": [
    {
     "data": {
      "text/plain": [
       "[('num_guests', 45.841196487577946),\n",
       " ('num_bed', 11.92381808633254),\n",
       " ('num_bath', 0.0),\n",
       " ('num_ammenities', -3.188595199799954),\n",
       " ('number_review', -6.491906683323472),\n",
       " ('overall_review', 12.062419570778289),\n",
       " ('accuracy', 0.0),\n",
       " ('communication', 1.2153160896871724),\n",
       " ('cleanliness', 6.706929920032908),\n",
       " ('value', 0.0),\n",
       " ('check_in', 0.0),\n",
       " ('location', 0.0),\n",
       " ('total_stars', -0.0),\n",
       " ('neighborhood_downtown', 9.854366628872476),\n",
       " ('neighborhood_midtown', -0.15812178429539192),\n",
       " ('neighborhood_uptown', -28.368156017100308),\n",
       " ('listing_type_Private', -38.21069178510541),\n",
       " ('listing_type_Room', -12.612772065956863),\n",
       " ('listing_type_Shared', -30.114630854562),\n",
       " ('shared_bath_sharedbath', -20.67218278285781),\n",
       " ('new_listing_Yes', 0.0)]"
      ]
     },
     "execution_count": 52,
     "metadata": {},
     "output_type": "execute_result"
    }
   ],
   "source": [
    "#The Coefficients of the Optimal Lasso Model\n",
    "list(zip(X.columns, lasso_model.coef_))"
   ]
  },
  {
   "cell_type": "code",
   "execution_count": 53,
   "metadata": {
    "ExecuteTime": {
     "end_time": "2019-07-23T01:14:47.469289Z",
     "start_time": "2019-07-23T01:14:47.465242Z"
    }
   },
   "outputs": [
    {
     "data": {
      "text/plain": [
       "0.6800169773475317"
      ]
     },
     "execution_count": 53,
     "metadata": {},
     "output_type": "execute_result"
    }
   ],
   "source": [
    "#Lasso Score\n",
    "test_set_pred = lasso_model.predict(X_te)\n",
    "r2_score(y_test, test_set_pred)\n",
    "\n",
    "#0.6762909752585203 with new_listing column\n",
    "#0.7072747748398571 with both features, removing outliers and zero reviews"
   ]
  },
  {
   "cell_type": "code",
   "execution_count": 54,
   "metadata": {
    "ExecuteTime": {
     "end_time": "2019-07-23T01:14:47.474486Z",
     "start_time": "2019-07-23T01:14:47.470643Z"
    }
   },
   "outputs": [
    {
     "data": {
      "text/plain": [
       "54.60220880171"
      ]
     },
     "execution_count": 54,
     "metadata": {},
     "output_type": "execute_result"
    }
   ],
   "source": [
    "mean_absolute_error(y_test, test_set_pred) #MAE"
   ]
  },
  {
   "cell_type": "code",
   "execution_count": 55,
   "metadata": {
    "ExecuteTime": {
     "end_time": "2019-07-23T01:14:47.478815Z",
     "start_time": "2019-07-23T01:14:47.475752Z"
    }
   },
   "outputs": [
    {
     "data": {
      "text/plain": [
       "239.87500000000003"
      ]
     },
     "execution_count": 55,
     "metadata": {},
     "output_type": "execute_result"
    }
   ],
   "source": [
    "lasso_model.intercept_"
   ]
  },
  {
   "cell_type": "code",
   "execution_count": 56,
   "metadata": {
    "ExecuteTime": {
     "end_time": "2019-07-23T01:14:47.669120Z",
     "start_time": "2019-07-23T01:14:47.480017Z"
    }
   },
   "outputs": [
    {
     "data": {
      "image/png": "[encoded data removed]",
      "text/plain": [
       "<Figure size 1080x720 with 1 Axes>"
      ]
     },
     "metadata": {
      "needs_background": "light"
     },
     "output_type": "display_data"
    }
   ],
   "source": [
    "#Scatter Plot and Lasso\n",
    "plt.figure(figsize = (15,10))\n",
    "plt.scatter(test_set_pred, y_test, alpha=.25)\n",
    "\n",
    "plt.title('Test Results vs Predicted Results For Linear Regression with Lasso Regularization', fontsize = 20)\n",
    "plt.xlabel(\"Predicted\",fontsize = 20)\n",
    "plt.ylabel(\"Test\",fontsize = 20)\n",
    "#plt.plot(np.linspace(50,600,50), np.linspace(50,600,50)); #regression plot\n",
    "\n",
    "plt.savefig('new_old_listing_boxplot.png')"
   ]
  },
  {
   "cell_type": "code",
   "execution_count": 57,
   "metadata": {
    "ExecuteTime": {
     "end_time": "2019-07-23T01:14:49.107340Z",
     "start_time": "2019-07-23T01:14:47.670495Z"
    }
   },
   "outputs": [
    {
     "data": {
      "text/plain": [
       "RidgeCV(alphas=array([1.00000e-02, 1.04737e-02, ..., 9.54772e+01, 1.00000e+02]),\n",
       "    cv=5, fit_intercept=True, gcv_mode=None, normalize=False, scoring=None,\n",
       "    store_cv_values=False)"
      ]
     },
     "execution_count": 57,
     "metadata": {},
     "output_type": "execute_result"
    }
   ],
   "source": [
    "#Ridge Model\n",
    "\n",
    "alphavec = 10**np.linspace(-2,2,200)\n",
    "\n",
    "ridge_model = RidgeCV(alphas = alphavec, cv=5)\n",
    "ridge_model.fit(X_tr, y)"
   ]
  },
  {
   "cell_type": "code",
   "execution_count": 58,
   "metadata": {
    "ExecuteTime": {
     "end_time": "2019-07-23T01:14:49.111721Z",
     "start_time": "2019-07-23T01:14:49.108600Z"
    }
   },
   "outputs": [
    {
     "data": {
      "text/plain": [
       "47.68611697714469"
      ]
     },
     "execution_count": 58,
     "metadata": {},
     "output_type": "execute_result"
    }
   ],
   "source": [
    "ridge_model.alpha_"
   ]
  },
  {
   "cell_type": "code",
   "execution_count": 59,
   "metadata": {
    "ExecuteTime": {
     "end_time": "2019-07-23T01:14:49.116733Z",
     "start_time": "2019-07-23T01:14:49.112910Z"
    }
   },
   "outputs": [
    {
     "data": {
      "text/plain": [
       "[('num_guests', 42.89273015554874),\n",
       " ('num_bed', 14.691276145593827),\n",
       " ('num_bath', 0.6851090489836332),\n",
       " ('num_ammenities', -5.1334633121599555),\n",
       " ('number_review', -5.909999665284134),\n",
       " ('overall_review', 10.819418934631052),\n",
       " ('accuracy', -1.0930698506386052),\n",
       " ('communication', 3.2794583874868115),\n",
       " ('cleanliness', 8.108428313096066),\n",
       " ('value', 0.5375307277159626),\n",
       " ('check_in', 0.5375307277159623),\n",
       " ('location', -0.7548202321173169),\n",
       " ('total_stars', -3.171263398310127),\n",
       " ('neighborhood_downtown', 10.772167456356168),\n",
       " ('neighborhood_midtown', -2.3919463095249105),\n",
       " ('neighborhood_uptown', -29.698043238338546),\n",
       " ('listing_type_Private', -35.65696945121688),\n",
       " ('listing_type_Room', -13.353434398767442),\n",
       " ('listing_type_Shared', -29.224755156046548),\n",
       " ('shared_bath_sharedbath', -23.810781906620047),\n",
       " ('new_listing_Yes', 0.12851469170937915)]"
      ]
     },
     "execution_count": 59,
     "metadata": {},
     "output_type": "execute_result"
    }
   ],
   "source": [
    "#Ridge Model Coefficients\n",
    "list(zip(X.columns, ridge_model.coef_))\n"
   ]
  },
  {
   "cell_type": "code",
   "execution_count": 60,
   "metadata": {
    "ExecuteTime": {
     "end_time": "2019-07-23T01:14:49.122287Z",
     "start_time": "2019-07-23T01:14:49.117955Z"
    }
   },
   "outputs": [
    {
     "data": {
      "text/plain": [
       "0.6709678067680426"
      ]
     },
     "execution_count": 60,
     "metadata": {},
     "output_type": "execute_result"
    }
   ],
   "source": [
    "#Scoring the Ridge Model\n",
    "test_set_pred = ridge_model.predict(X_te)\n",
    "r2_score(y_test, test_set_pred)\n",
    "\n",
    "#0.6656997462795555 with new_listing column\n",
    "#0.7016982430770393 removing outliers, and zero reviews and adding in both new features"
   ]
  },
  {
   "cell_type": "code",
   "execution_count": 61,
   "metadata": {
    "ExecuteTime": {
     "end_time": "2019-07-23T01:14:49.290288Z",
     "start_time": "2019-07-23T01:14:49.123514Z"
    }
   },
   "outputs": [
    {
     "data": {
      "image/png": "[encoded data removed]",
      "text/plain": [
       "<Figure size 1080x720 with 1 Axes>"
      ]
     },
     "metadata": {
      "needs_background": "light"
     },
     "output_type": "display_data"
    }
   ],
   "source": [
    "#Scatter Plot and Ridge\n",
    "plt.figure(figsize = (15,10))\n",
    "plt.scatter(test_set_pred, y_test, alpha=.25)\n",
    "\n",
    "plt.title('Test Results vs Predicted Results', fontsize = 15)\n",
    "plt.xlabel(\"Predicted\",fontsize = 15)\n",
    "plt.ylabel(\"Test\",fontsize = 15)\n",
    "plt.plot(np.linspace(50,600,50), np.linspace(50,600,50)); #regression plot\n"
   ]
  },
  {
   "cell_type": "code",
   "execution_count": 62,
   "metadata": {
    "ExecuteTime": {
     "end_time": "2019-07-23T01:14:49.310691Z",
     "start_time": "2019-07-23T01:14:49.291630Z"
    }
   },
   "outputs": [
    {
     "data": {
      "text/plain": [
       "0.7880701342516361"
      ]
     },
     "execution_count": 62,
     "metadata": {},
     "output_type": "execute_result"
    }
   ],
   "source": [
    "#Polyreg with Lasso Regularization\n",
    "#Second degree Polyreg\n",
    "p = PolynomialFeatures(degree=2)\n",
    "lm.fit(p.fit_transform(X),y)\n",
    "lm.score(p.transform(X),y)\n",
    "\n",
    "#Score is great 0.7804906689013609...lets CV"
   ]
  },
  {
   "cell_type": "code",
   "execution_count": 63,
   "metadata": {
    "ExecuteTime": {
     "end_time": "2019-07-23T01:14:49.320955Z",
     "start_time": "2019-07-23T01:14:49.312073Z"
    }
   },
   "outputs": [
    {
     "data": {
      "text/plain": [
       "0.048492708403468865"
      ]
     },
     "execution_count": 63,
     "metadata": {},
     "output_type": "execute_result"
    }
   ],
   "source": [
    "lm.score(p.transform(X_test),y_test)\n",
    "\n",
    "#Test Score is still good 0.5528900635469121\n",
    "#Like before, the score isn't very good, some regularization to zero out some feature coefficients may help"
   ]
  },
  {
   "cell_type": "code",
   "execution_count": 64,
   "metadata": {
    "ExecuteTime": {
     "end_time": "2019-07-23T01:14:49.346167Z",
     "start_time": "2019-07-23T01:14:49.322417Z"
    }
   },
   "outputs": [],
   "source": [
    "#scaling poly terms\n",
    "\n",
    "std = StandardScaler()\n",
    "std.fit(p.fit_transform(X))\n",
    "\n",
    "\n",
    "X_tr = std.transform(p.fit_transform(X))\n",
    "X_te = std.transform(p.fit_transform(X_test))"
   ]
  },
  {
   "cell_type": "code",
   "execution_count": 65,
   "metadata": {
    "ExecuteTime": {
     "end_time": "2019-07-23T01:14:55.221514Z",
     "start_time": "2019-07-23T01:14:49.348049Z"
    }
   },
   "outputs": [
    {
     "name": "stderr",
     "output_type": "stream",
     "text": [
      "/anaconda3/lib/python3.7/site-packages/sklearn/linear_model/coordinate_descent.py:492: ConvergenceWarning: Objective did not converge. You might want to increase the number of iterations. Fitting data with very small alpha may cause precision problems.\n",
      "  ConvergenceWarning)\n",
      "/anaconda3/lib/python3.7/site-packages/sklearn/linear_model/coordinate_descent.py:492: ConvergenceWarning: Objective did not converge. You might want to increase the number of iterations. Fitting data with very small alpha may cause precision problems.\n",
      "  ConvergenceWarning)\n",
      "/anaconda3/lib/python3.7/site-packages/sklearn/linear_model/coordinate_descent.py:492: ConvergenceWarning: Objective did not converge. You might want to increase the number of iterations. Fitting data with very small alpha may cause precision problems.\n",
      "  ConvergenceWarning)\n",
      "/anaconda3/lib/python3.7/site-packages/sklearn/linear_model/coordinate_descent.py:492: ConvergenceWarning: Objective did not converge. You might want to increase the number of iterations. Fitting data with very small alpha may cause precision problems.\n",
      "  ConvergenceWarning)\n",
      "/anaconda3/lib/python3.7/site-packages/sklearn/linear_model/coordinate_descent.py:492: ConvergenceWarning: Objective did not converge. You might want to increase the number of iterations. Fitting data with very small alpha may cause precision problems.\n",
      "  ConvergenceWarning)\n",
      "/anaconda3/lib/python3.7/site-packages/sklearn/linear_model/coordinate_descent.py:492: ConvergenceWarning: Objective did not converge. You might want to increase the number of iterations. Fitting data with very small alpha may cause precision problems.\n",
      "  ConvergenceWarning)\n",
      "/anaconda3/lib/python3.7/site-packages/sklearn/linear_model/coordinate_descent.py:492: ConvergenceWarning: Objective did not converge. You might want to increase the number of iterations. Fitting data with very small alpha may cause precision problems.\n",
      "  ConvergenceWarning)\n",
      "/anaconda3/lib/python3.7/site-packages/sklearn/linear_model/coordinate_descent.py:492: ConvergenceWarning: Objective did not converge. You might want to increase the number of iterations. Fitting data with very small alpha may cause precision problems.\n",
      "  ConvergenceWarning)\n",
      "/anaconda3/lib/python3.7/site-packages/sklearn/linear_model/coordinate_descent.py:492: ConvergenceWarning: Objective did not converge. You might want to increase the number of iterations. Fitting data with very small alpha may cause precision problems.\n",
      "  ConvergenceWarning)\n",
      "/anaconda3/lib/python3.7/site-packages/sklearn/linear_model/coordinate_descent.py:492: ConvergenceWarning: Objective did not converge. You might want to increase the number of iterations. Fitting data with very small alpha may cause precision problems.\n",
      "  ConvergenceWarning)\n",
      "/anaconda3/lib/python3.7/site-packages/sklearn/linear_model/coordinate_descent.py:492: ConvergenceWarning: Objective did not converge. You might want to increase the number of iterations. Fitting data with very small alpha may cause precision problems.\n",
      "  ConvergenceWarning)\n",
      "/anaconda3/lib/python3.7/site-packages/sklearn/linear_model/coordinate_descent.py:492: ConvergenceWarning: Objective did not converge. You might want to increase the number of iterations. Fitting data with very small alpha may cause precision problems.\n",
      "  ConvergenceWarning)\n",
      "/anaconda3/lib/python3.7/site-packages/sklearn/linear_model/coordinate_descent.py:492: ConvergenceWarning: Objective did not converge. You might want to increase the number of iterations. Fitting data with very small alpha may cause precision problems.\n",
      "  ConvergenceWarning)\n",
      "/anaconda3/lib/python3.7/site-packages/sklearn/linear_model/coordinate_descent.py:492: ConvergenceWarning: Objective did not converge. You might want to increase the number of iterations. Fitting data with very small alpha may cause precision problems.\n",
      "  ConvergenceWarning)\n",
      "/anaconda3/lib/python3.7/site-packages/sklearn/linear_model/coordinate_descent.py:492: ConvergenceWarning: Objective did not converge. You might want to increase the number of iterations. Fitting data with very small alpha may cause precision problems.\n",
      "  ConvergenceWarning)\n",
      "/anaconda3/lib/python3.7/site-packages/sklearn/linear_model/coordinate_descent.py:492: ConvergenceWarning: Objective did not converge. You might want to increase the number of iterations. Fitting data with very small alpha may cause precision problems.\n",
      "  ConvergenceWarning)\n",
      "/anaconda3/lib/python3.7/site-packages/sklearn/linear_model/coordinate_descent.py:492: ConvergenceWarning: Objective did not converge. You might want to increase the number of iterations. Fitting data with very small alpha may cause precision problems.\n",
      "  ConvergenceWarning)\n",
      "/anaconda3/lib/python3.7/site-packages/sklearn/linear_model/coordinate_descent.py:492: ConvergenceWarning: Objective did not converge. You might want to increase the number of iterations. Fitting data with very small alpha may cause precision problems.\n",
      "  ConvergenceWarning)\n",
      "/anaconda3/lib/python3.7/site-packages/sklearn/linear_model/coordinate_descent.py:492: ConvergenceWarning: Objective did not converge. You might want to increase the number of iterations. Fitting data with very small alpha may cause precision problems.\n",
      "  ConvergenceWarning)\n",
      "/anaconda3/lib/python3.7/site-packages/sklearn/linear_model/coordinate_descent.py:492: ConvergenceWarning: Objective did not converge. You might want to increase the number of iterations. Fitting data with very small alpha may cause precision problems.\n",
      "  ConvergenceWarning)\n",
      "/anaconda3/lib/python3.7/site-packages/sklearn/linear_model/coordinate_descent.py:492: ConvergenceWarning: Objective did not converge. You might want to increase the number of iterations. Fitting data with very small alpha may cause precision problems.\n",
      "  ConvergenceWarning)\n",
      "/anaconda3/lib/python3.7/site-packages/sklearn/linear_model/coordinate_descent.py:492: ConvergenceWarning: Objective did not converge. You might want to increase the number of iterations. Fitting data with very small alpha may cause precision problems.\n",
      "  ConvergenceWarning)\n",
      "/anaconda3/lib/python3.7/site-packages/sklearn/linear_model/coordinate_descent.py:492: ConvergenceWarning: Objective did not converge. You might want to increase the number of iterations. Fitting data with very small alpha may cause precision problems.\n",
      "  ConvergenceWarning)\n",
      "/anaconda3/lib/python3.7/site-packages/sklearn/linear_model/coordinate_descent.py:492: ConvergenceWarning: Objective did not converge. You might want to increase the number of iterations. Fitting data with very small alpha may cause precision problems.\n",
      "  ConvergenceWarning)\n",
      "/anaconda3/lib/python3.7/site-packages/sklearn/linear_model/coordinate_descent.py:492: ConvergenceWarning: Objective did not converge. You might want to increase the number of iterations. Fitting data with very small alpha may cause precision problems.\n",
      "  ConvergenceWarning)\n",
      "/anaconda3/lib/python3.7/site-packages/sklearn/linear_model/coordinate_descent.py:492: ConvergenceWarning: Objective did not converge. You might want to increase the number of iterations. Fitting data with very small alpha may cause precision problems.\n",
      "  ConvergenceWarning)\n",
      "/anaconda3/lib/python3.7/site-packages/sklearn/linear_model/coordinate_descent.py:492: ConvergenceWarning: Objective did not converge. You might want to increase the number of iterations. Fitting data with very small alpha may cause precision problems.\n",
      "  ConvergenceWarning)\n",
      "/anaconda3/lib/python3.7/site-packages/sklearn/linear_model/coordinate_descent.py:492: ConvergenceWarning: Objective did not converge. You might want to increase the number of iterations. Fitting data with very small alpha may cause precision problems.\n",
      "  ConvergenceWarning)\n",
      "/anaconda3/lib/python3.7/site-packages/sklearn/linear_model/coordinate_descent.py:492: ConvergenceWarning: Objective did not converge. You might want to increase the number of iterations. Fitting data with very small alpha may cause precision problems.\n",
      "  ConvergenceWarning)\n",
      "/anaconda3/lib/python3.7/site-packages/sklearn/linear_model/coordinate_descent.py:492: ConvergenceWarning: Objective did not converge. You might want to increase the number of iterations. Fitting data with very small alpha may cause precision problems.\n",
      "  ConvergenceWarning)\n",
      "/anaconda3/lib/python3.7/site-packages/sklearn/linear_model/coordinate_descent.py:492: ConvergenceWarning: Objective did not converge. You might want to increase the number of iterations. Fitting data with very small alpha may cause precision problems.\n",
      "  ConvergenceWarning)\n",
      "/anaconda3/lib/python3.7/site-packages/sklearn/linear_model/coordinate_descent.py:492: ConvergenceWarning: Objective did not converge. You might want to increase the number of iterations. Fitting data with very small alpha may cause precision problems.\n",
      "  ConvergenceWarning)\n",
      "/anaconda3/lib/python3.7/site-packages/sklearn/linear_model/coordinate_descent.py:492: ConvergenceWarning: Objective did not converge. You might want to increase the number of iterations. Fitting data with very small alpha may cause precision problems.\n",
      "  ConvergenceWarning)\n"
     ]
    },
    {
     "name": "stderr",
     "output_type": "stream",
     "text": [
      "/anaconda3/lib/python3.7/site-packages/sklearn/linear_model/coordinate_descent.py:492: ConvergenceWarning: Objective did not converge. You might want to increase the number of iterations. Fitting data with very small alpha may cause precision problems.\n",
      "  ConvergenceWarning)\n",
      "/anaconda3/lib/python3.7/site-packages/sklearn/linear_model/coordinate_descent.py:492: ConvergenceWarning: Objective did not converge. You might want to increase the number of iterations. Fitting data with very small alpha may cause precision problems.\n",
      "  ConvergenceWarning)\n",
      "/anaconda3/lib/python3.7/site-packages/sklearn/linear_model/coordinate_descent.py:492: ConvergenceWarning: Objective did not converge. You might want to increase the number of iterations. Fitting data with very small alpha may cause precision problems.\n",
      "  ConvergenceWarning)\n",
      "/anaconda3/lib/python3.7/site-packages/sklearn/linear_model/coordinate_descent.py:492: ConvergenceWarning: Objective did not converge. You might want to increase the number of iterations. Fitting data with very small alpha may cause precision problems.\n",
      "  ConvergenceWarning)\n",
      "/anaconda3/lib/python3.7/site-packages/sklearn/linear_model/coordinate_descent.py:492: ConvergenceWarning: Objective did not converge. You might want to increase the number of iterations. Fitting data with very small alpha may cause precision problems.\n",
      "  ConvergenceWarning)\n",
      "/anaconda3/lib/python3.7/site-packages/sklearn/linear_model/coordinate_descent.py:492: ConvergenceWarning: Objective did not converge. You might want to increase the number of iterations. Fitting data with very small alpha may cause precision problems.\n",
      "  ConvergenceWarning)\n",
      "/anaconda3/lib/python3.7/site-packages/sklearn/linear_model/coordinate_descent.py:492: ConvergenceWarning: Objective did not converge. You might want to increase the number of iterations. Fitting data with very small alpha may cause precision problems.\n",
      "  ConvergenceWarning)\n",
      "/anaconda3/lib/python3.7/site-packages/sklearn/linear_model/coordinate_descent.py:492: ConvergenceWarning: Objective did not converge. You might want to increase the number of iterations. Fitting data with very small alpha may cause precision problems.\n",
      "  ConvergenceWarning)\n",
      "/anaconda3/lib/python3.7/site-packages/sklearn/linear_model/coordinate_descent.py:492: ConvergenceWarning: Objective did not converge. You might want to increase the number of iterations. Fitting data with very small alpha may cause precision problems.\n",
      "  ConvergenceWarning)\n",
      "/anaconda3/lib/python3.7/site-packages/sklearn/linear_model/coordinate_descent.py:492: ConvergenceWarning: Objective did not converge. You might want to increase the number of iterations. Fitting data with very small alpha may cause precision problems.\n",
      "  ConvergenceWarning)\n",
      "/anaconda3/lib/python3.7/site-packages/sklearn/linear_model/coordinate_descent.py:492: ConvergenceWarning: Objective did not converge. You might want to increase the number of iterations. Fitting data with very small alpha may cause precision problems.\n",
      "  ConvergenceWarning)\n",
      "/anaconda3/lib/python3.7/site-packages/sklearn/linear_model/coordinate_descent.py:492: ConvergenceWarning: Objective did not converge. You might want to increase the number of iterations. Fitting data with very small alpha may cause precision problems.\n",
      "  ConvergenceWarning)\n",
      "/anaconda3/lib/python3.7/site-packages/sklearn/linear_model/coordinate_descent.py:492: ConvergenceWarning: Objective did not converge. You might want to increase the number of iterations. Fitting data with very small alpha may cause precision problems.\n",
      "  ConvergenceWarning)\n",
      "/anaconda3/lib/python3.7/site-packages/sklearn/linear_model/coordinate_descent.py:492: ConvergenceWarning: Objective did not converge. You might want to increase the number of iterations. Fitting data with very small alpha may cause precision problems.\n",
      "  ConvergenceWarning)\n",
      "/anaconda3/lib/python3.7/site-packages/sklearn/linear_model/coordinate_descent.py:492: ConvergenceWarning: Objective did not converge. You might want to increase the number of iterations. Fitting data with very small alpha may cause precision problems.\n",
      "  ConvergenceWarning)\n",
      "/anaconda3/lib/python3.7/site-packages/sklearn/linear_model/coordinate_descent.py:492: ConvergenceWarning: Objective did not converge. You might want to increase the number of iterations. Fitting data with very small alpha may cause precision problems.\n",
      "  ConvergenceWarning)\n",
      "/anaconda3/lib/python3.7/site-packages/sklearn/linear_model/coordinate_descent.py:492: ConvergenceWarning: Objective did not converge. You might want to increase the number of iterations. Fitting data with very small alpha may cause precision problems.\n",
      "  ConvergenceWarning)\n",
      "/anaconda3/lib/python3.7/site-packages/sklearn/linear_model/coordinate_descent.py:492: ConvergenceWarning: Objective did not converge. You might want to increase the number of iterations. Fitting data with very small alpha may cause precision problems.\n",
      "  ConvergenceWarning)\n",
      "/anaconda3/lib/python3.7/site-packages/sklearn/linear_model/coordinate_descent.py:492: ConvergenceWarning: Objective did not converge. You might want to increase the number of iterations. Fitting data with very small alpha may cause precision problems.\n",
      "  ConvergenceWarning)\n",
      "/anaconda3/lib/python3.7/site-packages/sklearn/linear_model/coordinate_descent.py:492: ConvergenceWarning: Objective did not converge. You might want to increase the number of iterations. Fitting data with very small alpha may cause precision problems.\n",
      "  ConvergenceWarning)\n",
      "/anaconda3/lib/python3.7/site-packages/sklearn/linear_model/coordinate_descent.py:492: ConvergenceWarning: Objective did not converge. You might want to increase the number of iterations. Fitting data with very small alpha may cause precision problems.\n",
      "  ConvergenceWarning)\n",
      "/anaconda3/lib/python3.7/site-packages/sklearn/linear_model/coordinate_descent.py:492: ConvergenceWarning: Objective did not converge. You might want to increase the number of iterations. Fitting data with very small alpha may cause precision problems.\n",
      "  ConvergenceWarning)\n",
      "/anaconda3/lib/python3.7/site-packages/sklearn/linear_model/coordinate_descent.py:492: ConvergenceWarning: Objective did not converge. You might want to increase the number of iterations. Fitting data with very small alpha may cause precision problems.\n",
      "  ConvergenceWarning)\n",
      "/anaconda3/lib/python3.7/site-packages/sklearn/linear_model/coordinate_descent.py:492: ConvergenceWarning: Objective did not converge. You might want to increase the number of iterations. Fitting data with very small alpha may cause precision problems.\n",
      "  ConvergenceWarning)\n",
      "/anaconda3/lib/python3.7/site-packages/sklearn/linear_model/coordinate_descent.py:492: ConvergenceWarning: Objective did not converge. You might want to increase the number of iterations. Fitting data with very small alpha may cause precision problems.\n",
      "  ConvergenceWarning)\n",
      "/anaconda3/lib/python3.7/site-packages/sklearn/linear_model/coordinate_descent.py:492: ConvergenceWarning: Objective did not converge. You might want to increase the number of iterations. Fitting data with very small alpha may cause precision problems.\n",
      "  ConvergenceWarning)\n",
      "/anaconda3/lib/python3.7/site-packages/sklearn/linear_model/coordinate_descent.py:492: ConvergenceWarning: Objective did not converge. You might want to increase the number of iterations. Fitting data with very small alpha may cause precision problems.\n",
      "  ConvergenceWarning)\n",
      "/anaconda3/lib/python3.7/site-packages/sklearn/linear_model/coordinate_descent.py:492: ConvergenceWarning: Objective did not converge. You might want to increase the number of iterations. Fitting data with very small alpha may cause precision problems.\n",
      "  ConvergenceWarning)\n",
      "/anaconda3/lib/python3.7/site-packages/sklearn/linear_model/coordinate_descent.py:492: ConvergenceWarning: Objective did not converge. You might want to increase the number of iterations. Fitting data with very small alpha may cause precision problems.\n",
      "  ConvergenceWarning)\n",
      "/anaconda3/lib/python3.7/site-packages/sklearn/linear_model/coordinate_descent.py:492: ConvergenceWarning: Objective did not converge. You might want to increase the number of iterations. Fitting data with very small alpha may cause precision problems.\n",
      "  ConvergenceWarning)\n",
      "/anaconda3/lib/python3.7/site-packages/sklearn/linear_model/coordinate_descent.py:492: ConvergenceWarning: Objective did not converge. You might want to increase the number of iterations. Fitting data with very small alpha may cause precision problems.\n",
      "  ConvergenceWarning)\n",
      "/anaconda3/lib/python3.7/site-packages/sklearn/linear_model/coordinate_descent.py:492: ConvergenceWarning: Objective did not converge. You might want to increase the number of iterations. Fitting data with very small alpha may cause precision problems.\n",
      "  ConvergenceWarning)\n",
      "/anaconda3/lib/python3.7/site-packages/sklearn/linear_model/coordinate_descent.py:492: ConvergenceWarning: Objective did not converge. You might want to increase the number of iterations. Fitting data with very small alpha may cause precision problems.\n",
      "  ConvergenceWarning)\n",
      "/anaconda3/lib/python3.7/site-packages/sklearn/linear_model/coordinate_descent.py:492: ConvergenceWarning: Objective did not converge. You might want to increase the number of iterations. Fitting data with very small alpha may cause precision problems.\n",
      "  ConvergenceWarning)\n",
      "/anaconda3/lib/python3.7/site-packages/sklearn/linear_model/coordinate_descent.py:492: ConvergenceWarning: Objective did not converge. You might want to increase the number of iterations. Fitting data with very small alpha may cause precision problems.\n",
      "  ConvergenceWarning)\n",
      "/anaconda3/lib/python3.7/site-packages/sklearn/linear_model/coordinate_descent.py:492: ConvergenceWarning: Objective did not converge. You might want to increase the number of iterations. Fitting data with very small alpha may cause precision problems.\n",
      "  ConvergenceWarning)\n",
      "/anaconda3/lib/python3.7/site-packages/sklearn/linear_model/coordinate_descent.py:492: ConvergenceWarning: Objective did not converge. You might want to increase the number of iterations. Fitting data with very small alpha may cause precision problems.\n",
      "  ConvergenceWarning)\n",
      "/anaconda3/lib/python3.7/site-packages/sklearn/linear_model/coordinate_descent.py:492: ConvergenceWarning: Objective did not converge. You might want to increase the number of iterations. Fitting data with very small alpha may cause precision problems.\n",
      "  ConvergenceWarning)\n",
      "/anaconda3/lib/python3.7/site-packages/sklearn/linear_model/coordinate_descent.py:492: ConvergenceWarning: Objective did not converge. You might want to increase the number of iterations. Fitting data with very small alpha may cause precision problems.\n",
      "  ConvergenceWarning)\n",
      "/anaconda3/lib/python3.7/site-packages/sklearn/linear_model/coordinate_descent.py:492: ConvergenceWarning: Objective did not converge. You might want to increase the number of iterations. Fitting data with very small alpha may cause precision problems.\n",
      "  ConvergenceWarning)\n",
      "/anaconda3/lib/python3.7/site-packages/sklearn/linear_model/coordinate_descent.py:492: ConvergenceWarning: Objective did not converge. You might want to increase the number of iterations. Fitting data with very small alpha may cause precision problems.\n",
      "  ConvergenceWarning)\n",
      "/anaconda3/lib/python3.7/site-packages/sklearn/linear_model/coordinate_descent.py:492: ConvergenceWarning: Objective did not converge. You might want to increase the number of iterations. Fitting data with very small alpha may cause precision problems.\n",
      "  ConvergenceWarning)\n",
      "/anaconda3/lib/python3.7/site-packages/sklearn/linear_model/coordinate_descent.py:492: ConvergenceWarning: Objective did not converge. You might want to increase the number of iterations. Fitting data with very small alpha may cause precision problems.\n",
      "  ConvergenceWarning)\n",
      "/anaconda3/lib/python3.7/site-packages/sklearn/linear_model/coordinate_descent.py:492: ConvergenceWarning: Objective did not converge. You might want to increase the number of iterations. Fitting data with very small alpha may cause precision problems.\n",
      "  ConvergenceWarning)\n",
      "/anaconda3/lib/python3.7/site-packages/sklearn/linear_model/coordinate_descent.py:492: ConvergenceWarning: Objective did not converge. You might want to increase the number of iterations. Fitting data with very small alpha may cause precision problems.\n",
      "  ConvergenceWarning)\n"
     ]
    },
    {
     "name": "stderr",
     "output_type": "stream",
     "text": [
      "/anaconda3/lib/python3.7/site-packages/sklearn/linear_model/coordinate_descent.py:492: ConvergenceWarning: Objective did not converge. You might want to increase the number of iterations. Fitting data with very small alpha may cause precision problems.\n",
      "  ConvergenceWarning)\n",
      "/anaconda3/lib/python3.7/site-packages/sklearn/linear_model/coordinate_descent.py:492: ConvergenceWarning: Objective did not converge. You might want to increase the number of iterations. Fitting data with very small alpha may cause precision problems.\n",
      "  ConvergenceWarning)\n",
      "/anaconda3/lib/python3.7/site-packages/sklearn/linear_model/coordinate_descent.py:492: ConvergenceWarning: Objective did not converge. You might want to increase the number of iterations. Fitting data with very small alpha may cause precision problems.\n",
      "  ConvergenceWarning)\n",
      "/anaconda3/lib/python3.7/site-packages/sklearn/linear_model/coordinate_descent.py:492: ConvergenceWarning: Objective did not converge. You might want to increase the number of iterations. Fitting data with very small alpha may cause precision problems.\n",
      "  ConvergenceWarning)\n",
      "/anaconda3/lib/python3.7/site-packages/sklearn/linear_model/coordinate_descent.py:492: ConvergenceWarning: Objective did not converge. You might want to increase the number of iterations. Fitting data with very small alpha may cause precision problems.\n",
      "  ConvergenceWarning)\n",
      "/anaconda3/lib/python3.7/site-packages/sklearn/linear_model/coordinate_descent.py:492: ConvergenceWarning: Objective did not converge. You might want to increase the number of iterations. Fitting data with very small alpha may cause precision problems.\n",
      "  ConvergenceWarning)\n",
      "/anaconda3/lib/python3.7/site-packages/sklearn/linear_model/coordinate_descent.py:492: ConvergenceWarning: Objective did not converge. You might want to increase the number of iterations. Fitting data with very small alpha may cause precision problems.\n",
      "  ConvergenceWarning)\n",
      "/anaconda3/lib/python3.7/site-packages/sklearn/linear_model/coordinate_descent.py:492: ConvergenceWarning: Objective did not converge. You might want to increase the number of iterations. Fitting data with very small alpha may cause precision problems.\n",
      "  ConvergenceWarning)\n",
      "/anaconda3/lib/python3.7/site-packages/sklearn/linear_model/coordinate_descent.py:492: ConvergenceWarning: Objective did not converge. You might want to increase the number of iterations. Fitting data with very small alpha may cause precision problems.\n",
      "  ConvergenceWarning)\n",
      "/anaconda3/lib/python3.7/site-packages/sklearn/linear_model/coordinate_descent.py:492: ConvergenceWarning: Objective did not converge. You might want to increase the number of iterations. Fitting data with very small alpha may cause precision problems.\n",
      "  ConvergenceWarning)\n",
      "/anaconda3/lib/python3.7/site-packages/sklearn/linear_model/coordinate_descent.py:492: ConvergenceWarning: Objective did not converge. You might want to increase the number of iterations. Fitting data with very small alpha may cause precision problems.\n",
      "  ConvergenceWarning)\n",
      "/anaconda3/lib/python3.7/site-packages/sklearn/linear_model/coordinate_descent.py:492: ConvergenceWarning: Objective did not converge. You might want to increase the number of iterations. Fitting data with very small alpha may cause precision problems.\n",
      "  ConvergenceWarning)\n",
      "/anaconda3/lib/python3.7/site-packages/sklearn/linear_model/coordinate_descent.py:492: ConvergenceWarning: Objective did not converge. You might want to increase the number of iterations. Fitting data with very small alpha may cause precision problems.\n",
      "  ConvergenceWarning)\n",
      "/anaconda3/lib/python3.7/site-packages/sklearn/linear_model/coordinate_descent.py:492: ConvergenceWarning: Objective did not converge. You might want to increase the number of iterations. Fitting data with very small alpha may cause precision problems.\n",
      "  ConvergenceWarning)\n",
      "/anaconda3/lib/python3.7/site-packages/sklearn/linear_model/coordinate_descent.py:492: ConvergenceWarning: Objective did not converge. You might want to increase the number of iterations. Fitting data with very small alpha may cause precision problems.\n",
      "  ConvergenceWarning)\n",
      "/anaconda3/lib/python3.7/site-packages/sklearn/linear_model/coordinate_descent.py:492: ConvergenceWarning: Objective did not converge. You might want to increase the number of iterations. Fitting data with very small alpha may cause precision problems.\n",
      "  ConvergenceWarning)\n",
      "/anaconda3/lib/python3.7/site-packages/sklearn/linear_model/coordinate_descent.py:492: ConvergenceWarning: Objective did not converge. You might want to increase the number of iterations. Fitting data with very small alpha may cause precision problems.\n",
      "  ConvergenceWarning)\n",
      "/anaconda3/lib/python3.7/site-packages/sklearn/linear_model/coordinate_descent.py:492: ConvergenceWarning: Objective did not converge. You might want to increase the number of iterations. Fitting data with very small alpha may cause precision problems.\n",
      "  ConvergenceWarning)\n",
      "/anaconda3/lib/python3.7/site-packages/sklearn/linear_model/coordinate_descent.py:492: ConvergenceWarning: Objective did not converge. You might want to increase the number of iterations. Fitting data with very small alpha may cause precision problems.\n",
      "  ConvergenceWarning)\n",
      "/anaconda3/lib/python3.7/site-packages/sklearn/linear_model/coordinate_descent.py:492: ConvergenceWarning: Objective did not converge. You might want to increase the number of iterations. Fitting data with very small alpha may cause precision problems.\n",
      "  ConvergenceWarning)\n",
      "/anaconda3/lib/python3.7/site-packages/sklearn/linear_model/coordinate_descent.py:492: ConvergenceWarning: Objective did not converge. You might want to increase the number of iterations. Fitting data with very small alpha may cause precision problems.\n",
      "  ConvergenceWarning)\n",
      "/anaconda3/lib/python3.7/site-packages/sklearn/linear_model/coordinate_descent.py:492: ConvergenceWarning: Objective did not converge. You might want to increase the number of iterations. Fitting data with very small alpha may cause precision problems.\n",
      "  ConvergenceWarning)\n",
      "/anaconda3/lib/python3.7/site-packages/sklearn/linear_model/coordinate_descent.py:492: ConvergenceWarning: Objective did not converge. You might want to increase the number of iterations. Fitting data with very small alpha may cause precision problems.\n",
      "  ConvergenceWarning)\n",
      "/anaconda3/lib/python3.7/site-packages/sklearn/linear_model/coordinate_descent.py:492: ConvergenceWarning: Objective did not converge. You might want to increase the number of iterations. Fitting data with very small alpha may cause precision problems.\n",
      "  ConvergenceWarning)\n",
      "/anaconda3/lib/python3.7/site-packages/sklearn/linear_model/coordinate_descent.py:492: ConvergenceWarning: Objective did not converge. You might want to increase the number of iterations. Fitting data with very small alpha may cause precision problems.\n",
      "  ConvergenceWarning)\n",
      "/anaconda3/lib/python3.7/site-packages/sklearn/linear_model/coordinate_descent.py:492: ConvergenceWarning: Objective did not converge. You might want to increase the number of iterations. Fitting data with very small alpha may cause precision problems.\n",
      "  ConvergenceWarning)\n",
      "/anaconda3/lib/python3.7/site-packages/sklearn/linear_model/coordinate_descent.py:492: ConvergenceWarning: Objective did not converge. You might want to increase the number of iterations. Fitting data with very small alpha may cause precision problems.\n",
      "  ConvergenceWarning)\n",
      "/anaconda3/lib/python3.7/site-packages/sklearn/linear_model/coordinate_descent.py:492: ConvergenceWarning: Objective did not converge. You might want to increase the number of iterations. Fitting data with very small alpha may cause precision problems.\n",
      "  ConvergenceWarning)\n",
      "/anaconda3/lib/python3.7/site-packages/sklearn/linear_model/coordinate_descent.py:492: ConvergenceWarning: Objective did not converge. You might want to increase the number of iterations. Fitting data with very small alpha may cause precision problems.\n",
      "  ConvergenceWarning)\n",
      "/anaconda3/lib/python3.7/site-packages/sklearn/linear_model/coordinate_descent.py:492: ConvergenceWarning: Objective did not converge. You might want to increase the number of iterations. Fitting data with very small alpha may cause precision problems.\n",
      "  ConvergenceWarning)\n",
      "/anaconda3/lib/python3.7/site-packages/sklearn/linear_model/coordinate_descent.py:492: ConvergenceWarning: Objective did not converge. You might want to increase the number of iterations. Fitting data with very small alpha may cause precision problems.\n",
      "  ConvergenceWarning)\n",
      "/anaconda3/lib/python3.7/site-packages/sklearn/linear_model/coordinate_descent.py:492: ConvergenceWarning: Objective did not converge. You might want to increase the number of iterations. Fitting data with very small alpha may cause precision problems.\n",
      "  ConvergenceWarning)\n",
      "/anaconda3/lib/python3.7/site-packages/sklearn/linear_model/coordinate_descent.py:492: ConvergenceWarning: Objective did not converge. You might want to increase the number of iterations. Fitting data with very small alpha may cause precision problems.\n",
      "  ConvergenceWarning)\n",
      "/anaconda3/lib/python3.7/site-packages/sklearn/linear_model/coordinate_descent.py:492: ConvergenceWarning: Objective did not converge. You might want to increase the number of iterations. Fitting data with very small alpha may cause precision problems.\n",
      "  ConvergenceWarning)\n",
      "/anaconda3/lib/python3.7/site-packages/sklearn/linear_model/coordinate_descent.py:492: ConvergenceWarning: Objective did not converge. You might want to increase the number of iterations. Fitting data with very small alpha may cause precision problems.\n",
      "  ConvergenceWarning)\n",
      "/anaconda3/lib/python3.7/site-packages/sklearn/linear_model/coordinate_descent.py:492: ConvergenceWarning: Objective did not converge. You might want to increase the number of iterations. Fitting data with very small alpha may cause precision problems.\n",
      "  ConvergenceWarning)\n",
      "/anaconda3/lib/python3.7/site-packages/sklearn/linear_model/coordinate_descent.py:492: ConvergenceWarning: Objective did not converge. You might want to increase the number of iterations. Fitting data with very small alpha may cause precision problems.\n",
      "  ConvergenceWarning)\n",
      "/anaconda3/lib/python3.7/site-packages/sklearn/linear_model/coordinate_descent.py:492: ConvergenceWarning: Objective did not converge. You might want to increase the number of iterations. Fitting data with very small alpha may cause precision problems.\n",
      "  ConvergenceWarning)\n"
     ]
    },
    {
     "name": "stderr",
     "output_type": "stream",
     "text": [
      "/anaconda3/lib/python3.7/site-packages/sklearn/linear_model/coordinate_descent.py:492: ConvergenceWarning: Objective did not converge. You might want to increase the number of iterations. Fitting data with very small alpha may cause precision problems.\n",
      "  ConvergenceWarning)\n",
      "/anaconda3/lib/python3.7/site-packages/sklearn/linear_model/coordinate_descent.py:492: ConvergenceWarning: Objective did not converge. You might want to increase the number of iterations. Fitting data with very small alpha may cause precision problems.\n",
      "  ConvergenceWarning)\n",
      "/anaconda3/lib/python3.7/site-packages/sklearn/linear_model/coordinate_descent.py:492: ConvergenceWarning: Objective did not converge. You might want to increase the number of iterations. Fitting data with very small alpha may cause precision problems.\n",
      "  ConvergenceWarning)\n",
      "/anaconda3/lib/python3.7/site-packages/sklearn/linear_model/coordinate_descent.py:492: ConvergenceWarning: Objective did not converge. You might want to increase the number of iterations. Fitting data with very small alpha may cause precision problems.\n",
      "  ConvergenceWarning)\n",
      "/anaconda3/lib/python3.7/site-packages/sklearn/linear_model/coordinate_descent.py:492: ConvergenceWarning: Objective did not converge. You might want to increase the number of iterations. Fitting data with very small alpha may cause precision problems.\n",
      "  ConvergenceWarning)\n",
      "/anaconda3/lib/python3.7/site-packages/sklearn/linear_model/coordinate_descent.py:492: ConvergenceWarning: Objective did not converge. You might want to increase the number of iterations. Fitting data with very small alpha may cause precision problems.\n",
      "  ConvergenceWarning)\n",
      "/anaconda3/lib/python3.7/site-packages/sklearn/linear_model/coordinate_descent.py:492: ConvergenceWarning: Objective did not converge. You might want to increase the number of iterations. Fitting data with very small alpha may cause precision problems.\n",
      "  ConvergenceWarning)\n",
      "/anaconda3/lib/python3.7/site-packages/sklearn/linear_model/coordinate_descent.py:492: ConvergenceWarning: Objective did not converge. You might want to increase the number of iterations. Fitting data with very small alpha may cause precision problems.\n",
      "  ConvergenceWarning)\n",
      "/anaconda3/lib/python3.7/site-packages/sklearn/linear_model/coordinate_descent.py:492: ConvergenceWarning: Objective did not converge. You might want to increase the number of iterations. Fitting data with very small alpha may cause precision problems.\n",
      "  ConvergenceWarning)\n",
      "/anaconda3/lib/python3.7/site-packages/sklearn/linear_model/coordinate_descent.py:492: ConvergenceWarning: Objective did not converge. You might want to increase the number of iterations. Fitting data with very small alpha may cause precision problems.\n",
      "  ConvergenceWarning)\n",
      "/anaconda3/lib/python3.7/site-packages/sklearn/linear_model/coordinate_descent.py:492: ConvergenceWarning: Objective did not converge. You might want to increase the number of iterations. Fitting data with very small alpha may cause precision problems.\n",
      "  ConvergenceWarning)\n",
      "/anaconda3/lib/python3.7/site-packages/sklearn/linear_model/coordinate_descent.py:492: ConvergenceWarning: Objective did not converge. You might want to increase the number of iterations. Fitting data with very small alpha may cause precision problems.\n",
      "  ConvergenceWarning)\n",
      "/anaconda3/lib/python3.7/site-packages/sklearn/linear_model/coordinate_descent.py:492: ConvergenceWarning: Objective did not converge. You might want to increase the number of iterations. Fitting data with very small alpha may cause precision problems.\n",
      "  ConvergenceWarning)\n",
      "/anaconda3/lib/python3.7/site-packages/sklearn/linear_model/coordinate_descent.py:492: ConvergenceWarning: Objective did not converge. You might want to increase the number of iterations. Fitting data with very small alpha may cause precision problems.\n",
      "  ConvergenceWarning)\n",
      "/anaconda3/lib/python3.7/site-packages/sklearn/linear_model/coordinate_descent.py:492: ConvergenceWarning: Objective did not converge. You might want to increase the number of iterations. Fitting data with very small alpha may cause precision problems.\n",
      "  ConvergenceWarning)\n",
      "/anaconda3/lib/python3.7/site-packages/sklearn/linear_model/coordinate_descent.py:492: ConvergenceWarning: Objective did not converge. You might want to increase the number of iterations. Fitting data with very small alpha may cause precision problems.\n",
      "  ConvergenceWarning)\n",
      "/anaconda3/lib/python3.7/site-packages/sklearn/linear_model/coordinate_descent.py:492: ConvergenceWarning: Objective did not converge. You might want to increase the number of iterations. Fitting data with very small alpha may cause precision problems.\n",
      "  ConvergenceWarning)\n",
      "/anaconda3/lib/python3.7/site-packages/sklearn/linear_model/coordinate_descent.py:492: ConvergenceWarning: Objective did not converge. You might want to increase the number of iterations. Fitting data with very small alpha may cause precision problems.\n",
      "  ConvergenceWarning)\n",
      "/anaconda3/lib/python3.7/site-packages/sklearn/linear_model/coordinate_descent.py:492: ConvergenceWarning: Objective did not converge. You might want to increase the number of iterations. Fitting data with very small alpha may cause precision problems.\n",
      "  ConvergenceWarning)\n",
      "/anaconda3/lib/python3.7/site-packages/sklearn/linear_model/coordinate_descent.py:492: ConvergenceWarning: Objective did not converge. You might want to increase the number of iterations. Fitting data with very small alpha may cause precision problems.\n",
      "  ConvergenceWarning)\n",
      "/anaconda3/lib/python3.7/site-packages/sklearn/linear_model/coordinate_descent.py:492: ConvergenceWarning: Objective did not converge. You might want to increase the number of iterations. Fitting data with very small alpha may cause precision problems.\n",
      "  ConvergenceWarning)\n",
      "/anaconda3/lib/python3.7/site-packages/sklearn/linear_model/coordinate_descent.py:492: ConvergenceWarning: Objective did not converge. You might want to increase the number of iterations. Fitting data with very small alpha may cause precision problems.\n",
      "  ConvergenceWarning)\n",
      "/anaconda3/lib/python3.7/site-packages/sklearn/linear_model/coordinate_descent.py:492: ConvergenceWarning: Objective did not converge. You might want to increase the number of iterations. Fitting data with very small alpha may cause precision problems.\n",
      "  ConvergenceWarning)\n",
      "/anaconda3/lib/python3.7/site-packages/sklearn/linear_model/coordinate_descent.py:492: ConvergenceWarning: Objective did not converge. You might want to increase the number of iterations. Fitting data with very small alpha may cause precision problems.\n",
      "  ConvergenceWarning)\n",
      "/anaconda3/lib/python3.7/site-packages/sklearn/linear_model/coordinate_descent.py:492: ConvergenceWarning: Objective did not converge. You might want to increase the number of iterations. Fitting data with very small alpha may cause precision problems.\n",
      "  ConvergenceWarning)\n",
      "/anaconda3/lib/python3.7/site-packages/sklearn/linear_model/coordinate_descent.py:492: ConvergenceWarning: Objective did not converge. You might want to increase the number of iterations. Fitting data with very small alpha may cause precision problems.\n",
      "  ConvergenceWarning)\n",
      "/anaconda3/lib/python3.7/site-packages/sklearn/linear_model/coordinate_descent.py:492: ConvergenceWarning: Objective did not converge. You might want to increase the number of iterations. Fitting data with very small alpha may cause precision problems.\n",
      "  ConvergenceWarning)\n",
      "/anaconda3/lib/python3.7/site-packages/sklearn/linear_model/coordinate_descent.py:492: ConvergenceWarning: Objective did not converge. You might want to increase the number of iterations. Fitting data with very small alpha may cause precision problems.\n",
      "  ConvergenceWarning)\n",
      "/anaconda3/lib/python3.7/site-packages/sklearn/linear_model/coordinate_descent.py:492: ConvergenceWarning: Objective did not converge. You might want to increase the number of iterations. Fitting data with very small alpha may cause precision problems.\n",
      "  ConvergenceWarning)\n",
      "/anaconda3/lib/python3.7/site-packages/sklearn/linear_model/coordinate_descent.py:492: ConvergenceWarning: Objective did not converge. You might want to increase the number of iterations. Fitting data with very small alpha may cause precision problems.\n",
      "  ConvergenceWarning)\n",
      "/anaconda3/lib/python3.7/site-packages/sklearn/linear_model/coordinate_descent.py:492: ConvergenceWarning: Objective did not converge. You might want to increase the number of iterations. Fitting data with very small alpha may cause precision problems.\n",
      "  ConvergenceWarning)\n",
      "/anaconda3/lib/python3.7/site-packages/sklearn/linear_model/coordinate_descent.py:492: ConvergenceWarning: Objective did not converge. You might want to increase the number of iterations. Fitting data with very small alpha may cause precision problems.\n",
      "  ConvergenceWarning)\n",
      "/anaconda3/lib/python3.7/site-packages/sklearn/linear_model/coordinate_descent.py:492: ConvergenceWarning: Objective did not converge. You might want to increase the number of iterations. Fitting data with very small alpha may cause precision problems.\n",
      "  ConvergenceWarning)\n",
      "/anaconda3/lib/python3.7/site-packages/sklearn/linear_model/coordinate_descent.py:492: ConvergenceWarning: Objective did not converge. You might want to increase the number of iterations. Fitting data with very small alpha may cause precision problems.\n",
      "  ConvergenceWarning)\n",
      "/anaconda3/lib/python3.7/site-packages/sklearn/linear_model/coordinate_descent.py:492: ConvergenceWarning: Objective did not converge. You might want to increase the number of iterations. Fitting data with very small alpha may cause precision problems.\n",
      "  ConvergenceWarning)\n",
      "/anaconda3/lib/python3.7/site-packages/sklearn/linear_model/coordinate_descent.py:492: ConvergenceWarning: Objective did not converge. You might want to increase the number of iterations. Fitting data with very small alpha may cause precision problems.\n",
      "  ConvergenceWarning)\n"
     ]
    },
    {
     "name": "stderr",
     "output_type": "stream",
     "text": [
      "/anaconda3/lib/python3.7/site-packages/sklearn/linear_model/coordinate_descent.py:492: ConvergenceWarning: Objective did not converge. You might want to increase the number of iterations. Fitting data with very small alpha may cause precision problems.\n",
      "  ConvergenceWarning)\n",
      "/anaconda3/lib/python3.7/site-packages/sklearn/linear_model/coordinate_descent.py:492: ConvergenceWarning: Objective did not converge. You might want to increase the number of iterations. Fitting data with very small alpha may cause precision problems.\n",
      "  ConvergenceWarning)\n",
      "/anaconda3/lib/python3.7/site-packages/sklearn/linear_model/coordinate_descent.py:492: ConvergenceWarning: Objective did not converge. You might want to increase the number of iterations. Fitting data with very small alpha may cause precision problems.\n",
      "  ConvergenceWarning)\n",
      "/anaconda3/lib/python3.7/site-packages/sklearn/linear_model/coordinate_descent.py:492: ConvergenceWarning: Objective did not converge. You might want to increase the number of iterations. Fitting data with very small alpha may cause precision problems.\n",
      "  ConvergenceWarning)\n",
      "/anaconda3/lib/python3.7/site-packages/sklearn/linear_model/coordinate_descent.py:492: ConvergenceWarning: Objective did not converge. You might want to increase the number of iterations. Fitting data with very small alpha may cause precision problems.\n",
      "  ConvergenceWarning)\n",
      "/anaconda3/lib/python3.7/site-packages/sklearn/linear_model/coordinate_descent.py:492: ConvergenceWarning: Objective did not converge. You might want to increase the number of iterations. Fitting data with very small alpha may cause precision problems.\n",
      "  ConvergenceWarning)\n",
      "/anaconda3/lib/python3.7/site-packages/sklearn/linear_model/coordinate_descent.py:492: ConvergenceWarning: Objective did not converge. You might want to increase the number of iterations. Fitting data with very small alpha may cause precision problems.\n",
      "  ConvergenceWarning)\n",
      "/anaconda3/lib/python3.7/site-packages/sklearn/linear_model/coordinate_descent.py:492: ConvergenceWarning: Objective did not converge. You might want to increase the number of iterations. Fitting data with very small alpha may cause precision problems.\n",
      "  ConvergenceWarning)\n",
      "/anaconda3/lib/python3.7/site-packages/sklearn/linear_model/coordinate_descent.py:492: ConvergenceWarning: Objective did not converge. You might want to increase the number of iterations. Fitting data with very small alpha may cause precision problems.\n",
      "  ConvergenceWarning)\n",
      "/anaconda3/lib/python3.7/site-packages/sklearn/linear_model/coordinate_descent.py:492: ConvergenceWarning: Objective did not converge. You might want to increase the number of iterations. Fitting data with very small alpha may cause precision problems.\n",
      "  ConvergenceWarning)\n",
      "/anaconda3/lib/python3.7/site-packages/sklearn/linear_model/coordinate_descent.py:492: ConvergenceWarning: Objective did not converge. You might want to increase the number of iterations. Fitting data with very small alpha may cause precision problems.\n",
      "  ConvergenceWarning)\n",
      "/anaconda3/lib/python3.7/site-packages/sklearn/linear_model/coordinate_descent.py:492: ConvergenceWarning: Objective did not converge. You might want to increase the number of iterations. Fitting data with very small alpha may cause precision problems.\n",
      "  ConvergenceWarning)\n",
      "/anaconda3/lib/python3.7/site-packages/sklearn/linear_model/coordinate_descent.py:492: ConvergenceWarning: Objective did not converge. You might want to increase the number of iterations. Fitting data with very small alpha may cause precision problems.\n",
      "  ConvergenceWarning)\n",
      "/anaconda3/lib/python3.7/site-packages/sklearn/linear_model/coordinate_descent.py:492: ConvergenceWarning: Objective did not converge. You might want to increase the number of iterations. Fitting data with very small alpha may cause precision problems.\n",
      "  ConvergenceWarning)\n",
      "/anaconda3/lib/python3.7/site-packages/sklearn/linear_model/coordinate_descent.py:492: ConvergenceWarning: Objective did not converge. You might want to increase the number of iterations. Fitting data with very small alpha may cause precision problems.\n",
      "  ConvergenceWarning)\n",
      "/anaconda3/lib/python3.7/site-packages/sklearn/linear_model/coordinate_descent.py:492: ConvergenceWarning: Objective did not converge. You might want to increase the number of iterations. Fitting data with very small alpha may cause precision problems.\n",
      "  ConvergenceWarning)\n",
      "/anaconda3/lib/python3.7/site-packages/sklearn/linear_model/coordinate_descent.py:492: ConvergenceWarning: Objective did not converge. You might want to increase the number of iterations. Fitting data with very small alpha may cause precision problems.\n",
      "  ConvergenceWarning)\n",
      "/anaconda3/lib/python3.7/site-packages/sklearn/linear_model/coordinate_descent.py:492: ConvergenceWarning: Objective did not converge. You might want to increase the number of iterations. Fitting data with very small alpha may cause precision problems.\n",
      "  ConvergenceWarning)\n",
      "/anaconda3/lib/python3.7/site-packages/sklearn/linear_model/coordinate_descent.py:492: ConvergenceWarning: Objective did not converge. You might want to increase the number of iterations. Fitting data with very small alpha may cause precision problems.\n",
      "  ConvergenceWarning)\n",
      "/anaconda3/lib/python3.7/site-packages/sklearn/linear_model/coordinate_descent.py:492: ConvergenceWarning: Objective did not converge. You might want to increase the number of iterations. Fitting data with very small alpha may cause precision problems.\n",
      "  ConvergenceWarning)\n",
      "/anaconda3/lib/python3.7/site-packages/sklearn/linear_model/coordinate_descent.py:492: ConvergenceWarning: Objective did not converge. You might want to increase the number of iterations. Fitting data with very small alpha may cause precision problems.\n",
      "  ConvergenceWarning)\n",
      "/anaconda3/lib/python3.7/site-packages/sklearn/linear_model/coordinate_descent.py:492: ConvergenceWarning: Objective did not converge. You might want to increase the number of iterations. Fitting data with very small alpha may cause precision problems.\n",
      "  ConvergenceWarning)\n",
      "/anaconda3/lib/python3.7/site-packages/sklearn/linear_model/coordinate_descent.py:492: ConvergenceWarning: Objective did not converge. You might want to increase the number of iterations. Fitting data with very small alpha may cause precision problems.\n",
      "  ConvergenceWarning)\n",
      "/anaconda3/lib/python3.7/site-packages/sklearn/linear_model/coordinate_descent.py:492: ConvergenceWarning: Objective did not converge. You might want to increase the number of iterations. Fitting data with very small alpha may cause precision problems.\n",
      "  ConvergenceWarning)\n",
      "/anaconda3/lib/python3.7/site-packages/sklearn/linear_model/coordinate_descent.py:492: ConvergenceWarning: Objective did not converge. You might want to increase the number of iterations. Fitting data with very small alpha may cause precision problems.\n",
      "  ConvergenceWarning)\n",
      "/anaconda3/lib/python3.7/site-packages/sklearn/linear_model/coordinate_descent.py:492: ConvergenceWarning: Objective did not converge. You might want to increase the number of iterations. Fitting data with very small alpha may cause precision problems.\n",
      "  ConvergenceWarning)\n",
      "/anaconda3/lib/python3.7/site-packages/sklearn/linear_model/coordinate_descent.py:492: ConvergenceWarning: Objective did not converge. You might want to increase the number of iterations. Fitting data with very small alpha may cause precision problems.\n",
      "  ConvergenceWarning)\n",
      "/anaconda3/lib/python3.7/site-packages/sklearn/linear_model/coordinate_descent.py:492: ConvergenceWarning: Objective did not converge. You might want to increase the number of iterations. Fitting data with very small alpha may cause precision problems.\n",
      "  ConvergenceWarning)\n",
      "/anaconda3/lib/python3.7/site-packages/sklearn/linear_model/coordinate_descent.py:492: ConvergenceWarning: Objective did not converge. You might want to increase the number of iterations. Fitting data with very small alpha may cause precision problems.\n",
      "  ConvergenceWarning)\n",
      "/anaconda3/lib/python3.7/site-packages/sklearn/linear_model/coordinate_descent.py:492: ConvergenceWarning: Objective did not converge. You might want to increase the number of iterations. Fitting data with very small alpha may cause precision problems.\n",
      "  ConvergenceWarning)\n",
      "/anaconda3/lib/python3.7/site-packages/sklearn/linear_model/coordinate_descent.py:492: ConvergenceWarning: Objective did not converge. You might want to increase the number of iterations. Fitting data with very small alpha may cause precision problems.\n",
      "  ConvergenceWarning)\n",
      "/anaconda3/lib/python3.7/site-packages/sklearn/linear_model/coordinate_descent.py:492: ConvergenceWarning: Objective did not converge. You might want to increase the number of iterations. Fitting data with very small alpha may cause precision problems.\n",
      "  ConvergenceWarning)\n",
      "/anaconda3/lib/python3.7/site-packages/sklearn/linear_model/coordinate_descent.py:492: ConvergenceWarning: Objective did not converge. You might want to increase the number of iterations. Fitting data with very small alpha may cause precision problems.\n",
      "  ConvergenceWarning)\n"
     ]
    },
    {
     "name": "stderr",
     "output_type": "stream",
     "text": [
      "/anaconda3/lib/python3.7/site-packages/sklearn/linear_model/coordinate_descent.py:492: ConvergenceWarning: Objective did not converge. You might want to increase the number of iterations. Fitting data with very small alpha may cause precision problems.\n",
      "  ConvergenceWarning)\n",
      "/anaconda3/lib/python3.7/site-packages/sklearn/linear_model/coordinate_descent.py:492: ConvergenceWarning: Objective did not converge. You might want to increase the number of iterations. Fitting data with very small alpha may cause precision problems.\n",
      "  ConvergenceWarning)\n",
      "/anaconda3/lib/python3.7/site-packages/sklearn/linear_model/coordinate_descent.py:492: ConvergenceWarning: Objective did not converge. You might want to increase the number of iterations. Fitting data with very small alpha may cause precision problems.\n",
      "  ConvergenceWarning)\n",
      "/anaconda3/lib/python3.7/site-packages/sklearn/linear_model/coordinate_descent.py:492: ConvergenceWarning: Objective did not converge. You might want to increase the number of iterations. Fitting data with very small alpha may cause precision problems.\n",
      "  ConvergenceWarning)\n",
      "/anaconda3/lib/python3.7/site-packages/sklearn/linear_model/coordinate_descent.py:492: ConvergenceWarning: Objective did not converge. You might want to increase the number of iterations. Fitting data with very small alpha may cause precision problems.\n",
      "  ConvergenceWarning)\n",
      "/anaconda3/lib/python3.7/site-packages/sklearn/linear_model/coordinate_descent.py:492: ConvergenceWarning: Objective did not converge. You might want to increase the number of iterations. Fitting data with very small alpha may cause precision problems.\n",
      "  ConvergenceWarning)\n",
      "/anaconda3/lib/python3.7/site-packages/sklearn/linear_model/coordinate_descent.py:492: ConvergenceWarning: Objective did not converge. You might want to increase the number of iterations. Fitting data with very small alpha may cause precision problems.\n",
      "  ConvergenceWarning)\n",
      "/anaconda3/lib/python3.7/site-packages/sklearn/linear_model/coordinate_descent.py:492: ConvergenceWarning: Objective did not converge. You might want to increase the number of iterations. Fitting data with very small alpha may cause precision problems.\n",
      "  ConvergenceWarning)\n",
      "/anaconda3/lib/python3.7/site-packages/sklearn/linear_model/coordinate_descent.py:492: ConvergenceWarning: Objective did not converge. You might want to increase the number of iterations. Fitting data with very small alpha may cause precision problems.\n",
      "  ConvergenceWarning)\n",
      "/anaconda3/lib/python3.7/site-packages/sklearn/linear_model/coordinate_descent.py:492: ConvergenceWarning: Objective did not converge. You might want to increase the number of iterations. Fitting data with very small alpha may cause precision problems.\n",
      "  ConvergenceWarning)\n",
      "/anaconda3/lib/python3.7/site-packages/sklearn/linear_model/coordinate_descent.py:492: ConvergenceWarning: Objective did not converge. You might want to increase the number of iterations. Fitting data with very small alpha may cause precision problems.\n",
      "  ConvergenceWarning)\n",
      "/anaconda3/lib/python3.7/site-packages/sklearn/linear_model/coordinate_descent.py:492: ConvergenceWarning: Objective did not converge. You might want to increase the number of iterations. Fitting data with very small alpha may cause precision problems.\n",
      "  ConvergenceWarning)\n",
      "/anaconda3/lib/python3.7/site-packages/sklearn/linear_model/coordinate_descent.py:492: ConvergenceWarning: Objective did not converge. You might want to increase the number of iterations. Fitting data with very small alpha may cause precision problems.\n",
      "  ConvergenceWarning)\n",
      "/anaconda3/lib/python3.7/site-packages/sklearn/linear_model/coordinate_descent.py:492: ConvergenceWarning: Objective did not converge. You might want to increase the number of iterations. Fitting data with very small alpha may cause precision problems.\n",
      "  ConvergenceWarning)\n",
      "/anaconda3/lib/python3.7/site-packages/sklearn/linear_model/coordinate_descent.py:492: ConvergenceWarning: Objective did not converge. You might want to increase the number of iterations. Fitting data with very small alpha may cause precision problems.\n",
      "  ConvergenceWarning)\n",
      "/anaconda3/lib/python3.7/site-packages/sklearn/linear_model/coordinate_descent.py:492: ConvergenceWarning: Objective did not converge. You might want to increase the number of iterations. Fitting data with very small alpha may cause precision problems.\n",
      "  ConvergenceWarning)\n",
      "/anaconda3/lib/python3.7/site-packages/sklearn/linear_model/coordinate_descent.py:492: ConvergenceWarning: Objective did not converge. You might want to increase the number of iterations. Fitting data with very small alpha may cause precision problems.\n",
      "  ConvergenceWarning)\n",
      "/anaconda3/lib/python3.7/site-packages/sklearn/linear_model/coordinate_descent.py:492: ConvergenceWarning: Objective did not converge. You might want to increase the number of iterations. Fitting data with very small alpha may cause precision problems.\n",
      "  ConvergenceWarning)\n",
      "/anaconda3/lib/python3.7/site-packages/sklearn/linear_model/coordinate_descent.py:492: ConvergenceWarning: Objective did not converge. You might want to increase the number of iterations. Fitting data with very small alpha may cause precision problems.\n",
      "  ConvergenceWarning)\n",
      "/anaconda3/lib/python3.7/site-packages/sklearn/linear_model/coordinate_descent.py:492: ConvergenceWarning: Objective did not converge. You might want to increase the number of iterations. Fitting data with very small alpha may cause precision problems.\n",
      "  ConvergenceWarning)\n",
      "/anaconda3/lib/python3.7/site-packages/sklearn/linear_model/coordinate_descent.py:492: ConvergenceWarning: Objective did not converge. You might want to increase the number of iterations. Fitting data with very small alpha may cause precision problems.\n",
      "  ConvergenceWarning)\n",
      "/anaconda3/lib/python3.7/site-packages/sklearn/linear_model/coordinate_descent.py:492: ConvergenceWarning: Objective did not converge. You might want to increase the number of iterations. Fitting data with very small alpha may cause precision problems.\n",
      "  ConvergenceWarning)\n",
      "/anaconda3/lib/python3.7/site-packages/sklearn/linear_model/coordinate_descent.py:492: ConvergenceWarning: Objective did not converge. You might want to increase the number of iterations. Fitting data with very small alpha may cause precision problems.\n",
      "  ConvergenceWarning)\n",
      "/anaconda3/lib/python3.7/site-packages/sklearn/linear_model/coordinate_descent.py:492: ConvergenceWarning: Objective did not converge. You might want to increase the number of iterations. Fitting data with very small alpha may cause precision problems.\n",
      "  ConvergenceWarning)\n",
      "/anaconda3/lib/python3.7/site-packages/sklearn/linear_model/coordinate_descent.py:492: ConvergenceWarning: Objective did not converge. You might want to increase the number of iterations. Fitting data with very small alpha may cause precision problems.\n",
      "  ConvergenceWarning)\n",
      "/anaconda3/lib/python3.7/site-packages/sklearn/linear_model/coordinate_descent.py:492: ConvergenceWarning: Objective did not converge. You might want to increase the number of iterations. Fitting data with very small alpha may cause precision problems.\n",
      "  ConvergenceWarning)\n",
      "/anaconda3/lib/python3.7/site-packages/sklearn/linear_model/coordinate_descent.py:492: ConvergenceWarning: Objective did not converge. You might want to increase the number of iterations. Fitting data with very small alpha may cause precision problems.\n",
      "  ConvergenceWarning)\n",
      "/anaconda3/lib/python3.7/site-packages/sklearn/linear_model/coordinate_descent.py:492: ConvergenceWarning: Objective did not converge. You might want to increase the number of iterations. Fitting data with very small alpha may cause precision problems.\n",
      "  ConvergenceWarning)\n",
      "/anaconda3/lib/python3.7/site-packages/sklearn/linear_model/coordinate_descent.py:492: ConvergenceWarning: Objective did not converge. You might want to increase the number of iterations. Fitting data with very small alpha may cause precision problems.\n",
      "  ConvergenceWarning)\n",
      "/anaconda3/lib/python3.7/site-packages/sklearn/linear_model/coordinate_descent.py:492: ConvergenceWarning: Objective did not converge. You might want to increase the number of iterations. Fitting data with very small alpha may cause precision problems.\n",
      "  ConvergenceWarning)\n",
      "/anaconda3/lib/python3.7/site-packages/sklearn/linear_model/coordinate_descent.py:492: ConvergenceWarning: Objective did not converge. You might want to increase the number of iterations. Fitting data with very small alpha may cause precision problems.\n",
      "  ConvergenceWarning)\n",
      "/anaconda3/lib/python3.7/site-packages/sklearn/linear_model/coordinate_descent.py:492: ConvergenceWarning: Objective did not converge. You might want to increase the number of iterations. Fitting data with very small alpha may cause precision problems.\n",
      "  ConvergenceWarning)\n"
     ]
    },
    {
     "name": "stderr",
     "output_type": "stream",
     "text": [
      "/anaconda3/lib/python3.7/site-packages/sklearn/linear_model/coordinate_descent.py:492: ConvergenceWarning: Objective did not converge. You might want to increase the number of iterations. Fitting data with very small alpha may cause precision problems.\n",
      "  ConvergenceWarning)\n",
      "/anaconda3/lib/python3.7/site-packages/sklearn/linear_model/coordinate_descent.py:492: ConvergenceWarning: Objective did not converge. You might want to increase the number of iterations. Fitting data with very small alpha may cause precision problems.\n",
      "  ConvergenceWarning)\n",
      "/anaconda3/lib/python3.7/site-packages/sklearn/linear_model/coordinate_descent.py:492: ConvergenceWarning: Objective did not converge. You might want to increase the number of iterations. Fitting data with very small alpha may cause precision problems.\n",
      "  ConvergenceWarning)\n",
      "/anaconda3/lib/python3.7/site-packages/sklearn/linear_model/coordinate_descent.py:492: ConvergenceWarning: Objective did not converge. You might want to increase the number of iterations. Fitting data with very small alpha may cause precision problems.\n",
      "  ConvergenceWarning)\n",
      "/anaconda3/lib/python3.7/site-packages/sklearn/linear_model/coordinate_descent.py:492: ConvergenceWarning: Objective did not converge. You might want to increase the number of iterations. Fitting data with very small alpha may cause precision problems.\n",
      "  ConvergenceWarning)\n",
      "/anaconda3/lib/python3.7/site-packages/sklearn/linear_model/coordinate_descent.py:492: ConvergenceWarning: Objective did not converge. You might want to increase the number of iterations. Fitting data with very small alpha may cause precision problems.\n",
      "  ConvergenceWarning)\n",
      "/anaconda3/lib/python3.7/site-packages/sklearn/linear_model/coordinate_descent.py:492: ConvergenceWarning: Objective did not converge. You might want to increase the number of iterations. Fitting data with very small alpha may cause precision problems.\n",
      "  ConvergenceWarning)\n",
      "/anaconda3/lib/python3.7/site-packages/sklearn/linear_model/coordinate_descent.py:492: ConvergenceWarning: Objective did not converge. You might want to increase the number of iterations. Fitting data with very small alpha may cause precision problems.\n",
      "  ConvergenceWarning)\n",
      "/anaconda3/lib/python3.7/site-packages/sklearn/linear_model/coordinate_descent.py:492: ConvergenceWarning: Objective did not converge. You might want to increase the number of iterations. Fitting data with very small alpha may cause precision problems.\n",
      "  ConvergenceWarning)\n",
      "/anaconda3/lib/python3.7/site-packages/sklearn/linear_model/coordinate_descent.py:492: ConvergenceWarning: Objective did not converge. You might want to increase the number of iterations. Fitting data with very small alpha may cause precision problems.\n",
      "  ConvergenceWarning)\n",
      "/anaconda3/lib/python3.7/site-packages/sklearn/linear_model/coordinate_descent.py:492: ConvergenceWarning: Objective did not converge. You might want to increase the number of iterations. Fitting data with very small alpha may cause precision problems.\n",
      "  ConvergenceWarning)\n",
      "/anaconda3/lib/python3.7/site-packages/sklearn/linear_model/coordinate_descent.py:492: ConvergenceWarning: Objective did not converge. You might want to increase the number of iterations. Fitting data with very small alpha may cause precision problems.\n",
      "  ConvergenceWarning)\n",
      "/anaconda3/lib/python3.7/site-packages/sklearn/linear_model/coordinate_descent.py:492: ConvergenceWarning: Objective did not converge. You might want to increase the number of iterations. Fitting data with very small alpha may cause precision problems.\n",
      "  ConvergenceWarning)\n",
      "/anaconda3/lib/python3.7/site-packages/sklearn/linear_model/coordinate_descent.py:492: ConvergenceWarning: Objective did not converge. You might want to increase the number of iterations. Fitting data with very small alpha may cause precision problems.\n",
      "  ConvergenceWarning)\n",
      "/anaconda3/lib/python3.7/site-packages/sklearn/linear_model/coordinate_descent.py:492: ConvergenceWarning: Objective did not converge. You might want to increase the number of iterations. Fitting data with very small alpha may cause precision problems.\n",
      "  ConvergenceWarning)\n",
      "/anaconda3/lib/python3.7/site-packages/sklearn/linear_model/coordinate_descent.py:492: ConvergenceWarning: Objective did not converge. You might want to increase the number of iterations. Fitting data with very small alpha may cause precision problems.\n",
      "  ConvergenceWarning)\n",
      "/anaconda3/lib/python3.7/site-packages/sklearn/linear_model/coordinate_descent.py:492: ConvergenceWarning: Objective did not converge. You might want to increase the number of iterations. Fitting data with very small alpha may cause precision problems.\n",
      "  ConvergenceWarning)\n",
      "/anaconda3/lib/python3.7/site-packages/sklearn/linear_model/coordinate_descent.py:492: ConvergenceWarning: Objective did not converge. You might want to increase the number of iterations. Fitting data with very small alpha may cause precision problems.\n",
      "  ConvergenceWarning)\n",
      "/anaconda3/lib/python3.7/site-packages/sklearn/linear_model/coordinate_descent.py:492: ConvergenceWarning: Objective did not converge. You might want to increase the number of iterations. Fitting data with very small alpha may cause precision problems.\n",
      "  ConvergenceWarning)\n",
      "/anaconda3/lib/python3.7/site-packages/sklearn/linear_model/coordinate_descent.py:492: ConvergenceWarning: Objective did not converge. You might want to increase the number of iterations. Fitting data with very small alpha may cause precision problems.\n",
      "  ConvergenceWarning)\n",
      "/anaconda3/lib/python3.7/site-packages/sklearn/linear_model/coordinate_descent.py:492: ConvergenceWarning: Objective did not converge. You might want to increase the number of iterations. Fitting data with very small alpha may cause precision problems.\n",
      "  ConvergenceWarning)\n",
      "/anaconda3/lib/python3.7/site-packages/sklearn/linear_model/coordinate_descent.py:492: ConvergenceWarning: Objective did not converge. You might want to increase the number of iterations. Fitting data with very small alpha may cause precision problems.\n",
      "  ConvergenceWarning)\n",
      "/anaconda3/lib/python3.7/site-packages/sklearn/linear_model/coordinate_descent.py:492: ConvergenceWarning: Objective did not converge. You might want to increase the number of iterations. Fitting data with very small alpha may cause precision problems.\n",
      "  ConvergenceWarning)\n",
      "/anaconda3/lib/python3.7/site-packages/sklearn/linear_model/coordinate_descent.py:492: ConvergenceWarning: Objective did not converge. You might want to increase the number of iterations. Fitting data with very small alpha may cause precision problems.\n",
      "  ConvergenceWarning)\n",
      "/anaconda3/lib/python3.7/site-packages/sklearn/linear_model/coordinate_descent.py:492: ConvergenceWarning: Objective did not converge. You might want to increase the number of iterations. Fitting data with very small alpha may cause precision problems.\n",
      "  ConvergenceWarning)\n",
      "/anaconda3/lib/python3.7/site-packages/sklearn/linear_model/coordinate_descent.py:492: ConvergenceWarning: Objective did not converge. You might want to increase the number of iterations. Fitting data with very small alpha may cause precision problems.\n",
      "  ConvergenceWarning)\n",
      "/anaconda3/lib/python3.7/site-packages/sklearn/linear_model/coordinate_descent.py:492: ConvergenceWarning: Objective did not converge. You might want to increase the number of iterations. Fitting data with very small alpha may cause precision problems.\n",
      "  ConvergenceWarning)\n",
      "/anaconda3/lib/python3.7/site-packages/sklearn/linear_model/coordinate_descent.py:492: ConvergenceWarning: Objective did not converge. You might want to increase the number of iterations. Fitting data with very small alpha may cause precision problems.\n",
      "  ConvergenceWarning)\n",
      "/anaconda3/lib/python3.7/site-packages/sklearn/linear_model/coordinate_descent.py:492: ConvergenceWarning: Objective did not converge. You might want to increase the number of iterations. Fitting data with very small alpha may cause precision problems.\n",
      "  ConvergenceWarning)\n",
      "/anaconda3/lib/python3.7/site-packages/sklearn/linear_model/coordinate_descent.py:492: ConvergenceWarning: Objective did not converge. You might want to increase the number of iterations. Fitting data with very small alpha may cause precision problems.\n",
      "  ConvergenceWarning)\n",
      "/anaconda3/lib/python3.7/site-packages/sklearn/linear_model/coordinate_descent.py:492: ConvergenceWarning: Objective did not converge. You might want to increase the number of iterations. Fitting data with very small alpha may cause precision problems.\n",
      "  ConvergenceWarning)\n",
      "/anaconda3/lib/python3.7/site-packages/sklearn/linear_model/coordinate_descent.py:492: ConvergenceWarning: Objective did not converge. You might want to increase the number of iterations. Fitting data with very small alpha may cause precision problems.\n",
      "  ConvergenceWarning)\n"
     ]
    },
    {
     "name": "stderr",
     "output_type": "stream",
     "text": [
      "/anaconda3/lib/python3.7/site-packages/sklearn/linear_model/coordinate_descent.py:492: ConvergenceWarning: Objective did not converge. You might want to increase the number of iterations. Fitting data with very small alpha may cause precision problems.\n",
      "  ConvergenceWarning)\n",
      "/anaconda3/lib/python3.7/site-packages/sklearn/linear_model/coordinate_descent.py:492: ConvergenceWarning: Objective did not converge. You might want to increase the number of iterations. Fitting data with very small alpha may cause precision problems.\n",
      "  ConvergenceWarning)\n",
      "/anaconda3/lib/python3.7/site-packages/sklearn/linear_model/coordinate_descent.py:492: ConvergenceWarning: Objective did not converge. You might want to increase the number of iterations. Fitting data with very small alpha may cause precision problems.\n",
      "  ConvergenceWarning)\n",
      "/anaconda3/lib/python3.7/site-packages/sklearn/linear_model/coordinate_descent.py:492: ConvergenceWarning: Objective did not converge. You might want to increase the number of iterations. Fitting data with very small alpha may cause precision problems.\n",
      "  ConvergenceWarning)\n",
      "/anaconda3/lib/python3.7/site-packages/sklearn/linear_model/coordinate_descent.py:492: ConvergenceWarning: Objective did not converge. You might want to increase the number of iterations. Fitting data with very small alpha may cause precision problems.\n",
      "  ConvergenceWarning)\n",
      "/anaconda3/lib/python3.7/site-packages/sklearn/linear_model/coordinate_descent.py:492: ConvergenceWarning: Objective did not converge. You might want to increase the number of iterations. Fitting data with very small alpha may cause precision problems.\n",
      "  ConvergenceWarning)\n",
      "/anaconda3/lib/python3.7/site-packages/sklearn/linear_model/coordinate_descent.py:492: ConvergenceWarning: Objective did not converge. You might want to increase the number of iterations. Fitting data with very small alpha may cause precision problems.\n",
      "  ConvergenceWarning)\n",
      "/anaconda3/lib/python3.7/site-packages/sklearn/linear_model/coordinate_descent.py:492: ConvergenceWarning: Objective did not converge. You might want to increase the number of iterations. Fitting data with very small alpha may cause precision problems.\n",
      "  ConvergenceWarning)\n",
      "/anaconda3/lib/python3.7/site-packages/sklearn/linear_model/coordinate_descent.py:492: ConvergenceWarning: Objective did not converge. You might want to increase the number of iterations. Fitting data with very small alpha may cause precision problems.\n",
      "  ConvergenceWarning)\n",
      "/anaconda3/lib/python3.7/site-packages/sklearn/linear_model/coordinate_descent.py:492: ConvergenceWarning: Objective did not converge. You might want to increase the number of iterations. Fitting data with very small alpha may cause precision problems.\n",
      "  ConvergenceWarning)\n",
      "/anaconda3/lib/python3.7/site-packages/sklearn/linear_model/coordinate_descent.py:492: ConvergenceWarning: Objective did not converge. You might want to increase the number of iterations. Fitting data with very small alpha may cause precision problems.\n",
      "  ConvergenceWarning)\n",
      "/anaconda3/lib/python3.7/site-packages/sklearn/linear_model/coordinate_descent.py:492: ConvergenceWarning: Objective did not converge. You might want to increase the number of iterations. Fitting data with very small alpha may cause precision problems.\n",
      "  ConvergenceWarning)\n",
      "/anaconda3/lib/python3.7/site-packages/sklearn/linear_model/coordinate_descent.py:492: ConvergenceWarning: Objective did not converge. You might want to increase the number of iterations. Fitting data with very small alpha may cause precision problems.\n",
      "  ConvergenceWarning)\n",
      "/anaconda3/lib/python3.7/site-packages/sklearn/linear_model/coordinate_descent.py:492: ConvergenceWarning: Objective did not converge. You might want to increase the number of iterations. Fitting data with very small alpha may cause precision problems.\n",
      "  ConvergenceWarning)\n",
      "/anaconda3/lib/python3.7/site-packages/sklearn/linear_model/coordinate_descent.py:492: ConvergenceWarning: Objective did not converge. You might want to increase the number of iterations. Fitting data with very small alpha may cause precision problems.\n",
      "  ConvergenceWarning)\n",
      "/anaconda3/lib/python3.7/site-packages/sklearn/linear_model/coordinate_descent.py:492: ConvergenceWarning: Objective did not converge. You might want to increase the number of iterations. Fitting data with very small alpha may cause precision problems.\n",
      "  ConvergenceWarning)\n",
      "/anaconda3/lib/python3.7/site-packages/sklearn/linear_model/coordinate_descent.py:492: ConvergenceWarning: Objective did not converge. You might want to increase the number of iterations. Fitting data with very small alpha may cause precision problems.\n",
      "  ConvergenceWarning)\n",
      "/anaconda3/lib/python3.7/site-packages/sklearn/linear_model/coordinate_descent.py:492: ConvergenceWarning: Objective did not converge. You might want to increase the number of iterations. Fitting data with very small alpha may cause precision problems.\n",
      "  ConvergenceWarning)\n",
      "/anaconda3/lib/python3.7/site-packages/sklearn/linear_model/coordinate_descent.py:492: ConvergenceWarning: Objective did not converge. You might want to increase the number of iterations. Fitting data with very small alpha may cause precision problems.\n",
      "  ConvergenceWarning)\n",
      "/anaconda3/lib/python3.7/site-packages/sklearn/linear_model/coordinate_descent.py:492: ConvergenceWarning: Objective did not converge. You might want to increase the number of iterations. Fitting data with very small alpha may cause precision problems.\n",
      "  ConvergenceWarning)\n",
      "/anaconda3/lib/python3.7/site-packages/sklearn/linear_model/coordinate_descent.py:492: ConvergenceWarning: Objective did not converge. You might want to increase the number of iterations. Fitting data with very small alpha may cause precision problems.\n",
      "  ConvergenceWarning)\n",
      "/anaconda3/lib/python3.7/site-packages/sklearn/linear_model/coordinate_descent.py:492: ConvergenceWarning: Objective did not converge. You might want to increase the number of iterations. Fitting data with very small alpha may cause precision problems.\n",
      "  ConvergenceWarning)\n",
      "/anaconda3/lib/python3.7/site-packages/sklearn/linear_model/coordinate_descent.py:492: ConvergenceWarning: Objective did not converge. You might want to increase the number of iterations. Fitting data with very small alpha may cause precision problems.\n",
      "  ConvergenceWarning)\n",
      "/anaconda3/lib/python3.7/site-packages/sklearn/linear_model/coordinate_descent.py:492: ConvergenceWarning: Objective did not converge. You might want to increase the number of iterations. Fitting data with very small alpha may cause precision problems.\n",
      "  ConvergenceWarning)\n",
      "/anaconda3/lib/python3.7/site-packages/sklearn/linear_model/coordinate_descent.py:492: ConvergenceWarning: Objective did not converge. You might want to increase the number of iterations. Fitting data with very small alpha may cause precision problems.\n",
      "  ConvergenceWarning)\n",
      "/anaconda3/lib/python3.7/site-packages/sklearn/linear_model/coordinate_descent.py:492: ConvergenceWarning: Objective did not converge. You might want to increase the number of iterations. Fitting data with very small alpha may cause precision problems.\n",
      "  ConvergenceWarning)\n",
      "/anaconda3/lib/python3.7/site-packages/sklearn/linear_model/coordinate_descent.py:492: ConvergenceWarning: Objective did not converge. You might want to increase the number of iterations. Fitting data with very small alpha may cause precision problems.\n",
      "  ConvergenceWarning)\n",
      "/anaconda3/lib/python3.7/site-packages/sklearn/linear_model/coordinate_descent.py:492: ConvergenceWarning: Objective did not converge. You might want to increase the number of iterations. Fitting data with very small alpha may cause precision problems.\n",
      "  ConvergenceWarning)\n",
      "/anaconda3/lib/python3.7/site-packages/sklearn/linear_model/coordinate_descent.py:492: ConvergenceWarning: Objective did not converge. You might want to increase the number of iterations. Fitting data with very small alpha may cause precision problems.\n",
      "  ConvergenceWarning)\n",
      "/anaconda3/lib/python3.7/site-packages/sklearn/linear_model/coordinate_descent.py:492: ConvergenceWarning: Objective did not converge. You might want to increase the number of iterations. Fitting data with very small alpha may cause precision problems.\n",
      "  ConvergenceWarning)\n",
      "/anaconda3/lib/python3.7/site-packages/sklearn/linear_model/coordinate_descent.py:492: ConvergenceWarning: Objective did not converge. You might want to increase the number of iterations. Fitting data with very small alpha may cause precision problems.\n",
      "  ConvergenceWarning)\n",
      "/anaconda3/lib/python3.7/site-packages/sklearn/linear_model/coordinate_descent.py:492: ConvergenceWarning: Objective did not converge. You might want to increase the number of iterations. Fitting data with very small alpha may cause precision problems.\n",
      "  ConvergenceWarning)\n"
     ]
    },
    {
     "name": "stderr",
     "output_type": "stream",
     "text": [
      "/anaconda3/lib/python3.7/site-packages/sklearn/linear_model/coordinate_descent.py:492: ConvergenceWarning: Objective did not converge. You might want to increase the number of iterations. Fitting data with very small alpha may cause precision problems.\n",
      "  ConvergenceWarning)\n",
      "/anaconda3/lib/python3.7/site-packages/sklearn/linear_model/coordinate_descent.py:492: ConvergenceWarning: Objective did not converge. You might want to increase the number of iterations. Fitting data with very small alpha may cause precision problems.\n",
      "  ConvergenceWarning)\n",
      "/anaconda3/lib/python3.7/site-packages/sklearn/linear_model/coordinate_descent.py:492: ConvergenceWarning: Objective did not converge. You might want to increase the number of iterations. Fitting data with very small alpha may cause precision problems.\n",
      "  ConvergenceWarning)\n",
      "/anaconda3/lib/python3.7/site-packages/sklearn/linear_model/coordinate_descent.py:492: ConvergenceWarning: Objective did not converge. You might want to increase the number of iterations. Fitting data with very small alpha may cause precision problems.\n",
      "  ConvergenceWarning)\n",
      "/anaconda3/lib/python3.7/site-packages/sklearn/linear_model/coordinate_descent.py:492: ConvergenceWarning: Objective did not converge. You might want to increase the number of iterations. Fitting data with very small alpha may cause precision problems.\n",
      "  ConvergenceWarning)\n",
      "/anaconda3/lib/python3.7/site-packages/sklearn/linear_model/coordinate_descent.py:492: ConvergenceWarning: Objective did not converge. You might want to increase the number of iterations. Fitting data with very small alpha may cause precision problems.\n",
      "  ConvergenceWarning)\n",
      "/anaconda3/lib/python3.7/site-packages/sklearn/linear_model/coordinate_descent.py:492: ConvergenceWarning: Objective did not converge. You might want to increase the number of iterations. Fitting data with very small alpha may cause precision problems.\n",
      "  ConvergenceWarning)\n",
      "/anaconda3/lib/python3.7/site-packages/sklearn/linear_model/coordinate_descent.py:492: ConvergenceWarning: Objective did not converge. You might want to increase the number of iterations. Fitting data with very small alpha may cause precision problems.\n",
      "  ConvergenceWarning)\n",
      "/anaconda3/lib/python3.7/site-packages/sklearn/linear_model/coordinate_descent.py:492: ConvergenceWarning: Objective did not converge. You might want to increase the number of iterations. Fitting data with very small alpha may cause precision problems.\n",
      "  ConvergenceWarning)\n",
      "/anaconda3/lib/python3.7/site-packages/sklearn/linear_model/coordinate_descent.py:492: ConvergenceWarning: Objective did not converge. You might want to increase the number of iterations. Fitting data with very small alpha may cause precision problems.\n",
      "  ConvergenceWarning)\n",
      "/anaconda3/lib/python3.7/site-packages/sklearn/linear_model/coordinate_descent.py:492: ConvergenceWarning: Objective did not converge. You might want to increase the number of iterations. Fitting data with very small alpha may cause precision problems.\n",
      "  ConvergenceWarning)\n",
      "/anaconda3/lib/python3.7/site-packages/sklearn/linear_model/coordinate_descent.py:492: ConvergenceWarning: Objective did not converge. You might want to increase the number of iterations. Fitting data with very small alpha may cause precision problems.\n",
      "  ConvergenceWarning)\n",
      "/anaconda3/lib/python3.7/site-packages/sklearn/linear_model/coordinate_descent.py:492: ConvergenceWarning: Objective did not converge. You might want to increase the number of iterations. Fitting data with very small alpha may cause precision problems.\n",
      "  ConvergenceWarning)\n",
      "/anaconda3/lib/python3.7/site-packages/sklearn/linear_model/coordinate_descent.py:492: ConvergenceWarning: Objective did not converge. You might want to increase the number of iterations. Fitting data with very small alpha may cause precision problems.\n",
      "  ConvergenceWarning)\n",
      "/anaconda3/lib/python3.7/site-packages/sklearn/linear_model/coordinate_descent.py:492: ConvergenceWarning: Objective did not converge. You might want to increase the number of iterations. Fitting data with very small alpha may cause precision problems.\n",
      "  ConvergenceWarning)\n",
      "/anaconda3/lib/python3.7/site-packages/sklearn/linear_model/coordinate_descent.py:492: ConvergenceWarning: Objective did not converge. You might want to increase the number of iterations. Fitting data with very small alpha may cause precision problems.\n",
      "  ConvergenceWarning)\n",
      "/anaconda3/lib/python3.7/site-packages/sklearn/linear_model/coordinate_descent.py:492: ConvergenceWarning: Objective did not converge. You might want to increase the number of iterations. Fitting data with very small alpha may cause precision problems.\n",
      "  ConvergenceWarning)\n",
      "/anaconda3/lib/python3.7/site-packages/sklearn/linear_model/coordinate_descent.py:492: ConvergenceWarning: Objective did not converge. You might want to increase the number of iterations. Fitting data with very small alpha may cause precision problems.\n",
      "  ConvergenceWarning)\n",
      "/anaconda3/lib/python3.7/site-packages/sklearn/linear_model/coordinate_descent.py:492: ConvergenceWarning: Objective did not converge. You might want to increase the number of iterations. Fitting data with very small alpha may cause precision problems.\n",
      "  ConvergenceWarning)\n",
      "/anaconda3/lib/python3.7/site-packages/sklearn/linear_model/coordinate_descent.py:492: ConvergenceWarning: Objective did not converge. You might want to increase the number of iterations. Fitting data with very small alpha may cause precision problems.\n",
      "  ConvergenceWarning)\n",
      "/anaconda3/lib/python3.7/site-packages/sklearn/linear_model/coordinate_descent.py:492: ConvergenceWarning: Objective did not converge. You might want to increase the number of iterations. Fitting data with very small alpha may cause precision problems.\n",
      "  ConvergenceWarning)\n",
      "/anaconda3/lib/python3.7/site-packages/sklearn/linear_model/coordinate_descent.py:492: ConvergenceWarning: Objective did not converge. You might want to increase the number of iterations. Fitting data with very small alpha may cause precision problems.\n",
      "  ConvergenceWarning)\n",
      "/anaconda3/lib/python3.7/site-packages/sklearn/linear_model/coordinate_descent.py:492: ConvergenceWarning: Objective did not converge. You might want to increase the number of iterations. Fitting data with very small alpha may cause precision problems.\n",
      "  ConvergenceWarning)\n",
      "/anaconda3/lib/python3.7/site-packages/sklearn/linear_model/coordinate_descent.py:492: ConvergenceWarning: Objective did not converge. You might want to increase the number of iterations. Fitting data with very small alpha may cause precision problems.\n",
      "  ConvergenceWarning)\n",
      "/anaconda3/lib/python3.7/site-packages/sklearn/linear_model/coordinate_descent.py:492: ConvergenceWarning: Objective did not converge. You might want to increase the number of iterations. Fitting data with very small alpha may cause precision problems.\n",
      "  ConvergenceWarning)\n",
      "/anaconda3/lib/python3.7/site-packages/sklearn/linear_model/coordinate_descent.py:492: ConvergenceWarning: Objective did not converge. You might want to increase the number of iterations. Fitting data with very small alpha may cause precision problems.\n",
      "  ConvergenceWarning)\n",
      "/anaconda3/lib/python3.7/site-packages/sklearn/linear_model/coordinate_descent.py:492: ConvergenceWarning: Objective did not converge. You might want to increase the number of iterations. Fitting data with very small alpha may cause precision problems.\n",
      "  ConvergenceWarning)\n"
     ]
    },
    {
     "data": {
      "text/plain": [
       "LassoCV(alphas=array([1.00000e-02, 1.04737e-02, ..., 9.54772e+01, 1.00000e+02]),\n",
       "    copy_X=True, cv=5, eps=0.001, fit_intercept=True, max_iter=1000,\n",
       "    n_alphas=100, n_jobs=None, normalize=False, positive=False,\n",
       "    precompute='auto', random_state=None, selection='cyclic', tol=0.0001,\n",
       "    verbose=False)"
      ]
     },
     "execution_count": 65,
     "metadata": {},
     "output_type": "execute_result"
    }
   ],
   "source": [
    "alphavec = 10**np.linspace(-2,2,200)\n",
    "\n",
    "lasso_model = LassoCV(alphas = alphavec, cv=5)\n",
    "lasso_model.fit(X_tr, y)"
   ]
  },
  {
   "cell_type": "code",
   "execution_count": 66,
   "metadata": {
    "ExecuteTime": {
     "end_time": "2019-07-23T01:14:55.226030Z",
     "start_time": "2019-07-23T01:14:55.223040Z"
    }
   },
   "outputs": [
    {
     "data": {
      "text/plain": [
       "2.704959730463134"
      ]
     },
     "execution_count": 66,
     "metadata": {},
     "output_type": "execute_result"
    }
   ],
   "source": [
    "#Returns Optimal Alpha for test\n",
    "lasso_model.alpha_"
   ]
  },
  {
   "cell_type": "code",
   "execution_count": 67,
   "metadata": {
    "ExecuteTime": {
     "end_time": "2019-07-23T01:14:55.243746Z",
     "start_time": "2019-07-23T01:14:55.227625Z"
    }
   },
   "outputs": [
    {
     "data": {
      "text/plain": [
       "[('1', 0.0),\n",
       " ('x0', 0.0),\n",
       " ('x1', 0.0),\n",
       " ('x2', 0.0),\n",
       " ('x3', -0.0),\n",
       " ('x4', -0.0),\n",
       " ('x5', 0.0),\n",
       " ('x6', 0.0),\n",
       " ('x7', 0.0),\n",
       " ('x8', 0.0),\n",
       " ('x9', 0.0),\n",
       " ('x10', 0.0),\n",
       " ('x11', 0.0),\n",
       " ('x12', -0.0),\n",
       " ('x13', 0.0),\n",
       " ('x14', -0.0),\n",
       " ('x15', -0.0),\n",
       " ('x16', -0.0),\n",
       " ('x17', -0.0),\n",
       " ('x18', -0.0),\n",
       " ('x19', -0.0),\n",
       " ('x20', 0.0),\n",
       " ('x0^2', 0.0),\n",
       " ('x0 x1', 13.292131148108052),\n",
       " ('x0 x2', 15.470285457427625),\n",
       " ('x0 x3', 0.0),\n",
       " ('x0 x4', -0.0),\n",
       " ('x0 x5', 0.0),\n",
       " ('x0 x6', 0.0),\n",
       " ('x0 x7', 9.95548717451366),\n",
       " ('x0 x8', 20.710001861614963),\n",
       " ('x0 x9', 0.0),\n",
       " ('x0 x10', 0.0),\n",
       " ('x0 x11', 0.0),\n",
       " ('x0 x12', -0.0),\n",
       " ('x0 x13', 0.0),\n",
       " ('x0 x14', 2.5037756801880025),\n",
       " ('x0 x15', -8.511274139273159),\n",
       " ('x0 x16', -0.0),\n",
       " ('x0 x17', -0.0),\n",
       " ('x0 x18', -0.0),\n",
       " ('x0 x19', -5.292912888758743),\n",
       " ('x0 x20', 0.0),\n",
       " ('x1^2', 0.0),\n",
       " ('x1 x2', 9.783778998387053),\n",
       " ('x1 x3', 0.0),\n",
       " ('x1 x4', -4.812051775093647),\n",
       " ('x1 x5', 0.0),\n",
       " ('x1 x6', 0.0),\n",
       " ('x1 x7', 0.0),\n",
       " ('x1 x8', 0.0),\n",
       " ('x1 x9', 0.0),\n",
       " ('x1 x10', 0.0),\n",
       " ('x1 x11', 0.0),\n",
       " ('x1 x12', -0.0),\n",
       " ('x1 x13', 0.0),\n",
       " ('x1 x14', 0.0),\n",
       " ('x1 x15', -4.357638819254257),\n",
       " ('x1 x16', -0.0),\n",
       " ('x1 x17', -0.0),\n",
       " ('x1 x18', -0.0),\n",
       " ('x1 x19', -0.0),\n",
       " ('x1 x20', 0.0),\n",
       " ('x2^2', -0.0),\n",
       " ('x2 x3', -0.0),\n",
       " ('x2 x4', -0.0),\n",
       " ('x2 x5', 0.0),\n",
       " ('x2 x6', 0.0),\n",
       " ('x2 x7', 0.0),\n",
       " ('x2 x8', 0.0),\n",
       " ('x2 x9', 0.0),\n",
       " ('x2 x10', 0.0),\n",
       " ('x2 x11', 0.0),\n",
       " ('x2 x12', -0.0),\n",
       " ('x2 x13', 0.0),\n",
       " ('x2 x14', -0.0),\n",
       " ('x2 x15', -0.0),\n",
       " ('x2 x16', -15.236018149929286),\n",
       " ('x2 x17', -0.0),\n",
       " ('x2 x18', -20.67574161233981),\n",
       " ('x2 x19', -0.0),\n",
       " ('x2 x20', 0.0),\n",
       " ('x3^2', -0.0),\n",
       " ('x3 x4', -0.0),\n",
       " ('x3 x5', -0.0),\n",
       " ('x3 x6', -0.0),\n",
       " ('x3 x7', -0.0),\n",
       " ('x3 x8', -0.0),\n",
       " ('x3 x9', -0.0),\n",
       " ('x3 x10', -0.0),\n",
       " ('x3 x11', -0.0),\n",
       " ('x3 x12', -0.0),\n",
       " ('x3 x13', 0.0),\n",
       " ('x3 x14', -0.0),\n",
       " ('x3 x15', -0.0),\n",
       " ('x3 x16', -23.195628192608883),\n",
       " ('x3 x17', -0.0),\n",
       " ('x3 x18', -0.0),\n",
       " ('x3 x19', -0.0),\n",
       " ('x3 x20', 0.0),\n",
       " ('x4^2', -0.0),\n",
       " ('x4 x5', -0.0),\n",
       " ('x4 x6', -0.0),\n",
       " ('x4 x7', -0.0),\n",
       " ('x4 x8', -0.0),\n",
       " ('x4 x9', -0.0),\n",
       " ('x4 x10', -0.0),\n",
       " ('x4 x11', -0.0),\n",
       " ('x4 x12', -0.0),\n",
       " ('x4 x13', -0.0),\n",
       " ('x4 x14', 0.0),\n",
       " ('x4 x15', -0.0),\n",
       " ('x4 x16', -2.966879665622561),\n",
       " ('x4 x17', -0.0),\n",
       " ('x4 x18', -0.0),\n",
       " ('x4 x19', -0.0),\n",
       " ('x4 x20', 0.0),\n",
       " ('x5^2', 7.644269250970355),\n",
       " ('x5 x6', 0.0),\n",
       " ('x5 x7', 1.7190974267132297),\n",
       " ('x5 x8', 6.811305827833163),\n",
       " ('x5 x9', 0.0),\n",
       " ('x5 x10', 0.0),\n",
       " ('x5 x11', 0.0),\n",
       " ('x5 x12', -0.0),\n",
       " ('x5 x13', 12.377661739658018),\n",
       " ('x5 x14', -0.0),\n",
       " ('x5 x15', -21.684668098891823),\n",
       " ('x5 x16', -0.0),\n",
       " ('x5 x17', -0.0),\n",
       " ('x5 x18', -0.0),\n",
       " ('x5 x19', -0.40766762806554485),\n",
       " ('x5 x20', 0.0),\n",
       " ('x6^2', 0.0),\n",
       " ('x6 x7', 0.0),\n",
       " ('x6 x8', 0.0),\n",
       " ('x6 x9', 0.0),\n",
       " ('x6 x10', 0.0),\n",
       " ('x6 x11', 0.0),\n",
       " ('x6 x12', -0.0),\n",
       " ('x6 x13', 0.0),\n",
       " ('x6 x14', -0.0),\n",
       " ('x6 x15', -0.0),\n",
       " ('x6 x16', -0.0),\n",
       " ('x6 x17', -0.0),\n",
       " ('x6 x18', -0.0),\n",
       " ('x6 x19', -0.0),\n",
       " ('x6 x20', 0.0),\n",
       " ('x7^2', 0.0),\n",
       " ('x7 x8', 0.0),\n",
       " ('x7 x9', 0.0),\n",
       " ('x7 x10', 0.0),\n",
       " ('x7 x11', 0.0),\n",
       " ('x7 x12', -0.0),\n",
       " ('x7 x13', 0.0),\n",
       " ('x7 x14', -0.0),\n",
       " ('x7 x15', -0.0),\n",
       " ('x7 x16', -0.0),\n",
       " ('x7 x17', -12.163706316598258),\n",
       " ('x7 x18', -0.0),\n",
       " ('x7 x19', -0.0),\n",
       " ('x7 x20', 0.0),\n",
       " ('x8^2', 0.0),\n",
       " ('x8 x9', 0.0),\n",
       " ('x8 x10', 0.0),\n",
       " ('x8 x11', 0.0),\n",
       " ('x8 x12', -0.0),\n",
       " ('x8 x13', 0.0),\n",
       " ('x8 x14', -0.0),\n",
       " ('x8 x15', -0.0),\n",
       " ('x8 x16', -0.0),\n",
       " ('x8 x17', -0.0),\n",
       " ('x8 x18', -0.0),\n",
       " ('x8 x19', -0.0),\n",
       " ('x8 x20', 0.0),\n",
       " ('x9^2', 0.0),\n",
       " ('x9 x10', 0.0),\n",
       " ('x9 x11', 0.0),\n",
       " ('x9 x12', -0.0),\n",
       " ('x9 x13', 0.0),\n",
       " ('x9 x14', -0.0),\n",
       " ('x9 x15', -0.0),\n",
       " ('x9 x16', -0.0),\n",
       " ('x9 x17', -0.0),\n",
       " ('x9 x18', -0.0),\n",
       " ('x9 x19', -0.0),\n",
       " ('x9 x20', 0.0),\n",
       " ('x10^2', 0.0),\n",
       " ('x10 x11', 0.0),\n",
       " ('x10 x12', -0.0),\n",
       " ('x10 x13', 0.0),\n",
       " ('x10 x14', -0.0),\n",
       " ('x10 x15', -0.0),\n",
       " ('x10 x16', -0.0),\n",
       " ('x10 x17', -0.0),\n",
       " ('x10 x18', -0.0),\n",
       " ('x10 x19', -0.0),\n",
       " ('x10 x20', 0.0),\n",
       " ('x11^2', 0.0),\n",
       " ('x11 x12', -0.0),\n",
       " ('x11 x13', 0.0),\n",
       " ('x11 x14', -0.0),\n",
       " ('x11 x15', -0.0),\n",
       " ('x11 x16', -0.0),\n",
       " ('x11 x17', -0.0),\n",
       " ('x11 x18', -12.78594894690752),\n",
       " ('x11 x19', -12.08141448927739),\n",
       " ('x11 x20', 0.0),\n",
       " ('x12^2', -0.0),\n",
       " ('x12 x13', 0.0),\n",
       " ('x12 x14', 0.0),\n",
       " ('x12 x15', -0.30789666064433674),\n",
       " ('x12 x16', -0.0),\n",
       " ('x12 x17', -0.0),\n",
       " ('x12 x18', -0.0),\n",
       " ('x12 x19', -0.0),\n",
       " ('x12 x20', 0.0),\n",
       " ('x13^2', 0.0),\n",
       " ('x13 x14', 0.0),\n",
       " ('x13 x15', 0.0),\n",
       " ('x13 x16', -0.0),\n",
       " ('x13 x17', -0.0),\n",
       " ('x13 x18', -1.5891963063006413),\n",
       " ('x13 x19', -5.8872247110009495),\n",
       " ('x13 x20', -0.0),\n",
       " ('x14^2', -0.0),\n",
       " ('x14 x15', 0.0),\n",
       " ('x14 x16', -0.0),\n",
       " ('x14 x17', -0.0),\n",
       " ('x14 x18', -4.0287625061879675),\n",
       " ('x14 x19', -6.435016375187839),\n",
       " ('x14 x20', 0.0),\n",
       " ('x15^2', -0.0),\n",
       " ('x15 x16', -0.0),\n",
       " ('x15 x17', 0.0),\n",
       " ('x15 x18', 0.0),\n",
       " ('x15 x19', 0.0),\n",
       " ('x15 x20', -0.0),\n",
       " ('x16^2', -0.0),\n",
       " ('x16 x17', 0.0),\n",
       " ('x16 x18', 0.0),\n",
       " ('x16 x19', -0.0),\n",
       " ('x16 x20', 0.0),\n",
       " ('x17^2', -0.0),\n",
       " ('x17 x18', 0.0),\n",
       " ('x17 x19', 0.0),\n",
       " ('x17 x20', 0.0),\n",
       " ('x18^2', -0.0),\n",
       " ('x18 x19', -0.0),\n",
       " ('x18 x20', -0.0),\n",
       " ('x19^2', -0.0),\n",
       " ('x19 x20', -0.0),\n",
       " ('x20^2', 0.0)]"
      ]
     },
     "execution_count": 67,
     "metadata": {},
     "output_type": "execute_result"
    }
   ],
   "source": [
    "#The Coefficients of the Optimal Lasso Model\n",
    "#Try to get Feature names\n",
    "\n",
    "list(zip(p.get_feature_names(),lasso_model.coef_))"
   ]
  },
  {
   "cell_type": "code",
   "execution_count": 68,
   "metadata": {
    "ExecuteTime": {
     "end_time": "2019-07-23T01:14:55.254959Z",
     "start_time": "2019-07-23T01:14:55.250751Z"
    }
   },
   "outputs": [
    {
     "data": {
      "text/plain": [
       "0.7024507706066243"
      ]
     },
     "execution_count": 68,
     "metadata": {},
     "output_type": "execute_result"
    }
   ],
   "source": [
    "#Lasso Score with polyreg\n",
    "test_set_pred = lasso_model.predict(X_te)\n",
    "r2_score(y_test, test_set_pred)\n",
    "\n",
    "#0.6762909752585203 with new_listing column\n",
    "#0.7177735986217615 with new listing and total stars\n",
    "#0.7154364397197761 with no additional features\n",
    "#0.7177735986217615 with only new listing\n",
    "#0.7178169919654773 with new listing and total stars\n",
    "#0.642174781650235 removing hotel data"
   ]
  },
  {
   "cell_type": "code",
   "execution_count": 76,
   "metadata": {
    "ExecuteTime": {
     "end_time": "2019-07-23T01:15:21.910917Z",
     "start_time": "2019-07-23T01:15:21.736752Z"
    }
   },
   "outputs": [
    {
     "data": {
      "image/png": "[encoded data removed]",
      "text/plain": [
       "<Figure size 1080x720 with 1 Axes>"
      ]
     },
     "metadata": {
      "needs_background": "light"
     },
     "output_type": "display_data"
    }
   ],
   "source": [
    "plt.figure(figsize = (15,10))\n",
    "plt.scatter(test_set_pred, y_test, alpha=.25)\n",
    "\n",
    "plt.title('Test Results vs Predicted Results', fontsize = 15)\n",
    "plt.xlabel(\"Predicted\",fontsize = 15)\n",
    "plt.ylabel(\"Test\",fontsize = 15)\n",
    "plt.plot(np.linspace(50,600,50), np.linspace(50,600,50));"
   ]
  },
  {
   "cell_type": "code",
   "execution_count": 70,
   "metadata": {
    "ExecuteTime": {
     "end_time": "2019-07-23T01:14:58.160032Z",
     "start_time": "2019-07-23T01:14:55.464056Z"
    }
   },
   "outputs": [
    {
     "name": "stderr",
     "output_type": "stream",
     "text": [
      "/anaconda3/lib/python3.7/site-packages/sklearn/model_selection/_search.py:841: DeprecationWarning: The default of the `iid` parameter will change from True to False in version 0.22 and will be removed in 0.24. This will change numeric results when test-set sizes are unequal.\n",
      "  DeprecationWarning)\n"
     ]
    },
    {
     "data": {
      "text/plain": [
       "RidgeCV(alphas=array([1.00000e-02, 1.04737e-02, ..., 9.54772e+01, 1.00000e+02]),\n",
       "    cv=5, fit_intercept=True, gcv_mode=None, normalize=False, scoring=None,\n",
       "    store_cv_values=False)"
      ]
     },
     "execution_count": 70,
     "metadata": {},
     "output_type": "execute_result"
    }
   ],
   "source": [
    "#Polyreg with Ridge Regularization\n",
    "\n",
    "alphavec = 10**np.linspace(-2,2,200)\n",
    "\n",
    "ridge_model = RidgeCV(alphas = alphavec, cv=5)\n",
    "ridge_model.fit(X_tr, y)"
   ]
  },
  {
   "cell_type": "code",
   "execution_count": 71,
   "metadata": {
    "ExecuteTime": {
     "end_time": "2019-07-23T01:14:58.164856Z",
     "start_time": "2019-07-23T01:14:58.161617Z"
    }
   },
   "outputs": [
    {
     "data": {
      "text/plain": [
       "100.0"
      ]
     },
     "execution_count": 71,
     "metadata": {},
     "output_type": "execute_result"
    }
   ],
   "source": [
    "ridge_model.alpha_"
   ]
  },
  {
   "cell_type": "code",
   "execution_count": 72,
   "metadata": {
    "ExecuteTime": {
     "end_time": "2019-07-23T01:14:58.182546Z",
     "start_time": "2019-07-23T01:14:58.166347Z"
    }
   },
   "outputs": [
    {
     "data": {
      "text/plain": [
       "[('1', 0.0),\n",
       " ('x0', 2.5110369139110844),\n",
       " ('x1', 0.331259800363908),\n",
       " ('x2', 0.14283824742526766),\n",
       " ('x3', -0.24899896829154491),\n",
       " ('x4', -1.6585176218155626),\n",
       " ('x5', 1.5016148664408266),\n",
       " ('x6', -0.9680852998115616),\n",
       " ('x7', 0.3692456161932006),\n",
       " ('x8', 0.8671554417791542),\n",
       " ('x9', -0.6591194982423271),\n",
       " ('x10', -0.6591194982423252),\n",
       " ('x11', -2.0567924070055446),\n",
       " ('x12', -0.5859379920591665),\n",
       " ('x13', 2.7899534802021577),\n",
       " ('x14', -1.6723926181660869),\n",
       " ('x15', -3.3898669446417773),\n",
       " ('x16', -1.8122078619919322),\n",
       " ('x17', -1.9201190925845075),\n",
       " ('x18', -2.4321471701856203),\n",
       " ('x19', -0.14866393696596755),\n",
       " ('x20', -0.2641130237513337),\n",
       " ('x0^2', 6.4815521763601405),\n",
       " ('x0 x1', 6.353078924013294),\n",
       " ('x0 x2', 10.498740684658088),\n",
       " ('x0 x3', 3.7425983917942656),\n",
       " ('x0 x4', 1.6481899062561396),\n",
       " ('x0 x5', 3.1178321653612984),\n",
       " ('x0 x6', 2.61649182017508),\n",
       " ('x0 x7', 4.061832660273243),\n",
       " ('x0 x8', 3.8610356541342483),\n",
       " ('x0 x9', 3.247998644036785),\n",
       " ('x0 x10', 3.2479986440367923),\n",
       " ('x0 x11', 2.4050489941625424),\n",
       " ('x0 x12', 2.67100260569851),\n",
       " ('x0 x13', -4.132350003281363),\n",
       " ('x0 x14', 8.105989506813417),\n",
       " ('x0 x15', -4.413306746432689),\n",
       " ('x0 x16', -2.569701714075508),\n",
       " ('x0 x17', -2.500541148794635),\n",
       " ('x0 x18', 4.319886768130337),\n",
       " ('x0 x19', -4.81345804465685),\n",
       " ('x0 x20', 2.929820232100623),\n",
       " ('x1^2', -1.9237521575859071),\n",
       " ('x1 x2', 9.511244668906636),\n",
       " ('x1 x3', 3.097170291143376),\n",
       " ('x1 x4', -5.864421614265261),\n",
       " ('x1 x5', 0.8359669630834969),\n",
       " ('x1 x6', 0.15972408216001677),\n",
       " ('x1 x7', 1.6142340164892561),\n",
       " ('x1 x8', 0.4788882387909554),\n",
       " ('x1 x9', 0.9460200057501091),\n",
       " ('x1 x10', 0.946020005750109),\n",
       " ('x1 x11', 0.5091494332633197),\n",
       " ('x1 x12', -4.733546178581228),\n",
       " ('x1 x13', -1.7005813177967362),\n",
       " ('x1 x14', 2.5878363517257945),\n",
       " ('x1 x15', -4.74905197447534),\n",
       " ('x1 x16', -0.8390445146760965),\n",
       " ('x1 x17', 1.7882025961640007),\n",
       " ('x1 x18', -2.432147170185586),\n",
       " ('x1 x19', -1.6740533872001568),\n",
       " ('x1 x20', -2.5340000153800712),\n",
       " ('x2^2', -6.522767060227307),\n",
       " ('x2 x3', -1.5566887928093578),\n",
       " ('x2 x4', -0.6701081503992132),\n",
       " ('x2 x5', 0.6445009646672123),\n",
       " ('x2 x6', 0.8338007986105376),\n",
       " ('x2 x7', 0.5681287114199708),\n",
       " ('x2 x8', 0.8894587738671887),\n",
       " ('x2 x9', 0.8802705705892718),\n",
       " ('x2 x10', 0.8802705705892713),\n",
       " ('x2 x11', 0.032767859137688544),\n",
       " ('x2 x12', 0.6987050270373284),\n",
       " ('x2 x13', 1.2907105614640741),\n",
       " ('x2 x14', 0.8267944641566211),\n",
       " ('x2 x15', -0.9150266459299733),\n",
       " ('x2 x16', -6.657824678261221),\n",
       " ('x2 x17', -1.9201190925845408),\n",
       " ('x2 x18', -8.272863863657667),\n",
       " ('x2 x19', -5.799677364789923),\n",
       " ('x2 x20', 2.0643944527359235),\n",
       " ('x3^2', -0.379654458422177),\n",
       " ('x3 x4', -2.5768004242242495),\n",
       " ('x3 x5', -0.9430432650915234),\n",
       " ('x3 x6', -1.331836138914989),\n",
       " ('x3 x7', -0.446276153869973),\n",
       " ('x3 x8', -1.2211719156136216),\n",
       " ('x3 x9', -0.41827271341008565),\n",
       " ('x3 x10', -0.41827271341008543),\n",
       " ('x3 x11', -0.24397243918737163),\n",
       " ('x3 x12', -1.807404423390401),\n",
       " ('x3 x13', 0.6833350283275708),\n",
       " ('x3 x14', 0.7779842549918355),\n",
       " ('x3 x15', -1.849687859724332),\n",
       " ('x3 x16', -4.305862783334631),\n",
       " ('x3 x17', -0.24472321920815449),\n",
       " ('x3 x18', -2.075933838453648),\n",
       " ('x3 x19', 0.12959623248325056),\n",
       " ('x3 x20', -1.2376414427017552),\n",
       " ('x4^2', 2.0875640822486075),\n",
       " ('x4 x5', -0.5859379920591634),\n",
       " ('x4 x6', -0.9504568088557512),\n",
       " ('x4 x7', -1.4570306844991046),\n",
       " ('x4 x8', -0.9351801959625828),\n",
       " ('x4 x9', -1.112963409038009),\n",
       " ('x4 x10', -1.112963409038009),\n",
       " ('x4 x11', -0.8410877049015145),\n",
       " ('x4 x12', 2.509899897490624),\n",
       " ('x4 x13', -1.155038202982107),\n",
       " ('x4 x14', 2.5277582621699572),\n",
       " ('x4 x15', 0.8466278865005765),\n",
       " ('x4 x16', -1.514272161911104),\n",
       " ('x4 x17', 1.0780883949947715),\n",
       " ('x4 x18', 1.6886131170759493),\n",
       " ('x4 x19', 2.4732117088003878),\n",
       " ('x4 x20', 2.070579629475887),\n",
       " ('x5^2', 3.272559645126521),\n",
       " ('x5 x6', 1.818991350758514),\n",
       " ('x5 x7', 2.821505393590847),\n",
       " ('x5 x8', 2.886810916264761),\n",
       " ('x5 x9', 1.8600358245823856),\n",
       " ('x5 x10', 1.8600358245823845),\n",
       " ('x5 x11', 1.9639718543022255),\n",
       " ('x5 x12', 0.5454581808123513),\n",
       " ('x5 x13', 2.642846249059777),\n",
       " ('x5 x14', -0.7891923522182421),\n",
       " ('x5 x15', -5.133996583058952),\n",
       " ('x5 x16', -4.325163894259023),\n",
       " ('x5 x17', -2.1478209294551354),\n",
       " ('x5 x18', -3.526259983207835),\n",
       " ('x5 x19', -2.9753297724104466),\n",
       " ('x5 x20', -0.12803292899106258),\n",
       " ('x6^2', -0.2909892815529866),\n",
       " ('x6 x7', 0.5200052317263113),\n",
       " ('x6 x8', 1.0160475393153348),\n",
       " ('x6 x9', 0.008719153250109864),\n",
       " ('x6 x10', 0.008719153250110268),\n",
       " ('x6 x11', -1.1618274184608834),\n",
       " ('x6 x12', 0.1758401107686279),\n",
       " ('x6 x13', 2.7848461622582774),\n",
       " ('x6 x14', -0.6685355653640822),\n",
       " ('x6 x15', -3.689175893846854),\n",
       " ('x6 x16', -3.1157776558067023),\n",
       " ('x6 x17', -1.9452168029724821),\n",
       " ('x6 x18', -2.679726386908971),\n",
       " ('x6 x19', -1.6512231554957664),\n",
       " ('x6 x20', -0.7829401811220162),\n",
       " ('x7^2', 0.4342764578569194),\n",
       " ('x7 x8', 1.8849283736489815),\n",
       " ('x7 x9', -0.04869182327177136),\n",
       " ('x7 x10', -0.04869182327177038),\n",
       " ('x7 x11', -0.4191066098074645),\n",
       " ('x7 x12', -0.3319261667524713),\n",
       " ('x7 x13', 2.39198543445681),\n",
       " ('x7 x14', -2.336826161004353),\n",
       " ('x7 x15', -2.3611552803396805),\n",
       " ('x7 x16', -2.498271275029925),\n",
       " ('x7 x17', -2.3991556061417265),\n",
       " ('x7 x18', -2.3779986845016055),\n",
       " ('x7 x19', -1.1778932153327326),\n",
       " ('x7 x20', -0.29331819165073436),\n",
       " ('x8^2', 1.8307883613981824),\n",
       " ('x8 x9', 0.9833891240026605),\n",
       " ('x8 x10', 0.9833891240026607),\n",
       " ('x8 x11', 0.6236598037875672),\n",
       " ('x8 x12', 0.24151112641125677),\n",
       " ('x8 x13', 2.2416897136538205),\n",
       " ('x8 x14', -0.7395386394528852),\n",
       " ('x8 x15', -3.483733531967673),\n",
       " ('x8 x16', -3.604009350171135),\n",
       " ('x8 x17', -2.421239380662449),\n",
       " ('x8 x18', -3.1371699802387814),\n",
       " ('x8 x19', -2.556812531029211),\n",
       " ('x8 x20', -1.4306961819076818),\n",
       " ('x9^2', -0.5992486888997995),\n",
       " ('x9 x10', -0.5992486888997988),\n",
       " ('x9 x11', -0.5068100985025941),\n",
       " ('x9 x12', -0.019533903860103733),\n",
       " ('x9 x13', 2.4274503236845626),\n",
       " ('x9 x14', -1.7391568827862434),\n",
       " ('x9 x15', -3.1889090482596307),\n",
       " ('x9 x16', -2.678749962215665),\n",
       " ('x9 x17', -1.5996770689246913),\n",
       " ('x9 x18', -1.9444938842227752),\n",
       " ('x9 x19', -0.9966472891590444),\n",
       " ('x9 x20', -1.016519336558013),\n",
       " ('x10^2', -0.5992486888997993),\n",
       " ('x10 x11', -0.5068100985025944),\n",
       " ('x10 x12', -0.01953390386010366),\n",
       " ('x10 x13', 2.4274503236845617),\n",
       " ('x10 x14', -1.7391568827862438),\n",
       " ('x10 x15', -3.1889090482596827),\n",
       " ('x10 x16', -2.678749962215648),\n",
       " ('x10 x17', -1.5996770689246838),\n",
       " ('x10 x18', -1.9444938842227912),\n",
       " ('x10 x19', -0.9966472891589891),\n",
       " ('x10 x20', -1.0165193365580092),\n",
       " ('x11^2', -0.4844028057704049),\n",
       " ('x11 x12', 0.2803608545549717),\n",
       " ('x11 x13', 1.8252355285432185),\n",
       " ('x11 x14', -1.1471410910470599),\n",
       " ('x11 x15', -3.5149196577109567),\n",
       " ('x11 x16', -2.532203643840222),\n",
       " ('x11 x17', -1.081920655928994),\n",
       " ('x11 x18', -3.434449164697192),\n",
       " ('x11 x19', -2.0457122709727757),\n",
       " ('x11 x20', -0.8427943217791889),\n",
       " ('x12^2', 2.9272917560073446),\n",
       " ('x12 x13', -0.23272867557749116),\n",
       " ('x12 x14', 3.1084853242530484),\n",
       " ('x12 x15', 0.3945637870711251),\n",
       " ('x12 x16', -1.6910338167065062),\n",
       " ('x12 x17', 0.5896818147083087),\n",
       " ('x12 x18', 0.5402901796795079),\n",
       " ('x12 x19', 1.941244892141603),\n",
       " ('x12 x20', 2.374372075878218),\n",
       " ('x13^2', 2.7899534802021893),\n",
       " ('x13 x14', 0.0),\n",
       " ('x13 x15', 0.0),\n",
       " ('x13 x16', -6.079104557067782),\n",
       " ('x13 x17', -2.450258602613013),\n",
       " ('x13 x18', -3.849033377441789),\n",
       " ('x13 x19', -4.719466182703649),\n",
       " ('x13 x20', -4.275450452446971),\n",
       " ('x14^2', -1.6723926181661004),\n",
       " ('x14 x15', 0.0),\n",
       " ('x14 x16', -1.6913205480498985),\n",
       " ('x14 x17', 1.108548399325626),\n",
       " ('x14 x18', -4.593731850964662),\n",
       " ('x14 x19', -4.606226320880246),\n",
       " ('x14 x20', -0.30404758588145364),\n",
       " ('x15^2', -3.389866944641755),\n",
       " ('x15 x16', 3.6830056691666293),\n",
       " ('x15 x17', 0.0),\n",
       " ('x15 x18', 6.595042126841464),\n",
       " ('x15 x19', 4.598792141879207),\n",
       " ('x15 x20', -3.1404913914131383),\n",
       " ('x16^2', -1.8122078619918032),\n",
       " ('x16 x17', 0.0),\n",
       " ('x16 x18', 0.0),\n",
       " ('x16 x19', 1.9772561909930397),\n",
       " ('x16 x20', 5.033832675926623),\n",
       " ('x17^2', -1.9201190925845528),\n",
       " ('x17 x18', 0.0),\n",
       " ('x17 x19', 0.0),\n",
       " ('x17 x20', 5.605611617475889),\n",
       " ('x18^2', -2.4321471701854955),\n",
       " ('x18 x19', -2.432147170185496),\n",
       " ('x18 x20', 2.3011984443405686),\n",
       " ('x19^2', -0.14866393696606936),\n",
       " ('x19 x20', -0.6090146509878945),\n",
       " ('x20^2', -0.26411302375137474)]"
      ]
     },
     "execution_count": 72,
     "metadata": {},
     "output_type": "execute_result"
    }
   ],
   "source": [
    "list(zip(p.get_feature_names(),ridge_model.coef_))"
   ]
  },
  {
   "cell_type": "code",
   "execution_count": 73,
   "metadata": {
    "ExecuteTime": {
     "end_time": "2019-07-23T01:14:58.189553Z",
     "start_time": "2019-07-23T01:14:58.184221Z"
    }
   },
   "outputs": [
    {
     "data": {
      "text/plain": [
       "0.7105858471203182"
      ]
     },
     "execution_count": 73,
     "metadata": {},
     "output_type": "execute_result"
    }
   ],
   "source": [
    "#Ridge Score with polyreg\n",
    "test_set_pred = ridge_model.predict(X_te)\n",
    "r2_score(y_test, test_set_pred)\n",
    "\n",
    "#0.7177735986217615 with new listing and total stars\n",
    "#0.6981382096756857 with no additional features\n",
    "#0.7006449382566855 with only newlisting\n",
    "#0.7029181808761543 new_listing and total stars\n",
    "#0.6670923552817241 removing hotel data"
   ]
  },
  {
   "cell_type": "code",
   "execution_count": 74,
   "metadata": {
    "ExecuteTime": {
     "end_time": "2019-07-23T01:14:58.375124Z",
     "start_time": "2019-07-23T01:14:58.191340Z"
    }
   },
   "outputs": [
    {
     "data": {
      "image/png": "[encoded data removed]",
      "text/plain": [
       "<Figure size 1080x720 with 1 Axes>"
      ]
     },
     "metadata": {
      "needs_background": "light"
     },
     "output_type": "display_data"
    }
   ],
   "source": [
    "#Scatter Plot and Ridge\n",
    "plt.figure(figsize = (15,10))\n",
    "plt.scatter(test_set_pred, y_test, alpha=.25)\n",
    "\n",
    "plt.title('Test Results vs Predicted Results', fontsize = 15)\n",
    "plt.xlabel(\"Predicted\",fontsize = 15)\n",
    "plt.ylabel(\"Test\",fontsize = 15)\n",
    "plt.plot(np.linspace(50,600,50), np.linspace(50,600,50));"
   ]
  },
  {
   "cell_type": "code",
   "execution_count": null,
   "metadata": {},
   "outputs": [],
   "source": []
  }
 ],
 "metadata": {
  "kernelspec": {
   "display_name": "Python 3",
   "language": "python",
   "name": "python3"
  },
  "language_info": {
   "codemirror_mode": {
    "name": "ipython",
    "version": 3
   },
   "file_extension": ".py",
   "mimetype": "text/x-python",
   "name": "python",
   "nbconvert_exporter": "python",
   "pygments_lexer": "ipython3",
   "version": "3.7.3"
  },
  "toc": {
   "base_numbering": 1,
   "nav_menu": {},
   "number_sections": true,
   "sideBar": true,
   "skip_h1_title": false,
   "title_cell": "Table of Contents",
   "title_sidebar": "Contents",
   "toc_cell": false,
   "toc_position": {},
   "toc_section_display": true,
   "toc_window_display": false
  },
  "varInspector": {
   "cols": {
    "lenName": 16,
    "lenType": 16,
    "lenVar": 40
   },
   "kernels_config": {
    "python": {
     "delete_cmd_postfix": "",
     "delete_cmd_prefix": "del ",
     "library": "var_list.py",
     "varRefreshCmd": "print(var_dic_list())"
    },
    "r": {
     "delete_cmd_postfix": ") ",
     "delete_cmd_prefix": "rm(",
     "library": "var_list.r",
     "varRefreshCmd": "cat(var_dic_list()) "
    }
   },
   "types_to_exclude": [
    "module",
    "function",
    "builtin_function_or_method",
    "instance",
    "_Feature"
   ],
   "window_display": false
  }
 },
 "nbformat": 4,
 "nbformat_minor": 2
}
